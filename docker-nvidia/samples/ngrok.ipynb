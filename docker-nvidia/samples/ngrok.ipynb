{
 "cells": [
  {
   "cell_type": "code",
   "execution_count": 1,
   "id": "763c644b-dba7-4ff0-9709-77b117140ede",
   "metadata": {},
   "outputs": [
    {
     "name": "stdout",
     "output_type": "stream",
     "text": [
      "Cloning into 'codellama-chatbot'...\n",
      "remote: Enumerating objects: 18, done.\u001b[K\n",
      "remote: Counting objects: 100% (18/18), done.\u001b[K\n",
      "remote: Compressing objects: 100% (15/15), done.\u001b[K\n",
      "remote: Total 18 (delta 2), reused 6 (delta 0), pack-reused 0\u001b[K\n",
      "Unpacking objects: 100% (18/18), 189.51 KiB | 1.00 MiB/s, done.\n"
     ]
    }
   ],
   "source": [
    "!git clone https://github.com/project2you/codellama-chatbot.git"
   ]
  },
  {
   "cell_type": "code",
   "execution_count": 2,
   "id": "46100e8d-693d-4846-975f-9e93957f7a00",
   "metadata": {},
   "outputs": [
    {
     "name": "stdout",
     "output_type": "stream",
     "text": [
      "Collecting streamlit\n",
      "  Downloading streamlit-1.34.0-py2.py3-none-any.whl (8.5 MB)\n",
      "\u001b[K     |████████████████████████████████| 8.5 MB 3.1 MB/s eta 0:00:01\n",
      "\u001b[?25hCollecting toml<2,>=0.10.1\n",
      "  Downloading toml-0.10.2-py2.py3-none-any.whl (16 kB)\n",
      "Collecting numpy<2,>=1.19.3\n",
      "  Downloading numpy-1.24.4-cp38-cp38-manylinux_2_17_x86_64.manylinux2014_x86_64.whl (17.3 MB)\n",
      "\u001b[K     |████████████████████████████████| 17.3 MB 95.4 MB/s eta 0:00:01\n",
      "\u001b[?25hRequirement already satisfied: packaging<25,>=16.8 in /usr/local/lib/python3.8/dist-packages (from streamlit) (24.0)\n",
      "Collecting protobuf<5,>=3.20\n",
      "  Downloading protobuf-4.25.3-cp37-abi3-manylinux2014_x86_64.whl (294 kB)\n",
      "\u001b[K     |████████████████████████████████| 294 kB 107.2 MB/s eta 0:00:01\n",
      "\u001b[?25hCollecting watchdog>=2.1.5; platform_system != \"Darwin\"\n",
      "  Downloading watchdog-4.0.0-py3-none-manylinux2014_x86_64.whl (82 kB)\n",
      "\u001b[K     |████████████████████████████████| 82 kB 2.3 MB/s  eta 0:00:01\n",
      "\u001b[?25hCollecting pyarrow>=7.0\n",
      "  Downloading pyarrow-16.0.0-cp38-cp38-manylinux_2_17_x86_64.manylinux2014_x86_64.whl (40.9 MB)\n",
      "\u001b[K     |████████████████████████████████| 40.9 MB 105.7 MB/s eta 0:00:01\n",
      "\u001b[?25hCollecting pydeck<1,>=0.8.0b4\n",
      "  Downloading pydeck-0.9.0-py2.py3-none-any.whl (6.9 MB)\n",
      "\u001b[K     |████████████████████████████████| 6.9 MB 64.4 MB/s eta 0:00:01\n",
      "\u001b[?25hCollecting cachetools<6,>=4.0\n",
      "  Downloading cachetools-5.3.3-py3-none-any.whl (9.3 kB)\n",
      "Collecting pandas<3,>=1.3.0\n",
      "  Downloading pandas-2.0.3-cp38-cp38-manylinux_2_17_x86_64.manylinux2014_x86_64.whl (12.4 MB)\n",
      "\u001b[K     |████████████████████████████████| 12.4 MB 96.1 MB/s eta 0:00:01\n",
      "\u001b[?25hCollecting blinker<2,>=1.0.0\n",
      "  Downloading blinker-1.8.2-py3-none-any.whl (9.5 kB)\n",
      "Requirement already satisfied: requests<3,>=2.27 in /usr/local/lib/python3.8/dist-packages (from streamlit) (2.31.0)\n",
      "Collecting click<9,>=7.0\n",
      "  Downloading click-8.1.7-py3-none-any.whl (97 kB)\n",
      "\u001b[K     |████████████████████████████████| 97 kB 12.7 MB/s eta 0:00:01\n",
      "\u001b[?25hRequirement already satisfied: pillow<11,>=7.1.0 in /usr/local/lib/python3.8/dist-packages (from streamlit) (10.2.0)\n",
      "Requirement already satisfied: tornado<7,>=6.0.3 in /usr/local/lib/python3.8/dist-packages (from streamlit) (6.4)\n",
      "Requirement already satisfied: typing-extensions<5,>=4.3.0 in /usr/local/lib/python3.8/dist-packages (from streamlit) (4.10.0)\n",
      "Collecting gitpython!=3.1.19,<4,>=3.0.7\n",
      "  Downloading GitPython-3.1.43-py3-none-any.whl (207 kB)\n",
      "\u001b[K     |████████████████████████████████| 207 kB 100.0 MB/s eta 0:00:01\n",
      "\u001b[?25hCollecting rich<14,>=10.14.0\n",
      "  Downloading rich-13.7.1-py3-none-any.whl (240 kB)\n",
      "\u001b[K     |████████████████████████████████| 240 kB 50.4 MB/s eta 0:00:01\n",
      "\u001b[?25hCollecting altair<6,>=4.0\n",
      "  Downloading altair-5.3.0-py3-none-any.whl (857 kB)\n",
      "\u001b[K     |████████████████████████████████| 857 kB 55.0 MB/s eta 0:00:01\n",
      "\u001b[?25hCollecting tenacity<9,>=8.1.0\n",
      "  Downloading tenacity-8.3.0-py3-none-any.whl (25 kB)\n",
      "Requirement already satisfied: jinja2>=2.10.1 in /usr/local/lib/python3.8/dist-packages (from pydeck<1,>=0.8.0b4->streamlit) (3.1.3)\n",
      "Requirement already satisfied: pytz>=2020.1 in /usr/local/lib/python3.8/dist-packages (from pandas<3,>=1.3.0->streamlit) (2024.1)\n",
      "Requirement already satisfied: python-dateutil>=2.8.2 in /usr/local/lib/python3.8/dist-packages (from pandas<3,>=1.3.0->streamlit) (2.9.0.post0)\n",
      "Collecting tzdata>=2022.1\n",
      "  Downloading tzdata-2024.1-py2.py3-none-any.whl (345 kB)\n",
      "\u001b[K     |████████████████████████████████| 345 kB 89.8 MB/s eta 0:00:01\n",
      "\u001b[?25hRequirement already satisfied: idna<4,>=2.5 in /usr/lib/python3/dist-packages (from requests<3,>=2.27->streamlit) (2.8)\n",
      "Requirement already satisfied: certifi>=2017.4.17 in /usr/lib/python3/dist-packages (from requests<3,>=2.27->streamlit) (2019.11.28)\n",
      "Requirement already satisfied: urllib3<3,>=1.21.1 in /usr/lib/python3/dist-packages (from requests<3,>=2.27->streamlit) (1.25.8)\n",
      "Requirement already satisfied: charset-normalizer<4,>=2 in /usr/local/lib/python3.8/dist-packages (from requests<3,>=2.27->streamlit) (3.3.2)\n",
      "Collecting gitdb<5,>=4.0.1\n",
      "  Downloading gitdb-4.0.11-py3-none-any.whl (62 kB)\n",
      "\u001b[K     |████████████████████████████████| 62 kB 2.4 MB/s  eta 0:00:01\n",
      "\u001b[?25hCollecting markdown-it-py>=2.2.0\n",
      "  Downloading markdown_it_py-3.0.0-py3-none-any.whl (87 kB)\n",
      "\u001b[K     |████████████████████████████████| 87 kB 12.0 MB/s eta 0:00:01\n",
      "\u001b[?25hRequirement already satisfied: pygments<3.0.0,>=2.13.0 in /usr/local/lib/python3.8/dist-packages (from rich<14,>=10.14.0->streamlit) (2.17.2)\n",
      "Collecting toolz\n",
      "  Downloading toolz-0.12.1-py3-none-any.whl (56 kB)\n",
      "\u001b[K     |████████████████████████████████| 56 kB 7.3 MB/s  eta 0:00:01\n",
      "\u001b[?25hRequirement already satisfied: jsonschema>=3.0 in /usr/local/lib/python3.8/dist-packages (from altair<6,>=4.0->streamlit) (4.21.1)\n",
      "Requirement already satisfied: MarkupSafe>=2.0 in /usr/local/lib/python3.8/dist-packages (from jinja2>=2.10.1->pydeck<1,>=0.8.0b4->streamlit) (2.1.5)\n",
      "Requirement already satisfied: six>=1.5 in /usr/lib/python3/dist-packages (from python-dateutil>=2.8.2->pandas<3,>=1.3.0->streamlit) (1.14.0)\n",
      "Collecting smmap<6,>=3.0.1\n",
      "  Downloading smmap-5.0.1-py3-none-any.whl (24 kB)\n",
      "Collecting mdurl~=0.1\n",
      "  Downloading mdurl-0.1.2-py3-none-any.whl (10.0 kB)\n",
      "Requirement already satisfied: rpds-py>=0.7.1 in /usr/local/lib/python3.8/dist-packages (from jsonschema>=3.0->altair<6,>=4.0->streamlit) (0.18.0)\n",
      "Requirement already satisfied: jsonschema-specifications>=2023.03.6 in /usr/local/lib/python3.8/dist-packages (from jsonschema>=3.0->altair<6,>=4.0->streamlit) (2023.12.1)\n",
      "Requirement already satisfied: importlib-resources>=1.4.0; python_version < \"3.9\" in /usr/local/lib/python3.8/dist-packages (from jsonschema>=3.0->altair<6,>=4.0->streamlit) (6.4.0)\n",
      "Requirement already satisfied: attrs>=22.2.0 in /usr/local/lib/python3.8/dist-packages (from jsonschema>=3.0->altair<6,>=4.0->streamlit) (23.2.0)\n",
      "Requirement already satisfied: referencing>=0.28.4 in /usr/local/lib/python3.8/dist-packages (from jsonschema>=3.0->altair<6,>=4.0->streamlit) (0.34.0)\n",
      "Requirement already satisfied: pkgutil-resolve-name>=1.3.10; python_version < \"3.9\" in /usr/local/lib/python3.8/dist-packages (from jsonschema>=3.0->altair<6,>=4.0->streamlit) (1.3.10)\n",
      "Requirement already satisfied: zipp>=3.1.0; python_version < \"3.10\" in /usr/local/lib/python3.8/dist-packages (from importlib-resources>=1.4.0; python_version < \"3.9\"->jsonschema>=3.0->altair<6,>=4.0->streamlit) (3.18.1)\n",
      "Installing collected packages: toml, numpy, protobuf, watchdog, pyarrow, pydeck, cachetools, tzdata, pandas, blinker, click, smmap, gitdb, gitpython, mdurl, markdown-it-py, rich, toolz, altair, tenacity, streamlit\n",
      "  Attempting uninstall: numpy\n",
      "    Found existing installation: numpy 1.17.4\n",
      "    Not uninstalling numpy at /usr/lib/python3/dist-packages, outside environment /usr\n",
      "    Can't uninstall 'numpy'. No files were found to uninstall.\n",
      "Successfully installed altair-5.3.0 blinker-1.8.2 cachetools-5.3.3 click-8.1.7 gitdb-4.0.11 gitpython-3.1.43 markdown-it-py-3.0.0 mdurl-0.1.2 numpy-1.24.4 pandas-2.0.3 protobuf-4.25.3 pyarrow-16.0.0 pydeck-0.9.0 rich-13.7.1 smmap-5.0.1 streamlit-1.34.0 tenacity-8.3.0 toml-0.10.2 toolz-0.12.1 tzdata-2024.1 watchdog-4.0.0\n"
     ]
    }
   ],
   "source": [
    "!pip install streamlit"
   ]
  },
  {
   "cell_type": "code",
   "execution_count": 4,
   "id": "adfb1875-b51f-4e23-b7f3-26fc059180aa",
   "metadata": {},
   "outputs": [
    {
     "name": "stdout",
     "output_type": "stream",
     "text": [
      "/notebooks\n"
     ]
    }
   ],
   "source": [
    "!pwd"
   ]
  },
  {
   "cell_type": "code",
   "execution_count": 5,
   "id": "40be555c-ef4a-4fc6-b8b6-0bde49e69827",
   "metadata": {},
   "outputs": [
    {
     "name": "stdout",
     "output_type": "stream",
     "text": [
      "codellama-chatbot  samples  Untitled.ipynb\n"
     ]
    }
   ],
   "source": [
    "!ls"
   ]
  },
  {
   "cell_type": "code",
   "execution_count": 6,
   "id": "09359f41-7a0a-4bbc-b63f-14b62cac49d3",
   "metadata": {},
   "outputs": [
    {
     "name": "stdout",
     "output_type": "stream",
     "text": [
      "/notebooks/codellama-chatbot\n"
     ]
    }
   ],
   "source": [
    "%cd codellama-chatbot "
   ]
  },
  {
   "cell_type": "code",
   "execution_count": 15,
   "id": "967a14a9-0e7d-4e27-b504-ebfd751d50f8",
   "metadata": {},
   "outputs": [
    {
     "name": "stdout",
     "output_type": "stream",
     "text": [
      "\n",
      "Collecting usage statistics. To deactivate, set browser.gatherUsageStats to false.\n",
      "\u001b[0m\n",
      "\u001b[0m\n",
      "\u001b[34m\u001b[1m  You can now view your Streamlit app in your browser.\u001b[0m\n",
      "\u001b[0m\n",
      "\u001b[34m  Network URL: \u001b[0m\u001b[1mhttp://172.17.0.2:8501\u001b[0m\n",
      "\u001b[34m  External URL: \u001b[0m\u001b[1mhttp://124.120.157.80:8501\u001b[0m\n",
      "\u001b[0m\n",
      "^C\n",
      "\u001b[34m  Stopping...\u001b[0m\n"
     ]
    }
   ],
   "source": [
    "!streamlit run app.py"
   ]
  },
  {
   "cell_type": "code",
   "execution_count": 8,
   "id": "f020cf80-a735-4b27-8531-93872bf03189",
   "metadata": {},
   "outputs": [
    {
     "name": "stdout",
     "output_type": "stream",
     "text": [
      "Requirement already up-to-date: streamlit in /usr/local/lib/python3.8/dist-packages (1.34.0)\n",
      "Requirement already satisfied, skipping upgrade: gitpython!=3.1.19,<4,>=3.0.7 in /usr/local/lib/python3.8/dist-packages (from streamlit) (3.1.43)\n",
      "Requirement already satisfied, skipping upgrade: requests<3,>=2.27 in /usr/local/lib/python3.8/dist-packages (from streamlit) (2.31.0)\n",
      "Requirement already satisfied, skipping upgrade: packaging<25,>=16.8 in /usr/local/lib/python3.8/dist-packages (from streamlit) (24.0)\n",
      "Requirement already satisfied, skipping upgrade: protobuf<5,>=3.20 in /usr/local/lib/python3.8/dist-packages (from streamlit) (4.25.3)\n",
      "Requirement already satisfied, skipping upgrade: altair<6,>=4.0 in /usr/local/lib/python3.8/dist-packages (from streamlit) (5.3.0)\n",
      "Requirement already satisfied, skipping upgrade: pandas<3,>=1.3.0 in /usr/local/lib/python3.8/dist-packages (from streamlit) (2.0.3)\n",
      "Requirement already satisfied, skipping upgrade: click<9,>=7.0 in /usr/local/lib/python3.8/dist-packages (from streamlit) (8.1.7)\n",
      "Requirement already satisfied, skipping upgrade: pydeck<1,>=0.8.0b4 in /usr/local/lib/python3.8/dist-packages (from streamlit) (0.9.0)\n",
      "Requirement already satisfied, skipping upgrade: pyarrow>=7.0 in /usr/local/lib/python3.8/dist-packages (from streamlit) (16.0.0)\n",
      "Requirement already satisfied, skipping upgrade: toml<2,>=0.10.1 in /usr/local/lib/python3.8/dist-packages (from streamlit) (0.10.2)\n",
      "Requirement already satisfied, skipping upgrade: blinker<2,>=1.0.0 in /usr/local/lib/python3.8/dist-packages (from streamlit) (1.8.2)\n",
      "Requirement already satisfied, skipping upgrade: watchdog>=2.1.5; platform_system != \"Darwin\" in /usr/local/lib/python3.8/dist-packages (from streamlit) (4.0.0)\n",
      "Requirement already satisfied, skipping upgrade: tenacity<9,>=8.1.0 in /usr/local/lib/python3.8/dist-packages (from streamlit) (8.3.0)\n",
      "Requirement already satisfied, skipping upgrade: rich<14,>=10.14.0 in /usr/local/lib/python3.8/dist-packages (from streamlit) (13.7.1)\n",
      "Requirement already satisfied, skipping upgrade: cachetools<6,>=4.0 in /usr/local/lib/python3.8/dist-packages (from streamlit) (5.3.3)\n",
      "Requirement already satisfied, skipping upgrade: tornado<7,>=6.0.3 in /usr/local/lib/python3.8/dist-packages (from streamlit) (6.4)\n",
      "Requirement already satisfied, skipping upgrade: typing-extensions<5,>=4.3.0 in /usr/local/lib/python3.8/dist-packages (from streamlit) (4.10.0)\n",
      "Requirement already satisfied, skipping upgrade: pillow<11,>=7.1.0 in /usr/local/lib/python3.8/dist-packages (from streamlit) (10.2.0)\n",
      "Requirement already satisfied, skipping upgrade: numpy<2,>=1.19.3 in /usr/local/lib/python3.8/dist-packages (from streamlit) (1.24.4)\n",
      "Requirement already satisfied, skipping upgrade: gitdb<5,>=4.0.1 in /usr/local/lib/python3.8/dist-packages (from gitpython!=3.1.19,<4,>=3.0.7->streamlit) (4.0.11)\n",
      "Requirement already satisfied, skipping upgrade: certifi>=2017.4.17 in /usr/lib/python3/dist-packages (from requests<3,>=2.27->streamlit) (2019.11.28)\n",
      "Requirement already satisfied, skipping upgrade: urllib3<3,>=1.21.1 in /usr/lib/python3/dist-packages (from requests<3,>=2.27->streamlit) (1.25.8)\n",
      "Requirement already satisfied, skipping upgrade: idna<4,>=2.5 in /usr/lib/python3/dist-packages (from requests<3,>=2.27->streamlit) (2.8)\n",
      "Requirement already satisfied, skipping upgrade: charset-normalizer<4,>=2 in /usr/local/lib/python3.8/dist-packages (from requests<3,>=2.27->streamlit) (3.3.2)\n",
      "Requirement already satisfied, skipping upgrade: jinja2 in /usr/local/lib/python3.8/dist-packages (from altair<6,>=4.0->streamlit) (3.1.3)\n",
      "Requirement already satisfied, skipping upgrade: toolz in /usr/local/lib/python3.8/dist-packages (from altair<6,>=4.0->streamlit) (0.12.1)\n",
      "Requirement already satisfied, skipping upgrade: jsonschema>=3.0 in /usr/local/lib/python3.8/dist-packages (from altair<6,>=4.0->streamlit) (4.21.1)\n",
      "Requirement already satisfied, skipping upgrade: pytz>=2020.1 in /usr/local/lib/python3.8/dist-packages (from pandas<3,>=1.3.0->streamlit) (2024.1)\n",
      "Requirement already satisfied, skipping upgrade: python-dateutil>=2.8.2 in /usr/local/lib/python3.8/dist-packages (from pandas<3,>=1.3.0->streamlit) (2.9.0.post0)\n",
      "Requirement already satisfied, skipping upgrade: tzdata>=2022.1 in /usr/local/lib/python3.8/dist-packages (from pandas<3,>=1.3.0->streamlit) (2024.1)\n",
      "Requirement already satisfied, skipping upgrade: markdown-it-py>=2.2.0 in /usr/local/lib/python3.8/dist-packages (from rich<14,>=10.14.0->streamlit) (3.0.0)\n",
      "Requirement already satisfied, skipping upgrade: pygments<3.0.0,>=2.13.0 in /usr/local/lib/python3.8/dist-packages (from rich<14,>=10.14.0->streamlit) (2.17.2)\n",
      "Requirement already satisfied, skipping upgrade: smmap<6,>=3.0.1 in /usr/local/lib/python3.8/dist-packages (from gitdb<5,>=4.0.1->gitpython!=3.1.19,<4,>=3.0.7->streamlit) (5.0.1)\n",
      "Requirement already satisfied, skipping upgrade: MarkupSafe>=2.0 in /usr/local/lib/python3.8/dist-packages (from jinja2->altair<6,>=4.0->streamlit) (2.1.5)\n",
      "Requirement already satisfied, skipping upgrade: jsonschema-specifications>=2023.03.6 in /usr/local/lib/python3.8/dist-packages (from jsonschema>=3.0->altair<6,>=4.0->streamlit) (2023.12.1)\n",
      "Requirement already satisfied, skipping upgrade: referencing>=0.28.4 in /usr/local/lib/python3.8/dist-packages (from jsonschema>=3.0->altair<6,>=4.0->streamlit) (0.34.0)\n",
      "Requirement already satisfied, skipping upgrade: rpds-py>=0.7.1 in /usr/local/lib/python3.8/dist-packages (from jsonschema>=3.0->altair<6,>=4.0->streamlit) (0.18.0)\n",
      "Requirement already satisfied, skipping upgrade: attrs>=22.2.0 in /usr/local/lib/python3.8/dist-packages (from jsonschema>=3.0->altair<6,>=4.0->streamlit) (23.2.0)\n",
      "Requirement already satisfied, skipping upgrade: pkgutil-resolve-name>=1.3.10; python_version < \"3.9\" in /usr/local/lib/python3.8/dist-packages (from jsonschema>=3.0->altair<6,>=4.0->streamlit) (1.3.10)\n",
      "Requirement already satisfied, skipping upgrade: importlib-resources>=1.4.0; python_version < \"3.9\" in /usr/local/lib/python3.8/dist-packages (from jsonschema>=3.0->altair<6,>=4.0->streamlit) (6.4.0)\n",
      "Requirement already satisfied, skipping upgrade: six>=1.5 in /usr/lib/python3/dist-packages (from python-dateutil>=2.8.2->pandas<3,>=1.3.0->streamlit) (1.14.0)\n",
      "Requirement already satisfied, skipping upgrade: mdurl~=0.1 in /usr/local/lib/python3.8/dist-packages (from markdown-it-py>=2.2.0->rich<14,>=10.14.0->streamlit) (0.1.2)\n",
      "Requirement already satisfied, skipping upgrade: zipp>=3.1.0; python_version < \"3.10\" in /usr/local/lib/python3.8/dist-packages (from importlib-resources>=1.4.0; python_version < \"3.9\"->jsonschema>=3.0->altair<6,>=4.0->streamlit) (3.18.1)\n"
     ]
    }
   ],
   "source": [
    "!pip install --upgrade streamlit"
   ]
  },
  {
   "cell_type": "code",
   "execution_count": 13,
   "id": "d2d01267-c5f3-4084-a88b-ec12e437e675",
   "metadata": {},
   "outputs": [
    {
     "name": "stdout",
     "output_type": "stream",
     "text": [
      "Collecting streamlit\n",
      "  Using cached streamlit-1.34.0-py2.py3-none-any.whl (8.5 MB)\n",
      "Requirement already satisfied: blinker<2,>=1.0.0 in /usr/local/lib/python3.8/dist-packages (from streamlit) (1.8.2)\n",
      "Requirement already satisfied: tornado<7,>=6.0.3 in /usr/local/lib/python3.8/dist-packages (from streamlit) (6.4)\n",
      "Requirement already satisfied: altair<6,>=4.0 in /usr/local/lib/python3.8/dist-packages (from streamlit) (5.3.0)\n",
      "Requirement already satisfied: typing-extensions<5,>=4.3.0 in /usr/local/lib/python3.8/dist-packages (from streamlit) (4.10.0)\n",
      "Requirement already satisfied: toml<2,>=0.10.1 in /usr/local/lib/python3.8/dist-packages (from streamlit) (0.10.2)\n",
      "Requirement already satisfied: cachetools<6,>=4.0 in /usr/local/lib/python3.8/dist-packages (from streamlit) (5.3.3)\n",
      "Requirement already satisfied: pydeck<1,>=0.8.0b4 in /usr/local/lib/python3.8/dist-packages (from streamlit) (0.9.0)\n",
      "Requirement already satisfied: click<9,>=7.0 in /usr/local/lib/python3.8/dist-packages (from streamlit) (8.1.7)\n",
      "Requirement already satisfied: tenacity<9,>=8.1.0 in /usr/local/lib/python3.8/dist-packages (from streamlit) (8.3.0)\n",
      "Requirement already satisfied: watchdog>=2.1.5; platform_system != \"Darwin\" in /usr/local/lib/python3.8/dist-packages (from streamlit) (4.0.0)\n",
      "Requirement already satisfied: rich<14,>=10.14.0 in /usr/local/lib/python3.8/dist-packages (from streamlit) (13.7.1)\n",
      "Requirement already satisfied: gitpython!=3.1.19,<4,>=3.0.7 in /usr/local/lib/python3.8/dist-packages (from streamlit) (3.1.43)\n",
      "Requirement already satisfied: protobuf<5,>=3.20 in /usr/local/lib/python3.8/dist-packages (from streamlit) (4.25.3)\n",
      "Requirement already satisfied: pandas<3,>=1.3.0 in /usr/local/lib/python3.8/dist-packages (from streamlit) (2.0.3)\n",
      "Requirement already satisfied: pyarrow>=7.0 in /usr/local/lib/python3.8/dist-packages (from streamlit) (16.0.0)\n",
      "Requirement already satisfied: packaging<25,>=16.8 in /usr/local/lib/python3.8/dist-packages (from streamlit) (24.0)\n",
      "Requirement already satisfied: requests<3,>=2.27 in /usr/local/lib/python3.8/dist-packages (from streamlit) (2.31.0)\n",
      "Requirement already satisfied: numpy<2,>=1.19.3 in /usr/local/lib/python3.8/dist-packages (from streamlit) (1.24.4)\n",
      "Requirement already satisfied: pillow<11,>=7.1.0 in /usr/local/lib/python3.8/dist-packages (from streamlit) (10.2.0)\n",
      "Requirement already satisfied: jinja2 in /usr/local/lib/python3.8/dist-packages (from altair<6,>=4.0->streamlit) (3.1.3)\n",
      "Requirement already satisfied: toolz in /usr/local/lib/python3.8/dist-packages (from altair<6,>=4.0->streamlit) (0.12.1)\n",
      "Requirement already satisfied: jsonschema>=3.0 in /usr/local/lib/python3.8/dist-packages (from altair<6,>=4.0->streamlit) (4.21.1)\n",
      "Requirement already satisfied: markdown-it-py>=2.2.0 in /usr/local/lib/python3.8/dist-packages (from rich<14,>=10.14.0->streamlit) (3.0.0)\n",
      "Requirement already satisfied: pygments<3.0.0,>=2.13.0 in /usr/local/lib/python3.8/dist-packages (from rich<14,>=10.14.0->streamlit) (2.17.2)\n",
      "Requirement already satisfied: gitdb<5,>=4.0.1 in /usr/local/lib/python3.8/dist-packages (from gitpython!=3.1.19,<4,>=3.0.7->streamlit) (4.0.11)\n",
      "Requirement already satisfied: tzdata>=2022.1 in /usr/local/lib/python3.8/dist-packages (from pandas<3,>=1.3.0->streamlit) (2024.1)\n",
      "Requirement already satisfied: python-dateutil>=2.8.2 in /usr/local/lib/python3.8/dist-packages (from pandas<3,>=1.3.0->streamlit) (2.9.0.post0)\n",
      "Requirement already satisfied: pytz>=2020.1 in /usr/local/lib/python3.8/dist-packages (from pandas<3,>=1.3.0->streamlit) (2024.1)\n",
      "Requirement already satisfied: charset-normalizer<4,>=2 in /usr/local/lib/python3.8/dist-packages (from requests<3,>=2.27->streamlit) (3.3.2)\n",
      "Requirement already satisfied: idna<4,>=2.5 in /usr/lib/python3/dist-packages (from requests<3,>=2.27->streamlit) (2.8)\n",
      "Requirement already satisfied: urllib3<3,>=1.21.1 in /usr/lib/python3/dist-packages (from requests<3,>=2.27->streamlit) (1.25.8)\n",
      "Requirement already satisfied: certifi>=2017.4.17 in /usr/lib/python3/dist-packages (from requests<3,>=2.27->streamlit) (2019.11.28)\n",
      "Requirement already satisfied: MarkupSafe>=2.0 in /usr/local/lib/python3.8/dist-packages (from jinja2->altair<6,>=4.0->streamlit) (2.1.5)\n",
      "Requirement already satisfied: attrs>=22.2.0 in /usr/local/lib/python3.8/dist-packages (from jsonschema>=3.0->altair<6,>=4.0->streamlit) (23.2.0)\n",
      "Requirement already satisfied: rpds-py>=0.7.1 in /usr/local/lib/python3.8/dist-packages (from jsonschema>=3.0->altair<6,>=4.0->streamlit) (0.18.0)\n",
      "Requirement already satisfied: importlib-resources>=1.4.0; python_version < \"3.9\" in /usr/local/lib/python3.8/dist-packages (from jsonschema>=3.0->altair<6,>=4.0->streamlit) (6.4.0)\n",
      "Requirement already satisfied: jsonschema-specifications>=2023.03.6 in /usr/local/lib/python3.8/dist-packages (from jsonschema>=3.0->altair<6,>=4.0->streamlit) (2023.12.1)\n",
      "Requirement already satisfied: pkgutil-resolve-name>=1.3.10; python_version < \"3.9\" in /usr/local/lib/python3.8/dist-packages (from jsonschema>=3.0->altair<6,>=4.0->streamlit) (1.3.10)\n",
      "Requirement already satisfied: referencing>=0.28.4 in /usr/local/lib/python3.8/dist-packages (from jsonschema>=3.0->altair<6,>=4.0->streamlit) (0.34.0)\n",
      "Requirement already satisfied: mdurl~=0.1 in /usr/local/lib/python3.8/dist-packages (from markdown-it-py>=2.2.0->rich<14,>=10.14.0->streamlit) (0.1.2)\n",
      "Requirement already satisfied: smmap<6,>=3.0.1 in /usr/local/lib/python3.8/dist-packages (from gitdb<5,>=4.0.1->gitpython!=3.1.19,<4,>=3.0.7->streamlit) (5.0.1)\n",
      "Requirement already satisfied: six>=1.5 in /usr/lib/python3/dist-packages (from python-dateutil>=2.8.2->pandas<3,>=1.3.0->streamlit) (1.14.0)\n",
      "Requirement already satisfied: zipp>=3.1.0; python_version < \"3.10\" in /usr/local/lib/python3.8/dist-packages (from importlib-resources>=1.4.0; python_version < \"3.9\"->jsonschema>=3.0->altair<6,>=4.0->streamlit) (3.18.1)\n",
      "Installing collected packages: streamlit\n",
      "Successfully installed streamlit-1.34.0\n"
     ]
    }
   ],
   "source": [
    "!pip install streamlit"
   ]
  },
  {
   "cell_type": "code",
   "execution_count": 47,
   "id": "c35c7740-2ef7-4421-acb4-3db4f3ac3b84",
   "metadata": {},
   "outputs": [
    {
     "name": "stdout",
     "output_type": "stream",
     "text": [
      "\n",
      "Collecting usage statistics. To deactivate, set browser.gatherUsageStats to false.\n",
      "\u001b[0m\n",
      "\u001b[0m\n",
      "\u001b[34m\u001b[1m  You can now view your Streamlit app in your browser.\u001b[0m\n",
      "\u001b[0m\n",
      "\u001b[34m  Network URL: \u001b[0m\u001b[1mhttp://172.17.0.2:8501\u001b[0m\n",
      "\u001b[34m  External URL: \u001b[0m\u001b[1mhttp://124.120.157.80:8501\u001b[0m\n",
      "\u001b[0m\n",
      "^C\n",
      "\u001b[34m  Stopping...\u001b[0m\n"
     ]
    }
   ],
   "source": [
    "!streamlit run app.py --server.port 8501"
   ]
  },
  {
   "cell_type": "code",
   "execution_count": 32,
   "id": "978172d4-6cd0-4368-9d55-4f605859a18e",
   "metadata": {},
   "outputs": [
    {
     "name": "stdout",
     "output_type": "stream",
     "text": [
      "NAME:\n",
      "   ngrok - tunnel local ports to public URLs and inspect traffic\n",
      "\n",
      "DESCRIPTION:\n",
      "    ngrok exposes local networked services behinds NATs and firewalls to the\n",
      "    public internet over a secure tunnel. Share local websites, build/test\n",
      "    webhook consumers and self-host personal services.\n",
      "    Detailed help for each command is available with 'ngrok help <command>'.\n",
      "    Open http://localhost:4040 for ngrok's web interface to inspect traffic.\n",
      "\n",
      "EXAMPLES:\n",
      "    ngrok http 80                    # secure public URL for port 80 web server\n",
      "    ngrok http -subdomain=baz 8080   # port 8080 available at baz.ngrok.io\n",
      "    ngrok http foo.dev:80            # tunnel to host:port instead of localhost\n",
      "    ngrok http https://localhost     # expose a local https server\n",
      "    ngrok tcp 22                     # tunnel arbitrary TCP traffic to port 22\n",
      "    ngrok tls -hostname=foo.com 443  # TLS traffic for foo.com to port 443\n",
      "    ngrok start foo bar baz          # start tunnels from the configuration file\n",
      "\n",
      "VERSION:\n",
      "   2.3.41\n",
      "\n",
      "AUTHOR:\n",
      "  inconshreveable - <alan@ngrok.com>\n",
      "\n",
      "COMMANDS:\n",
      "   authtoken\tsave authtoken to configuration file\n",
      "   credits\tprints author and licensing information\n",
      "   http\t\tstart an HTTP tunnel\n",
      "   start\tstart tunnels by name from the configuration file\n",
      "   tcp\t\tstart a TCP tunnel\n",
      "   tls\t\tstart a TLS tunnel\n",
      "   update\tupdate ngrok to the latest version\n",
      "   version\tprint the version string\n",
      "   help\t\tShows a list of commands or help for one command\n",
      "\n",
      "ERROR:  Unrecognized command: config\n"
     ]
    }
   ],
   "source": [
    "!ngrok config add-authtoken 2gGtpjM3ivyQ8lfhWJOsyPDvqj2_6KpKBT71RvvFbv8zQVcgD"
   ]
  },
  {
   "cell_type": "code",
   "execution_count": 38,
   "id": "82f35212-4830-4839-80ea-172f54970cce",
   "metadata": {},
   "outputs": [
    {
     "name": "stdout",
     "output_type": "stream",
     "text": [
      "--2024-05-10 20:20:19--  https://bin.equinox.io/c/bNyj1mQVY4c/ngrok-v3-stable-linux-amd64.tgz\n",
      "Resolving bin.equinox.io (bin.equinox.io)... 52.202.168.65, 18.205.222.128, 54.161.241.46, ...\n",
      "Connecting to bin.equinox.io (bin.equinox.io)|52.202.168.65|:443... connected.\n",
      "HTTP request sent, awaiting response... 200 OK\n",
      "Length: 8949853 (8.5M) [application/octet-stream]\n",
      "Saving to: ‘ngrok-v3-stable-linux-amd64.tgz’\n",
      "\n",
      "ngrok-v3-stable-lin 100%[===================>]   8.54M  2.39MB/s    in 3.6s    \n",
      "\n",
      "2024-05-10 20:20:23 (2.39 MB/s) - ‘ngrok-v3-stable-linux-amd64.tgz’ saved [8949853/8949853]\n",
      "\n"
     ]
    }
   ],
   "source": [
    "!wget https://bin.equinox.io/c/bNyj1mQVY4c/ngrok-v3-stable-linux-amd64.tgz"
   ]
  },
  {
   "cell_type": "code",
   "execution_count": 41,
   "id": "2acf10d3-900c-4a14-91ef-a9ab1dc262df",
   "metadata": {},
   "outputs": [
    {
     "name": "stdout",
     "output_type": "stream",
     "text": [
      "ngrok\n"
     ]
    }
   ],
   "source": [
    "!tar xvzf ngrok-v3-stable-linux-amd64.tgz"
   ]
  },
  {
   "cell_type": "code",
   "execution_count": 42,
   "id": "5a59ae5c-b96a-4006-b1cd-b4d98e952cd7",
   "metadata": {},
   "outputs": [],
   "source": [
    "!cp ngrok /usr/local/bin"
   ]
  },
  {
   "cell_type": "code",
   "execution_count": 45,
   "id": "be0f3e48-8cee-4128-9d2e-dd484469d856",
   "metadata": {},
   "outputs": [
    {
     "name": "stdout",
     "output_type": "stream",
     "text": [
      "Authtoken saved to configuration file: /root/.ngrok2/ngrok.yml\n",
      "Default version saved to configuration file: /root/.ngrok2/ngrok.yml\n"
     ]
    }
   ],
   "source": [
    "!ngrok config add-authtoken 2gGtpjM3ivyQ8lfhWJOsyPDvqj2_6KpKBT71RvvFbv8zQVcgD"
   ]
  },
  {
   "cell_type": "code",
   "execution_count": null,
   "id": "906874b3-f715-453a-af19-65a8e8e0a09c",
   "metadata": {},
   "outputs": [
    {
     "name": "stdout",
     "output_type": "stream",
     "text": [
      "\u001b7\u001b[?47h\u001b[?1h\u001b=\u0002\u0007\u001b[H\u001b[2J\u001b[m\u001b[38;5;6m\u001b[48;5;16m\u001b[1m\u001b[1;1Hngrok\u001b[m\u001b[38;5;16m\u001b[48;5;16m                                                           \u001b[m\u001b[38;5;7m\u001b[48;5;16m(Ctrl+C to quit)\u001b[m\u001b[38;5;16m\u001b[48;5;16m\u001b[2;1H                                                                                \u001b[m\u001b[38;5;6m\u001b[48;5;16m\u001b[3;1HSession Status                connecting\u001b[m\u001b[38;5;16m\u001b[48;5;16m                                        \u001b[m\u001b[38;5;7m\u001b[48;5;16m\u001b[4;1HVersion                       3.9.0\u001b[m\u001b[38;5;16m\u001b[48;5;16m                                             \u001b[m\u001b[38;5;7m\u001b[48;5;16m\u001b[5;1HWeb Interface                 http://127.0.0.1:4040\u001b[m\u001b[38;5;16m\u001b[48;5;16m                             \u001b[6;1H                                                                                \u001b[m\u001b[38;5;7m\u001b[48;5;16m\u001b[7;1HConnections                   ttl     opn     rt1     rt5     p50     p90     \u001b[m\u001b[38;5;16m\u001b[48;5;16m  \u001b[m\u001b[38;5;7m\u001b[48;5;16m\u001b[8;1H                              0       0       0.00    0.00    0.00    0.00    \u001b[m\u001b[38;5;16m\u001b[48;5;16m  \u001b[9;1H                                                                                \u001b[10;1H                                                                                \u001b[11;1H                                                                                \u001b[12;1H                                                                                \u001b[13;1H                                                                                \u001b[14;1H                                                                                \u001b[15;1H                                                                                \u001b[16;1H                                                                                \u001b[17;1H                                                                                \u001b[18;1H                                                                                \u001b[19;1H                                                                                \u001b[20;1H                                                                                \u001b[21;1H                                                                                \u001b[22;1H                                                                                \u001b[23;1H                                                                                \u001b[24;1H                                                                                \u001b[m\u001b[38;5;5m\u001b[48;5;16m\u001b[3;1HTry our new Traffic Inspector Dev Preview: https://ngrok.com/r/ti\u001b[m\u001b[38;5;16m\u001b[48;5;16m\u001b[4;1H                                   \u001b[m\u001b[38;5;2m\u001b[48;5;16m\u001b[5;1HSession Status                online\u001b[m\u001b[38;5;16m\u001b[48;5;16m               \u001b[m\u001b[38;5;7m\u001b[48;5;16m\u001b[6;1HAccount                       khomson_koc@g.cmru.ac.th (Plan: Free)\u001b[7;1HVersion    \u001b[7;31H3.9.0\u001b[m\u001b[38;5;16m\u001b[48;5;16m                                           \u001b[m\u001b[38;5;7m\u001b[48;5;16m\u001b[8;1HRegion\u001b[8;31HAsia\u001b[8;36HPacific\u001b[8;44H(ap)\u001b[m\u001b[38;5;16m\u001b[48;5;16m                               \u001b[m\u001b[38;5;7m\u001b[48;5;16m\u001b[9;1HWeb Interface                 http://127.0.0.1:4040\u001b[10;1HForwarding                    https://b46e-124-120-157-80.ngrok-free.app -> http\u001b[12;1HConnections                   ttl     opn     rt1     rt5     p50     p90     \u001b[13;1H                              0       0       0.00    0.00    0.00    0.00    \u001b[13;39H1\u001b[15;1HHTTP Requests\u001b[16;1H-------------\u001b[18;1HGET\u001b[18;5H/\u001b[18;32H200 OK\u001b[m\u001b[38;5;16m\u001b[48;5;16m\u001b[18;32H      \u001b[m\u001b[38;5;7m\u001b[48;5;16m\u001b[18;65H200 OK\u001b[19;1HGET\u001b[19;5H/static/media/SourceSansPro-Bold.118dea98980e20a81ced.woff2\u001b[19;65H200 OK\u001b[13;39H3\u001b[m\u001b[38;5;16m\u001b[48;5;16m\u001b[18;65H   \u001b[m\u001b[38;5;7m\u001b[48;5;16m200 OK\u001b[19;33HRegular.0d6\u001b[19;45He5ff5e92ac64a0c9.woff2\u001b[m\u001b[38;5;16m\u001b[48;5;16m    \u001b[m\u001b[38;5;7m\u001b[48;5;16m\u001b[20;1HGET\u001b[20;5H/static/media/SourceSansPro-Bold.118dea98980e20a81ced.woff2\u001b[20;68H200 OK\u001b[m\u001b[38;5;16m\u001b[48;5;16m\u001b[18;68H \u001b[m\u001b[38;5;7m\u001b[48;5;16m2\u001b[18;71H0 OK\u001b[20;33HSemiBold.abed79cd0df1827e18c\u001b[20;62H.woff2\u001b[m\u001b[38;5;16m\u001b[48;5;16m      \u001b[m\u001b[38;5;7m\u001b[48;5;16m\u001b[21;1HGET\u001b[21;5H/static/media/SourceSansPro-Bold.118dea98980e20a81ced.woff2\u001b[21;69H200 OK\u001b[13;39H4\u001b[19;69H200 OK\u001b[20;69H200 OK\u001b[21;13Hcss/main.88b8fc58.css\u001b[m\u001b[38;5;16m\u001b[48;5;16m                              \u001b[21;69H      \u001b[m\u001b[38;5;7m\u001b[48;5;16m\u001b[22;1HGET\u001b[22;5H/static/media/SourceSansPro-Bold.118dea98980e20a81ced.woff2\u001b[22;69H200 OK\u001b[21;69H200 OK\u001b[13;39H5\u001b[23;1HGET\u001b[23;5H/static/js/main.eccc579f.js\u001b[23;69H200 OK\u001b[13;31H2\u001b[13;39H3\u001b[13;65H21\u001b[13;73H23\u001b[13;31H3\u001b[13;39H2\u001b[13;66H3\u001b[13;73H31\u001b[18;6H_stcore/host-config\u001b[m\u001b[38;5;16m\u001b[48;5;16m\u001b[18;69H      \u001b[m\u001b[38;5;7m\u001b[48;5;16m\u001b[19;6H_stcore/health\u001b[m\u001b[38;5;16m\u001b[48;5;16m                                               \u001b[19;69H      \u001b[20;6H                                                              \u001b[m\u001b[38;5;7m\u001b[48;5;16m\u001b[21;13Hmedia/SourceSansPro-Regular.0d69e5ff5e92ac64a0c9.woff2\u001b[22;33HSemiBold.abed79cd0df1827e18c\u001b[22;62H.woff2\u001b[23;13Hc\u001b[23;15Hs/main.88b8fc58.css\u001b[24;1HGET\u001b[24;5H/static/media/SourceSansPro-Bold.118dea98980e20a81ced.woff2\u001b[24;69H200 OK\u001b[18;69H200 OK\u001b[19;69H200 OK\u001b[13;39H3\u001b[18;6Hfavicon.png\u001b[m\u001b[38;5;16m\u001b[48;5;16m        \u001b[18;69H      \u001b[m\u001b[38;5;7m\u001b[48;5;16m\u001b[19;15Host-config\u001b[20;6H_stcore/health\u001b[m\u001b[38;5;16m\u001b[48;5;16m\u001b[21;6H                                                             \u001b[m\u001b[38;5;7m\u001b[48;5;16m\u001b[22;33HR\u001b[22;35Hgular.0d69e5ff5e92ac64a0c9.wof\u001b[22;66H2\u001b[m\u001b[38;5;16m\u001b[48;5;16m \u001b[m\u001b[38;5;7m\u001b[48;5;16m\u001b[23;13Hmedia/SourceSansPro-SemiBold.abed79cd0df1827e18cf.woff2\u001b[24;13Hcss/main.88b8fc58.css\u001b[m\u001b[38;5;16m\u001b[48;5;16m                              \u001b[m\u001b[38;5;7m\u001b[48;5;16m\u001b[18;69H200 OK\u001b[13;31H4\u001b[13;39H2\u001b[13;66H1\u001b[13;39H3\u001b[18;6H_stcore/stream\u001b[m\u001b[38;5;16m\u001b[48;5;16m\u001b[18;69H      \u001b[m\u001b[38;5;7m\u001b[48;5;16m\u001b[19;6Hfavicon.png\u001b[m\u001b[38;5;16m\u001b[48;5;16m        \u001b[m\u001b[38;5;7m\u001b[48;5;16m\u001b[20;15Host-config\u001b[21;6H_stcore/health\u001b[m\u001b[38;5;16m\u001b[48;5;16m\u001b[22;6H                                                             \u001b[m\u001b[38;5;7m\u001b[48;5;16m\u001b[23;33HR\u001b[23;35Hgular.0d69e5ff5e92ac64a0c9.wof\u001b[23;66H2\u001b[m\u001b[38;5;16m\u001b[48;5;16m \u001b[m\u001b[38;5;7m\u001b[48;5;16m\u001b[24;13Hmedia/SourceSansPro-SemiBold.abed79cd0df1827e18cf.woff2\u001b[18;58H101 Switching Protocols\u001b[19;58H200 OK\u001b[m\u001b[38;5;16m\u001b[48;5;16m\u001b[19;69H      \u001b[m\u001b[38;5;7m\u001b[48;5;16m\u001b[20;58H200 OK\u001b[m\u001b[38;5;16m\u001b[48;5;16m\u001b[20;69H      \u001b[m\u001b[38;5;7m\u001b[48;5;16m\u001b[21;58H200 OK\u001b[m\u001b[38;5;16m\u001b[48;5;16m\u001b[21;69H      \u001b[m\u001b[38;5;7m\u001b[48;5;16m\u001b[22;58H200 OK\u001b[m\u001b[38;5;16m\u001b[48;5;16m\u001b[22;69H      \u001b[23;57H \u001b[m\u001b[38;5;7m\u001b[48;5;16m200 OK\u001b[m\u001b[38;5;16m\u001b[48;5;16m   \u001b[23;69H      \u001b[24;57H \u001b[m\u001b[38;5;7m\u001b[48;5;16m200 OK\u001b[m\u001b[38;5;16m\u001b[48;5;16m    \u001b[24;69H      \u001b[m\u001b[38;5;7m\u001b[48;5;16m\u001b[18;6Hstatic/j\u001b[18;15H/6853.d999ac75.chunk.js\u001b[m\u001b[38;5;16m\u001b[48;5;16m\u001b[18;58H                       \u001b[m\u001b[38;5;7m\u001b[48;5;16m\u001b[19;6H_stcore/stream\u001b[19;58H1\u001b[19;60H1\u001b[19;62HSwitching Protocols\u001b[20;6Hfavicon.png\u001b[m\u001b[38;5;16m\u001b[48;5;16m        \u001b[m\u001b[38;5;7m\u001b[48;5;16m\u001b[21;15Host-config\u001b[22;6H_stcore/health\u001b[m\u001b[38;5;16m\u001b[48;5;16m\u001b[23;6H                                                   \u001b[m\u001b[38;5;7m\u001b[48;5;16m\u001b[24;33HR\u001b[24;35Hgular.0d69e5ff5e92ac64\u001b[18;58H200 OK\u001b[18;13Hmedia/SourceCodePro-Regular.84b900b88d09398d\u001b[m\u001b[38;5;16m\u001b[48;5;16m\u001b[18;58H      \u001b[m\u001b[38;5;7m\u001b[48;5;16m\u001b[19;6Hstatic/j\u001b[19;15H/6853.d999ac75.chunk.js\u001b[19;58H2\u001b[19;60H0\u001b[19;62HOK\u001b[m\u001b[38;5;16m\u001b[48;5;16m                 \u001b[m\u001b[38;5;7m\u001b[48;5;16m\u001b[20;6H_stcore/stream\u001b[20;58H1\u001b[20;60H1\u001b[20;62HSwitching Protocols\u001b[21;6Hfavicon.png\u001b[m\u001b[38;5;16m\u001b[48;5;16m        \u001b[m\u001b[38;5;7m\u001b[48;5;16m\u001b[22;15Host-config\u001b[23;6H_stcore/health\u001b[m\u001b[38;5;16m\u001b[48;5;16m\u001b[24;6H                                                   \u001b[m\u001b[38;5;7m\u001b[48;5;16m\u001b[18;58H200 OK\u001b[13;50H6\u001b[13;58H1\u001b[9;1HLatency      \u001b[9;31H39ms\u001b[m\u001b[38;5;16m\u001b[48;5;16m                 \u001b[m\u001b[38;5;7m\u001b[48;5;16m\u001b[10;1HWeb Interface\u001b[10;35H:/\u001b[10;38H127.0.0.1:4040\u001b[m\u001b[38;5;16m\u001b[48;5;16m                             \u001b[m\u001b[38;5;7m\u001b[48;5;16m\u001b[11;1HForwarding                    https://b46e-124-120-157-80.ngrok-free.app -> http\u001b[m\u001b[38;5;16m\u001b[48;5;16m\u001b[12;1H                                                                              \u001b[m\u001b[38;5;7m\u001b[48;5;16m\u001b[13;1HConnections\u001b[13;31Httl\u001b[13;39Hopn\u001b[13;47Hrt1 \u001b[13;55Hrt5 \u001b[13;63Hp50 \u001b[13;71Hp90 \u001b[14;1H                              4       3       0.06    0.01    0.21    0.31    \u001b[m\u001b[38;5;16m\u001b[48;5;16m\u001b[15;1H             \u001b[m\u001b[38;5;7m\u001b[48;5;16m\u001b[16;1HHTTP Requests\u001b[17;1H-------------\u001b[m\u001b[38;5;16m\u001b[48;5;16m\u001b[18;1H   \u001b[18;5H                                                    \u001b[18;58H      \u001b[m\u001b[38;5;7m\u001b[48;5;16m\u001b[19;13Hmedia/SourceCodePro-Regular.84b900b88d09398d\u001b[20;6Hstatic/j\u001b[20;15H/6853.d999ac75.chunk.js\u001b[20;58H2\u001b[20;60H0\u001b[20;62HOK\u001b[m\u001b[38;5;16m\u001b[48;5;16m                 \u001b[m\u001b[38;5;7m\u001b[48;5;16m\u001b[21;6H_stcore/stream\u001b[21;58H1\u001b[21;60H1\u001b[21;62HSwitching Protocols\u001b[22;6Hfavicon.png\u001b[m\u001b[38;5;16m\u001b[48;5;16m        \u001b[m\u001b[38;5;7m\u001b[48;5;16m\u001b[23;15Host-config\u001b[24;6H_stcore/health\u001b[14;50H5\u001b[14;50H4\u001b[14;50H3\u001b[14;50H2\u001b[14;31H5\u001b[14;39H2\u001b[14;66H3\u001b[14;71H91.20\u001b[14;31H6\u001b[14;39H1\u001b[14;66H7\u001b[14;72H3\u001b[14;74H31\u001b[14;50H5\u001b[14;58H2\u001b[14;50H4\u001b[9;32H8\u001b[14;50H3\u001b[9;32H9\u001b[14;58H1\u001b[14;50H2\u001b[9;31H41\u001b[9;31H39\u001b[14;50H1\u001b[14;50H0\u001b[9;31H7\u001b[14;39H2\u001b[19;13Hjs/2187.9469f035.chunk.js\u001b[m\u001b[38;5;16m\u001b[48;5;16m                   \u001b[19;58H      \u001b[m\u001b[38;5;7m\u001b[48;5;16m\u001b[20;13Hmedia/SourceCodePro-Regular.84b900b88d09398d\u001b[21;6Hstatic/j\u001b[21;15H/6853.d999ac75.chunk.js\u001b[21;58H2\u001b[21;60H0\u001b[21;62HOK\u001b[m\u001b[38;5;16m\u001b[48;5;16m                 \u001b[m\u001b[38;5;7m\u001b[48;5;16m\u001b[22;6H_stcore/stream\u001b[22;58H1\u001b[22;60H1\u001b[22;62HSwitching Protocols\u001b[23;6Hfavicon.png\u001b[m\u001b[38;5;16m\u001b[48;5;16m        \u001b[m\u001b[38;5;7m\u001b[48;5;16m\u001b[24;15Host-config\u001b[14;39H4\u001b[19;16H9656\u001b[19;21H8c935274\u001b[20;13Hjs/2187.9469f035.chunk.js\u001b[m\u001b[38;5;16m\u001b[48;5;16m                   \u001b[20;58H      \u001b[m\u001b[38;5;7m\u001b[48;5;16m\u001b[21;16H5106\u001b[21;21H44f0ff51\u001b[m\u001b[38;5;16m\u001b[48;5;16m\u001b[21;58H      \u001b[m\u001b[38;5;7m\u001b[48;5;16m\u001b[22;6Hstatic/media/SourceCodePro-Regular.84b900b88d09398d\u001b[22;58H2\u001b[22;60H0\u001b[22;62HOK\u001b[m\u001b[38;5;16m\u001b[48;5;16m                 \u001b[m\u001b[38;5;7m\u001b[48;5;16m\u001b[23;6Hstatic/js/6853.d999ac75.chunk.js\u001b[24;14Hstream\u001b[m\u001b[38;5;16m\u001b[48;5;16m     \u001b[m\u001b[38;5;7m\u001b[48;5;16m\u001b[24;58H1\u001b[24;60H1\u001b[24;62HSwitching Protocols\u001b[20;58H200 OK\u001b[21;58H200 OK\u001b[19;58H200 OK\u001b[14;31H7\u001b[14;39H3\u001b[14;66H3\u001b[19;16H1479\u001b[19;21H6709db03\u001b[m\u001b[38;5;16m\u001b[48;5;16m\u001b[19;58H      \u001b[m\u001b[38;5;7m\u001b[48;5;16m\u001b[20;16H9656\u001b[20;21H8c935274\u001b[21;16H2\u001b[21;18H87\u001b[21;21H9\u001b[21;23H69\u001b[21;26H035\u001b[22;13Hjs/5106.44f0ff51.chunk.js\u001b[m\u001b[38;5;16m\u001b[48;5;16m                   \u001b[m\u001b[38;5;7m\u001b[48;5;16m\u001b[23;13Hmedia/SourceCodePro-Regular.84b900b88d09398d\u001b[24;6Hstatic/j\u001b[24;15H/6853.d999ac75.chunk.js\u001b[24;58H2\u001b[24;60H0\u001b[24;62HOK\u001b[m\u001b[38;5;16m\u001b[48;5;16m                 \u001b[m\u001b[38;5;7m\u001b[48;5;16m\u001b[19;16H71\u001b[19;19H5\u001b[19;21Hbe4076bc\u001b[20;16H1479\u001b[20;21H6709db03\u001b[m\u001b[38;5;16m\u001b[48;5;16m\u001b[20;58H      \u001b[m\u001b[38;5;7m\u001b[48;5;16m\u001b[21;16H9656\u001b[21;21H8c935274\u001b[22;16H2\u001b[22;18H87\u001b[22;21H9\u001b[22;23H69\u001b[22;26H035\u001b[23;13Hjs/5106.44f0ff51.chunk.js\u001b[m\u001b[38;5;16m\u001b[48;5;16m                   \u001b[m\u001b[38;5;7m\u001b[48;5;16m\u001b[24;13Hmedia/SourceCodePro-Regular.84b900b88d09398d\u001b[20;58H200 OK\u001b[19;58H200 OK\u001b[14;39H4\u001b[21;16H5379\u001b[21;21H6571\u001b[21;26H74f\u001b[m\u001b[38;5;16m\u001b[48;5;16m\u001b[21;58H      \u001b[m\u001b[38;5;7m\u001b[48;5;16m\u001b[22;16H9656\u001b[22;21H8c935274\u001b[23;16H2\u001b[23;18H87\u001b[23;21H9\u001b[23;23H69\u001b[23;26H035\u001b[24;13Hjs/5106.44f0ff51.chunk.js\u001b[m\u001b[38;5;16m\u001b[48;5;16m                   \u001b[m\u001b[38;5;7m\u001b[48;5;16m\u001b[21;58H200 OK\u001b[14;31H8\u001b[14;39H3\u001b[14;66H1\u001b[22;16H6013\u001b[22;22He80e091\u001b[m\u001b[38;5;16m\u001b[48;5;16m\u001b[22;58H      \u001b[m\u001b[38;5;7m\u001b[48;5;16m\u001b[23;16H9656\u001b[23;21H8c935274\u001b[24;16H2\u001b[24;18H87\u001b[24;21H9\u001b[24;23H69\u001b[24;26H035\u001b[22;58H200 OK\u001b[14;50H3\u001b[9;31H3\u001b[9;31H41\u001b[14;50H2\u001b[9;31H39\u001b[9;31H41\u001b[14;50H1\u001b[9;32H0\u001b[9;31H39\u001b[9;31H41\u001b[14;31H9\u001b[14;39H2\u001b[14;66H3\u001b[14;31H10\u001b[14;39H1\u001b[14;66H7\u001b[14;74H10\u001b[14;50H4\u001b[14;58H2\u001b[9;32H0\u001b[14;50H3\u001b[9;32H1\u001b[14;50H2\u001b[14;58H1\u001b[9;31H39\u001b[14;50H1\u001b[9;31H41\u001b[9;32H0\u001b[9;32H1\u001b[9;31H39\u001b[9;31H40\u001b[14;50H0\u001b[9;32H1\u001b[9;32H0\u001b[9;32H1\u001b[9;31H39\u001b[9;31H40\u001b[9;32H1\u001b[9;31H39\u001b[9;31H41\u001b[9;31H39\u001b[9;31H40\u001b[9;32H1\u001b[9;31H39\u001b[9;31H41\u001b[9;32H0\u001b[9;32H1\u001b[9;32H0\u001b[9;32H1\u001b[14;58H0\u001b[9;32H0\u001b[9;32H1\u001b[9;31H39\u001b[9;31H41\u001b[9;31H39\u001b[9;31H40\u001b[9;32H1\u001b[9;32H0\u001b[9;32H1\u001b[14;32H1\u001b[14;39H0\u001b[14;65H31\u001b[14;71H784.62\u001b[14;50H2\u001b[14;58H1\u001b[14;39H1\u001b[14;39H2\u001b[19;6H_stcore/host-config\u001b[m\u001b[38;5;16m\u001b[48;5;16m             \u001b[19;58H      \u001b[m\u001b[38;5;7m\u001b[48;5;16m\u001b[20;16H71\u001b[20;19H5\u001b[20;21Hbe4076bc\u001b[m\u001b[38;5;16m\u001b[48;5;16m\u001b[20;58H      \u001b[m\u001b[38;5;7m\u001b[48;5;16m\u001b[20;68H200 OK\u001b[21;16H14\u001b[21;22H709db03\u001b[m\u001b[38;5;16m\u001b[48;5;16m\u001b[21;58H      \u001b[m\u001b[38;5;7m\u001b[48;5;16m\u001b[21;68H200 OK\u001b[22;16H5379\u001b[22;21H6571574f\u001b[m\u001b[38;5;16m\u001b[48;5;16m\u001b[22;58H      \u001b[m\u001b[38;5;7m\u001b[48;5;16m\u001b[22;68H200 OK\u001b[23;16H6013\u001b[23;22He80e091\u001b[m\u001b[38;5;16m\u001b[48;5;16m\u001b[23;58H      \u001b[m\u001b[38;5;7m\u001b[48;5;16m\u001b[23;68H200 OK\u001b[24;16H9656\u001b[24;21H8c935274\u001b[m\u001b[38;5;16m\u001b[48;5;16m\u001b[24;58H      \u001b[m\u001b[38;5;7m\u001b[48;5;16m\u001b[24;68H200 OK\u001b[19;15Health\u001b[m\u001b[38;5;16m\u001b[48;5;16m     \u001b[m\u001b[38;5;7m\u001b[48;5;16m\u001b[20;6H_stcore/host-config\u001b[m\u001b[38;5;16m\u001b[48;5;16m             \u001b[20;68H      \u001b[m\u001b[38;5;7m\u001b[48;5;16m\u001b[21;16H71\u001b[21;19H5\u001b[21;21Hbe4076bc\u001b[22;16H14\u001b[22;22H709db03\u001b[23;16H5379\u001b[23;21H6571574f\u001b[24;16H6013\u001b[24;22He80e091\u001b[m\u001b[38;5;6m\u001b[48;5;16m\u001b[20;65H304 Not Modified\u001b[m\u001b[38;5;7m\u001b[48;5;16m\u001b[21;65H200 OK\u001b[m\u001b[38;5;16m\u001b[48;5;16m   \u001b[m\u001b[38;5;7m\u001b[48;5;16m\u001b[22;65H200 OK\u001b[m\u001b[38;5;16m\u001b[48;5;16m   \u001b[m\u001b[38;5;7m\u001b[48;5;16m\u001b[23;65H200 OK\u001b[m\u001b[38;5;16m\u001b[48;5;16m   \u001b[m\u001b[38;5;7m\u001b[48;5;16m\u001b[24;65H200 OK\u001b[m\u001b[38;5;16m\u001b[48;5;16m   \u001b[m\u001b[38;5;6m\u001b[48;5;16m\u001b[19;65H304 Not Modified\u001b[m\u001b[38;5;7m\u001b[48;5;16m\u001b[14;39H3\u001b[19;14Hstream\u001b[m\u001b[38;5;16m\u001b[48;5;16m\u001b[19;65H                \u001b[m\u001b[38;5;7m\u001b[48;5;16m\u001b[20;15Health\u001b[m\u001b[38;5;16m\u001b[48;5;16m     \u001b[m\u001b[38;5;6m\u001b[48;5;16m\u001b[20;39H304 Not Modified\u001b[m\u001b[38;5;16m\u001b[48;5;16m\u001b[20;65H                \u001b[m\u001b[38;5;7m\u001b[48;5;16m\u001b[21;6H_stcore/host-config\u001b[m\u001b[38;5;16m\u001b[48;5;16m             \u001b[m\u001b[38;5;6m\u001b[48;5;16m\u001b[21;39H304 Not Modified\u001b[m\u001b[38;5;16m\u001b[48;5;16m\u001b[21;65H      \u001b[m\u001b[38;5;7m\u001b[48;5;16m\u001b[22;16H71\u001b[22;19H5\u001b[22;21Hbe4076bc\u001b[22;39H200 OK\u001b[m\u001b[38;5;16m\u001b[48;5;16m\u001b[22;65H      \u001b[m\u001b[38;5;7m\u001b[48;5;16m\u001b[23;16H14\u001b[23;22H709db03\u001b[23;39H200 OK\u001b[m\u001b[38;5;16m\u001b[48;5;16m\u001b[23;65H      \u001b[m\u001b[38;5;7m\u001b[48;5;16m\u001b[24;16H5379\u001b[24;21H6571574f\u001b[24;39H200 OK\u001b[m\u001b[38;5;16m\u001b[48;5;16m\u001b[24;65H      \u001b[m\u001b[38;5;7m\u001b[48;5;16m\u001b[19;39H101 Switching Protocols\u001b[14;50H1\u001b[9;32H0\u001b[9;32H1\u001b[14;50H0\u001b[14;58H0\u001b[9;32H0\u001b[14;32H3\u001b[14;39H1\u001b[14;63H90.04\u001b[14;71H611\u001b[14;75H79\u001b[14;50H4\u001b[14;58H1\u001b[9;32H1\u001b[14;50H3\u001b[9;32H0\u001b[14;50H2\u001b[9;31H39\u001b[9;31H40\u001b[9;32H1\u001b[14;50H1\u001b[9;32H0\u001b[9;31H39\u001b[9;31H41\u001b[14;50H0\u001b[9;32H0\u001b[9;31H39\u001b[9;31H41\u001b[9;32H0\u001b[9;32H1\u001b[9;31H39\u001b[9;31H41\u001b[9;31H39\u001b[9;31H41\u001b[9;32H0\u001b[9;32H1\u001b[14;58H0\u001b[9;31H39\u001b[9;31H41\u001b[9;32H0\u001b[9;32H1\u001b[9;32H0\u001b[9;31H39\u001b[9;31H40\u001b[9;32H1\u001b[9;32H0\u001b[9;32H1\u001b[9;32H0\u001b[9;32H1\u001b[9;31H39\u001b[9;31H41\u001b[9;31H39\u001b[9;31H40\u001b[9;32H1\u001b[9;31H39\u001b[9;31H40\u001b[9;32H1\u001b[9;32H0\u001b[9;32H1\u001b[9;32H0\u001b[9;32H1\u001b[9;32H0\u001b[9;32H1\u001b[9;32H0\u001b[9;32H1\u001b[9;32H0\u001b[9;32H1\u001b[9;32H0\u001b[9;31H39\u001b[9;31H40\u001b[9;31H39\u001b[9;31H40\u001b[9;32H1\u001b[9;32H0\u001b[9;32H1\u001b[9;31H39\u001b[9;31H41\u001b[9;32H0\u001b[9;32H1\u001b[9;31H39\u001b[9;31H41\u001b[9;32H0\u001b[9;31H39\u001b[9;31H41\u001b[9;31H39\u001b[9;31H41\u001b[9;32H0\u001b[9;31H39\u001b[9;31H41\u001b[9;31H39\u001b[9;31H40\u001b[9;32H1\u001b[9;31H39\u001b[9;31H40\u001b[9;32H1\u001b[9;31H39\u001b[9;31H40\u001b[9;31H39\u001b[9;31H40\u001b[9;32H1\u001b[9;32H0\u001b[9;32H1\u001b[9;32H0\u001b[9;31H39\u001b[9;31H41\u001b[9;31H39\u001b[9;31H41\u001b[9;31H39\u001b[9;31H40\u001b[9;32H1\u001b[9;31H39\u001b[9;31H41\u001b[9;32H0\u001b[9;31H39\u001b[9;31H41\u001b[9;31H39\u001b[9;31H41\u001b[9;31H39\u001b[9;31H41\u001b[9;32H0\u001b[9;32H1\u001b[9;32H0\u001b[9;32H1\u001b[9;32H0\u001b[9;32H2\u001b[9;32H1\u001b[9;32H2\u001b[9;32H1\u001b[9;32H0\u001b[9;32H1\u001b[9;32H0\u001b[9;32H1\u001b[9;32H0\u001b[9;32H1\u001b[9;32H0\u001b[9;32H1\u001b[9;31H39\u001b[9;31H41\u001b[9;31H39\u001b[9;31H41\u001b[9;32H0\u001b[9;32H1\u001b[9;31H39\u001b[9;31H40\u001b[9;32H1\u001b[9;31H39\u001b[9;31H41\u001b[9;32H0\u001b[9;32H1\u001b[9;32H0\u001b[9;32H1\u001b[9;32H0\u001b[9;32H1\u001b[9;32H0\u001b[9;32H1\u001b[9;32H2\u001b[9;32H1\u001b[9;32H0\u001b[9;32H1\u001b[9;32H0\u001b[9;31H39\u001b[9;31H41\u001b[9;32H2\u001b[9;31H39\u001b[9;31H41\u001b[9;32H0\u001b[9;32H1\u001b[9;32H0\u001b[9;32H1\u001b[9;32H0\u001b[9;32H1\u001b[9;32H0\u001b[9;32H1\u001b[9;32H0\u001b[9;32H1\u001b[9;32H0\u001b[9;32H1\u001b[9;32H0\u001b[9;32H1\u001b[9;32H0\u001b[9;32H1\u001b[9;32H0\u001b[9;32H1\u001b[9;32H0\u001b[9;32H1\u001b[9;32H0\u001b[9;32H1\u001b[9;32H0\u001b[9;32H1\u001b[9;32H0\u001b[9;32H1\u001b[9;32H0\u001b[9;32H1\u001b[9;31H39\u001b[9;31H40\u001b[9;32H1\u001b[9;32H0\u001b[9;32H1\u001b[9;31H39\u001b[9;31H41\u001b[9;32H0\u001b[9;31H39\u001b[9;31H40\u001b[9;31H39\u001b[9;31H40\u001b[9;32H1\u001b[9;31H39\u001b[9;31H40\u001b[9;32H1\u001b[9;32H0\u001b[9;32H1\u001b[9;32H0\u001b[9;31H39\u001b[9;31H40\u001b[9;32H1\u001b[9;32H0\u001b[9;32H1\u001b[9;32H0\u001b[9;32H1\u001b[9;32H0\u001b[9;32H1\u001b[9;32H0\u001b[9;31H39\u001b[9;31H40\u001b[9;32H1\u001b[9;31H39\u001b[9;31H40\u001b[9;31H39\u001b[9;31H41\u001b[9;32H0\u001b[9;32H1\u001b[9;32H0\u001b[9;32H1\u001b[9;32H0\u001b[9;32H1\u001b[9;32H0\u001b[9;32H1\u001b[9;32H0\u001b[9;32H1\u001b[m\u001b[38;5;3m\u001b[48;5;16m\u001b[9;1HLatency                       550ms\u001b[m\u001b[38;5;7m\u001b[48;5;16m\u001b[9;1HLatency                       152ms\u001b[m\u001b[38;5;3m\u001b[48;5;16m\u001b[9;1HLatency                       353ms\u001b[m\u001b[38;5;7m\u001b[48;5;16m\u001b[9;1HLatency                       152ms\u001b[9;31H41ms\u001b[m\u001b[38;5;16m\u001b[48;5;16m \u001b[m\u001b[38;5;7m\u001b[48;5;16m\u001b[9;31H39\u001b[9;31H41\u001b[9;32H0\u001b[9;32H1\u001b[9;32H0\u001b[9;32H1\u001b[9;32H0\u001b[9;32H1\u001b[9;31H39\u001b[9;31H41\u001b[9;31H39\u001b[9;31H41\u001b[9;31H39\u001b[9;31H40\u001b[9;32H1\u001b[9;31H39\u001b[9;31H41\u001b[9;31H39\u001b[9;31H41\u001b[9;32H0\u001b[9;32H1\u001b[9;31H39\u001b[9;31H41\u001b[9;32H0\u001b[9;32H1\u001b[9;32H0\u001b[9;32H1\u001b[9;31H39\u001b[9;31H41\u001b[9;32H2\u001b[9;32H1\u001b[9;31H39\u001b[9;31H41\u001b[9;32H0\u001b[9;32H1\u001b[9;31H39\u001b[9;31H40\u001b[9;32H1\u001b[9;31H39\u001b[9;31H42\u001b[9;32H1\u001b[9;32H0\u001b[9;32H1\u001b[9;32H0\u001b[9;32H1\u001b[9;32H0\u001b[9;31H39\u001b[9;31H41\u001b[9;32H2\u001b[9;32H1\u001b[9;32H0\u001b[9;32H1\u001b[9;31H39\u001b[9;31H41\u001b[9;31H39\u001b[9;31H41\u001b[9;31H39\u001b[9;31H41\u001b[9;31H39\u001b[9;31H41\u001b[9;31H39\u001b[9;31H40\u001b[9;32H1\u001b[9;32H0\u001b[9;32H1\u001b[9;31H39\u001b[9;31H41\u001b[9;31H39\u001b[9;31H41\u001b[9;32H0\u001b[9;32H1\u001b[9;31H39\u001b[9;31H41\u001b[9;32H0\u001b[9;32H1\u001b[9;32H0\u001b[9;32H1\u001b[9;31H39\u001b[9;31H41\u001b[9;32H0\u001b[9;32H1\u001b[9;31H39\u001b[9;31H40\u001b[9;32H1\u001b[9;31H39\u001b[9;31H41\u001b[14;50H2\u001b[14;50H1\u001b[9;31H39\u001b[9;31H41\u001b[9;32H0\u001b[9;32H1\u001b[14;50H0\u001b[9;31H39\u001b[9;31H41\u001b[9;32H0\u001b[9;32H1\u001b[9;32H0\u001b[9;32H1\u001b[9;32H0\u001b[9;32H1\u001b[9;31H39\u001b[9;31H41\u001b[9;32H0\u001b[9;32H1\u001b[9;31H39\u001b[9;31H40\u001b[9;32H1\u001b[9;32H0\u001b[9;31H39\u001b[9;31H41\u001b[9;32H0\u001b[9;32H1\u001b[14;39H1\u001b[19;14Hhealth\u001b[m\u001b[38;5;16m\u001b[48;5;16m\u001b[19;39H                       \u001b[m\u001b[38;5;7m\u001b[48;5;16m\u001b[20;14Hstream\u001b[20;39H101 Switching Protocols\u001b[21;15Health\u001b[m\u001b[38;5;16m\u001b[48;5;16m     \u001b[m\u001b[38;5;7m\u001b[48;5;16m\u001b[22;6H_stcore/host-config\u001b[m\u001b[38;5;16m\u001b[48;5;16m             \u001b[m\u001b[38;5;6m\u001b[48;5;16m\u001b[22;39H304 Not Modified\u001b[m\u001b[38;5;7m\u001b[48;5;16m\u001b[23;16H71\u001b[23;19H5\u001b[23;21Hbe4076bc\u001b[24;16H14\u001b[24;22H709db03\u001b[19;39H200 OK\u001b[14;39H2\u001b[19;15Host-config\u001b[m\u001b[38;5;16m\u001b[48;5;16m\u001b[19;39H      \u001b[m\u001b[38;5;7m\u001b[48;5;16m\u001b[20;14Hhealth\u001b[20;39H2\u001b[20;41H0\u001b[20;43HOK\u001b[m\u001b[38;5;16m\u001b[48;5;16m                 \u001b[m\u001b[38;5;7m\u001b[48;5;16m\u001b[21;14Hstream\u001b[21;39H101 Switching Protocols\u001b[22;15Health\u001b[m\u001b[38;5;16m\u001b[48;5;16m     \u001b[m\u001b[38;5;7m\u001b[48;5;16m\u001b[23;6H_stcore/host-config\u001b[m\u001b[38;5;16m\u001b[48;5;16m             \u001b[m\u001b[38;5;6m\u001b[48;5;16m\u001b[23;39H304 Not Modified\u001b[m\u001b[38;5;7m\u001b[48;5;16m\u001b[24;16H71\u001b[24;19H5\u001b[24;21Hbe4076bc\u001b[19;39H200 OK\u001b[14;39H3\u001b[19;14Hstream\u001b[m\u001b[38;5;16m\u001b[48;5;16m     \u001b[19;39H      \u001b[m\u001b[38;5;7m\u001b[48;5;16m\u001b[20;15Host-config\u001b[21;14Hhealth\u001b[21;39H2\u001b[21;41H0\u001b[21;43HOK\u001b[m\u001b[38;5;16m\u001b[48;5;16m                 \u001b[m\u001b[38;5;7m\u001b[48;5;16m\u001b[22;14Hstream\u001b[22;39H101 Switching Protocols\u001b[23;15Health\u001b[m\u001b[38;5;16m\u001b[48;5;16m     \u001b[m\u001b[38;5;7m\u001b[48;5;16m\u001b[24;6H_stcore/host-config\u001b[m\u001b[38;5;16m\u001b[48;5;16m             \u001b[m\u001b[38;5;6m\u001b[48;5;16m\u001b[24;39H304 Not Modified\u001b[m\u001b[38;5;7m\u001b[48;5;16m\u001b[19;39H101 Switching Protocols\u001b[9;32H0\u001b[9;32H1\u001b[9;31H39\u001b[9;31H40\u001b[9;32H1\u001b[9;31H39\u001b[9;31H41\u001b[9;32H0\u001b[9;32H1\u001b[14;32H5\u001b[14;39H2\u001b[14;67H5\u001b[14;71H2853\u001b[14;77H2\u001b[14;32H6\u001b[14;39H1\u001b[14;72H379\u001b[14;77H0\u001b[14;50H3\u001b[14;58H1\u001b[9;32H0\u001b[14;50H2\u001b[9;32H1\u001b[14;50H1\u001b[9;31H39\u001b[9;31H41\u001b[9;31H39\u001b[14;58H0\u001b[9;31H40\u001b[14;50H0\u001b[9;32H1\u001b[9;32H0\u001b[9;32H1\u001b[9;32H0\u001b[9;32H1\u001b[9;32H0\u001b[9;32H1\u001b[9;31H39\u001b[9;31H41\u001b[9;31H39\u001b[9;31H41\u001b[9;31H39\u001b[9;31H41\u001b[9;32H0\u001b[9;31H39\u001b[9;31H40\u001b[9;32H1\u001b[9;31H39\u001b[9;31H41\u001b[9;32H0\u001b[9;32H1\u001b[9;31H39\u001b[9;31H41\u001b[9;31H39\u001b[9;31H41\u001b[9;31H39\u001b[9;31H41\u001b[9;31H39\u001b[9;31H41\u001b[9;31H39\u001b[9;31H41\u001b[9;32H0\u001b[9;32H1\u001b[9;31H39\u001b[9;31H41\u001b[9;31H39\u001b[9;31H41\u001b[9;31H39\u001b[9;31H41\u001b[9;32H0\u001b[9;32H1\u001b[9;32H0\u001b[9;32H2\u001b[9;32H1\u001b[9;31H39\u001b[9;31H41\u001b[9;32H0\u001b[9;32H1\u001b[9;31H39\u001b[9;31H41\u001b[9;31H39\u001b[9;31H41\u001b[9;31H39\u001b[9;31H41\u001b[9;31H39\u001b[9;31H41\u001b[9;32H0\u001b[9;31H39\u001b[9;31H41\u001b[9;32H0\u001b[9;31H39\u001b[9;31H41\u001b[9;31H39\u001b[9;31H41\u001b[9;31H39\u001b[9;31H40\u001b[9;32H1\u001b[9;32H0\u001b[9;31H39\u001b[9;31H41\u001b[9;32H0\u001b[9;31H39\u001b[9;31H40\u001b[9;31H39\u001b[9;31H41\u001b[9;31H39\u001b[9;31H40\u001b[9;32H1\u001b[9;31H39\u001b[9;31H41\u001b[9;31H39\u001b[9;31H40\u001b[9;31H39\u001b[9;31H40\u001b[9;32H1\u001b[9;31H39\u001b[9;31H40\u001b[9;32H1\u001b[9;31H39\u001b[9;31H40\u001b[9;32H1\u001b[9;31H39\u001b[9;31H42\u001b[9;32H1\u001b[9;31H39\u001b[9;31H41\u001b[9;31H39\u001b[9;31H41\u001b[9;31H39\u001b[9;31H41\u001b[9;31H39\u001b[9;31H41\u001b[9;32H0\u001b[9;31H39\u001b[9;31H41\u001b[9;32H0\u001b[9;32H1\u001b[9;32H0\u001b[9;32H1\u001b[9;32H0\u001b[9;32H2\u001b[9;32H1\u001b[9;32H0\u001b[9;32H1\u001b[9;32H0\u001b[9;32H1\u001b[9;32H0\u001b[9;32H1\u001b[9;32H0\u001b[9;31H39\u001b[9;31H41\u001b[9;31H39\u001b[9;31H41\u001b[9;32H0\u001b[9;31H39\u001b[9;31H41\u001b[9;32H0\u001b[9;32H1\u001b[9;31H39\u001b[9;31H40\u001b[9;32H1\u001b[9;31H39\u001b[9;31H41\u001b[9;32H0\u001b[9;32H1\u001b[9;31H39\u001b[9;31H41\u001b[9;31H39\u001b[9;31H40\u001b[9;31H39\u001b[9;31H41\u001b[9;31H39\u001b[9;31H41\u001b[9;32H0\u001b[9;32H1\u001b[9;31H39\u001b[9;31H41\u001b[9;31H39\u001b[9;31H41\u001b[9;31H39\u001b[9;31H40\u001b[9;31H39\u001b[9;31H41\u001b[9;31H39\u001b[9;31H41\u001b[9;32H0\u001b[9;32H1\u001b[9;32H0\u001b[9;32H1\u001b[9;31H39\u001b[9;31H41\u001b[9;32H0\u001b[9;31H39\u001b[9;31H40\u001b[9;32H1\u001b[9;32H0\u001b[9;31H39\u001b[9;31H41\u001b[9;32H0\u001b[9;32H1\u001b[9;32H0\u001b[9;32H1\u001b[9;31H39\u001b[9;31H41\u001b[9;31H39\u001b[9;31H41\u001b[9;31H39\u001b[9;31H41\u001b[9;32H0\u001b[9;31H39\u001b[9;31H41\u001b[9;31H39\u001b[9;31H40\u001b[9;32H1\u001b[9;32H0\u001b[9;31H39\u001b[9;31H40\u001b[9;32H1\u001b[9;31H39\u001b[9;31H40\u001b[9;31H39\u001b[9;31H41\u001b[9;31H39\u001b[9;31H41\u001b[9;31H39\u001b[9;31H41\u001b[9;31H39\u001b[9;31H40\u001b[9;31H39\u001b[9;31H40\u001b[9;32H1\u001b[9;31H39\u001b[9;31H40\u001b[9;32H1\u001b[9;32H0\u001b[9;31H39\u001b[9;31H41\u001b[9;31H39\u001b[9;31H41\u001b[9;31H39\u001b[9;31H41\u001b[9;31H39\u001b[9;31H41\u001b[9;31H39\u001b[9;31H41\u001b[9;31H39\u001b[9;31H40\u001b[9;32H1\u001b[9;31H39\u001b[9;31H41\u001b[9;32H0\u001b[9;31H39\u001b[9;31H41\u001b[9;32H0\u001b[9;31H39\u001b[9;31H40\u001b[9;31H39\u001b[9;31H40\u001b[9;32H1\u001b[9;31H39\u001b[9;31H41\u001b[9;32H0\u001b[9;32H1\u001b[9;31H39\u001b[9;31H41\u001b[9;31H39\u001b[9;31H41\u001b[9;32H0\u001b[9;32H1\u001b[9;31H39\u001b[9;31H40\u001b[14;50H0\u001b[9;31H39\u001b[9;31H40\u001b[9;31H39\u001b[14;32H8\u001b[14;39H2\u001b[14;67H6\u001b[14;72H138\u001b[14;76H27\u001b[14;32H9\u001b[14;39H1\u001b[14;67H8\u001b[14;71H3965\u001b[14;76H01\u001b[14;50H4\u001b[14;58H1\u001b[14;50H3\u001b[9;31H41\u001b[9;31H39\u001b[14;50H2\u001b[9;31H41\u001b[9;31H39\u001b[9;31H41\u001b[14;50H1\u001b[9;32H0\u001b[9;32H1\u001b[9;32H0\u001b[9;32H1\u001b[14;50H0\u001b[9;32H0\u001b[9;32H1\u001b[9;32H0\u001b[9;32H1\u001b[9;32H0\u001b[14;58H0\u001b[9;31H39\u001b[9;31H40\u001b[9;32H1\u001b[9;32H0\u001b[9;32H2\u001b[9;32H1\u001b[9;31H39\u001b[9;31H41\u001b[9;31H39\u001b[9;31H40\u001b[9;32H1\u001b[9;31H39\u001b[9;31H41\u001b[9;32H0\u001b[9;32H1\u001b[9;31H39\u001b[9;31H42\u001b[9;32H1\u001b[9;32H0\u001b[9;31H39\u001b[14;50H2\u001b[14;58H1\u001b[14;50H1\u001b[9;31H41\u001b[14;58H0\u001b[9;31H39\u001b[9;31H41\u001b[9;32H0\u001b[9;32H1\u001b[14;50H0\u001b[9;32H0\u001b[9;32H1\u001b[9;32H0\u001b[9;32H1\u001b[9;32H0\u001b[9;32H1\u001b[9;32H0\u001b[9;32H1\u001b[9;32H0\u001b[9;32H1\u001b[9;32H0\u001b[9;32H1\u001b[9;32H0\u001b[9;32H1\u001b[9;32H0\u001b[9;32H1\u001b[9;32H0\u001b[9;32H1\u001b[9;32H0\u001b[9;31H39\u001b[9;31H41\u001b[9;32H0\u001b[9;32H1\u001b[9;31H39\u001b[9;31H40\u001b[9;32H1\u001b[9;32H0\u001b[14;39H2\u001b[m\u001b[38;5;16m\u001b[48;5;16m\u001b[19;39H      \u001b[20;39H      \u001b[m\u001b[38;5;7m\u001b[48;5;16m\u001b[21;14Hhealth\u001b[21;32H200 OK\u001b[m\u001b[38;5;16m\u001b[48;5;16m\u001b[21;39H                       \u001b[m\u001b[38;5;7m\u001b[48;5;16m\u001b[22;14Hhost-config\u001b[22;32H200 OK\u001b[m\u001b[38;5;16m\u001b[48;5;16m\u001b[22;39H                       \u001b[m\u001b[38;5;7m\u001b[48;5;16m\u001b[23;14Hstream\u001b[m\u001b[38;5;16m\u001b[48;5;16m     \u001b[m\u001b[38;5;7m\u001b[48;5;16m\u001b[23;32H101 Switching Protocols\u001b[24;14Hstream\u001b[24;32H101 Switching Protocols\u001b[19;32H200 OK\u001b[20;32H200 OK\u001b[9;31H39\u001b[14;39H3\u001b[19;14Hstream\u001b[m\u001b[38;5;16m\u001b[48;5;16m\u001b[19;32H      \u001b[m\u001b[38;5;7m\u001b[48;5;16m\u001b[20;15Health\u001b[m\u001b[38;5;16m\u001b[48;5;16m     \u001b[m\u001b[38;5;7m\u001b[48;5;16m\u001b[21;15Host-config\u001b[22;15Health\u001b[m\u001b[38;5;16m\u001b[48;5;16m     \u001b[m\u001b[38;5;7m\u001b[48;5;16m\u001b[23;14Hhost-config\u001b[23;32H2\u001b[23;34H0\u001b[23;36HOK\u001b[m\u001b[38;5;16m\u001b[48;5;16m                 \u001b[m\u001b[38;5;7m\u001b[48;5;16m\u001b[19;32H101 Switching Protocols\u001b[9;31H41\u001b[9;32H0\u001b[9;31H39\u001b[9;31H41\u001b[9;31H39\u001b[14;32H1\u001b[14;39H2\u001b[14;72H3\u001b[14;74H3\u001b[14;76H50\u001b[14;32H2\u001b[14;39H1\u001b[14;72H0\u001b[14;74H2\u001b[14;76H74\u001b[14;50H3\u001b[14;58H1\u001b[9;31H41\u001b[14;50H2\u001b[14;50H1\u001b[9;32H0\u001b[9;32H1\u001b[14;58H0\u001b[9;32H0\u001b[9;32H1\u001b[14;50H0\u001b[9;32H0\u001b[9;32H1\u001b[9;31H39\u001b[9;31H41\u001b[9;32H0\u001b[9;31H39\u001b[9;31H41\u001b[9;32H0\u001b[9;32H1\u001b[9;31H39\u001b[9;31H41\u001b[9;32H0\u001b[9;32H1\u001b[9;32H0\u001b[9;31H39\u001b[9;31H41\u001b[9;32H0\u001b[9;32H1\u001b[9;32H0\u001b[9;31H39\u001b[9;31H41\u001b[9;32H0\u001b[9;32H1\u001b[9;32H0\u001b[9;32H1\u001b[9;31H39\u001b[9;31H41\u001b[9;32H0\u001b[9;32H1\u001b[9;32H0\u001b[9;31H39\u001b[9;31H41\u001b[9;32H0\u001b[9;32H1\u001b[9;32H0\u001b[9;32H1\u001b[9;31H39\u001b[9;31H41\u001b[9;32H0\u001b[9;32H1\u001b[9;31H39\u001b[9;31H41\u001b[9;32H0\u001b[9;31H39\u001b[9;31H41\u001b[9;32H0\u001b[9;31H39\u001b[9;31H41\u001b[9;32H0\u001b[9;32H1\u001b[9;32H0\u001b[9;32H1\u001b[9;32H0\u001b[9;32H1\u001b[9;31H39\u001b[9;31H41\u001b[9;31H39\u001b[9;31H65\u001b[9;31H41\u001b[9;31H39\u001b[9;31H41\u001b[9;32H0\u001b[9;32H1\u001b[9;32H0\u001b[9;32H1\u001b[9;31H39\u001b[9;31H41\u001b[9;31H39\u001b[9;31H40\u001b[9;32H1\u001b[9;31H39\u001b[9;31H41\u001b[9;31H39\u001b[9;31H41\u001b[9;32H0"
     ]
    }
   ],
   "source": [
    "!ngrok http 8502"
   ]
  },
  {
   "cell_type": "code",
   "execution_count": 55,
   "id": "c2e68736-379c-4537-b94d-c16e461b1456",
   "metadata": {},
   "outputs": [
    {
     "name": "stdout",
     "output_type": "stream",
     "text": [
      "Requirement already satisfied: transformers in /usr/local/lib/python3.8/dist-packages (4.40.2)\n",
      "Requirement already satisfied: tqdm>=4.27 in /usr/local/lib/python3.8/dist-packages (from transformers) (4.66.4)\n",
      "Requirement already satisfied: filelock in /usr/local/lib/python3.8/dist-packages (from transformers) (3.13.3)\n",
      "Requirement already satisfied: regex!=2019.12.17 in /usr/local/lib/python3.8/dist-packages (from transformers) (2024.5.10)\n",
      "Requirement already satisfied: numpy>=1.17 in /usr/local/lib/python3.8/dist-packages (from transformers) (1.24.4)\n",
      "Requirement already satisfied: tokenizers<0.20,>=0.19 in /usr/local/lib/python3.8/dist-packages (from transformers) (0.19.1)\n",
      "Requirement already satisfied: huggingface-hub<1.0,>=0.19.3 in /usr/local/lib/python3.8/dist-packages (from transformers) (0.23.0)\n",
      "Requirement already satisfied: safetensors>=0.4.1 in /usr/local/lib/python3.8/dist-packages (from transformers) (0.4.3)\n",
      "Requirement already satisfied: packaging>=20.0 in /usr/local/lib/python3.8/dist-packages (from transformers) (24.0)\n",
      "Requirement already satisfied: pyyaml>=5.1 in /usr/local/lib/python3.8/dist-packages (from transformers) (6.0.1)\n",
      "Requirement already satisfied: requests in /usr/local/lib/python3.8/dist-packages (from transformers) (2.31.0)\n",
      "Requirement already satisfied: fsspec>=2023.5.0 in /usr/local/lib/python3.8/dist-packages (from huggingface-hub<1.0,>=0.19.3->transformers) (2024.3.1)\n",
      "Requirement already satisfied: typing-extensions>=3.7.4.3 in /usr/local/lib/python3.8/dist-packages (from huggingface-hub<1.0,>=0.19.3->transformers) (4.10.0)\n",
      "Requirement already satisfied: idna<4,>=2.5 in /usr/lib/python3/dist-packages (from requests->transformers) (2.8)\n",
      "Requirement already satisfied: charset-normalizer<4,>=2 in /usr/local/lib/python3.8/dist-packages (from requests->transformers) (3.3.2)\n",
      "Requirement already satisfied: urllib3<3,>=1.21.1 in /usr/lib/python3/dist-packages (from requests->transformers) (1.25.8)\n",
      "Requirement already satisfied: certifi>=2017.4.17 in /usr/lib/python3/dist-packages (from requests->transformers) (2019.11.28)\n"
     ]
    }
   ],
   "source": [
    "!pip install transformers"
   ]
  },
  {
   "cell_type": "code",
   "execution_count": 52,
   "id": "573e0a39-a501-4b02-8d50-184fcbcabfa6",
   "metadata": {},
   "outputs": [
    {
     "name": "stdout",
     "output_type": "stream",
     "text": [
      "Collecting bitsandbytes\n",
      "  Downloading bitsandbytes-0.42.0-py3-none-any.whl (105.0 MB)\n",
      "\u001b[K     |████████████████████████████████| 105.0 MB 44 kB/s eta 0:00:011\n",
      "\u001b[?25hCollecting scipy\n",
      "  Downloading scipy-1.10.1-cp38-cp38-manylinux_2_17_x86_64.manylinux2014_x86_64.whl (34.5 MB)\n",
      "\u001b[K     |████████████████████████████████| 34.5 MB 107.8 MB/s eta 0:00:01\n",
      "\u001b[?25hRequirement already satisfied: numpy<1.27.0,>=1.19.5 in /usr/local/lib/python3.8/dist-packages (from scipy->bitsandbytes) (1.24.4)\n",
      "Installing collected packages: scipy, bitsandbytes\n",
      "Successfully installed bitsandbytes-0.42.0 scipy-1.10.1\n"
     ]
    }
   ],
   "source": [
    "!pip install bitsandbytes"
   ]
  },
  {
   "cell_type": "code",
   "execution_count": 56,
   "id": "9cd0ce77-054e-4b87-980a-d84b329a5ce4",
   "metadata": {},
   "outputs": [
    {
     "name": "stdout",
     "output_type": "stream",
     "text": [
      "Collecting accelerate\n",
      "  Downloading accelerate-0.30.0-py3-none-any.whl (302 kB)\n",
      "\u001b[K     |████████████████████████████████| 302 kB 3.1 MB/s eta 0:00:01\n",
      "\u001b[?25hRequirement already satisfied: psutil in /usr/local/lib/python3.8/dist-packages (from accelerate) (5.9.8)\n",
      "Requirement already satisfied: packaging>=20.0 in /usr/local/lib/python3.8/dist-packages (from accelerate) (24.0)\n",
      "Requirement already satisfied: pyyaml in /usr/local/lib/python3.8/dist-packages (from accelerate) (6.0.1)\n",
      "Requirement already satisfied: safetensors>=0.3.1 in /usr/local/lib/python3.8/dist-packages (from accelerate) (0.4.3)\n",
      "Requirement already satisfied: torch>=1.10.0 in /usr/local/lib/python3.8/dist-packages (from accelerate) (2.2.2)\n",
      "Requirement already satisfied: huggingface-hub in /usr/local/lib/python3.8/dist-packages (from accelerate) (0.23.0)\n",
      "Requirement already satisfied: numpy>=1.17 in /usr/local/lib/python3.8/dist-packages (from accelerate) (1.24.4)\n",
      "Requirement already satisfied: nvidia-cusparse-cu12==12.1.0.106; platform_system == \"Linux\" and platform_machine == \"x86_64\" in /usr/local/lib/python3.8/dist-packages (from torch>=1.10.0->accelerate) (12.1.0.106)\n",
      "Requirement already satisfied: nvidia-nccl-cu12==2.19.3; platform_system == \"Linux\" and platform_machine == \"x86_64\" in /usr/local/lib/python3.8/dist-packages (from torch>=1.10.0->accelerate) (2.19.3)\n",
      "Requirement already satisfied: nvidia-cuda-cupti-cu12==12.1.105; platform_system == \"Linux\" and platform_machine == \"x86_64\" in /usr/local/lib/python3.8/dist-packages (from torch>=1.10.0->accelerate) (12.1.105)\n",
      "Requirement already satisfied: nvidia-nvtx-cu12==12.1.105; platform_system == \"Linux\" and platform_machine == \"x86_64\" in /usr/local/lib/python3.8/dist-packages (from torch>=1.10.0->accelerate) (12.1.105)\n",
      "Requirement already satisfied: sympy in /usr/local/lib/python3.8/dist-packages (from torch>=1.10.0->accelerate) (1.12)\n",
      "Requirement already satisfied: typing-extensions>=4.8.0 in /usr/local/lib/python3.8/dist-packages (from torch>=1.10.0->accelerate) (4.10.0)\n",
      "Requirement already satisfied: nvidia-cuda-nvrtc-cu12==12.1.105; platform_system == \"Linux\" and platform_machine == \"x86_64\" in /usr/local/lib/python3.8/dist-packages (from torch>=1.10.0->accelerate) (12.1.105)\n",
      "Requirement already satisfied: nvidia-curand-cu12==10.3.2.106; platform_system == \"Linux\" and platform_machine == \"x86_64\" in /usr/local/lib/python3.8/dist-packages (from torch>=1.10.0->accelerate) (10.3.2.106)\n",
      "Requirement already satisfied: fsspec in /usr/local/lib/python3.8/dist-packages (from torch>=1.10.0->accelerate) (2024.3.1)\n",
      "Requirement already satisfied: triton==2.2.0; platform_system == \"Linux\" and platform_machine == \"x86_64\" and python_version < \"3.12\" in /usr/local/lib/python3.8/dist-packages (from torch>=1.10.0->accelerate) (2.2.0)\n",
      "Requirement already satisfied: jinja2 in /usr/local/lib/python3.8/dist-packages (from torch>=1.10.0->accelerate) (3.1.3)\n",
      "Requirement already satisfied: nvidia-cublas-cu12==12.1.3.1; platform_system == \"Linux\" and platform_machine == \"x86_64\" in /usr/local/lib/python3.8/dist-packages (from torch>=1.10.0->accelerate) (12.1.3.1)\n",
      "Requirement already satisfied: nvidia-cufft-cu12==11.0.2.54; platform_system == \"Linux\" and platform_machine == \"x86_64\" in /usr/local/lib/python3.8/dist-packages (from torch>=1.10.0->accelerate) (11.0.2.54)\n",
      "Requirement already satisfied: nvidia-cuda-runtime-cu12==12.1.105; platform_system == \"Linux\" and platform_machine == \"x86_64\" in /usr/local/lib/python3.8/dist-packages (from torch>=1.10.0->accelerate) (12.1.105)\n",
      "Requirement already satisfied: nvidia-cusolver-cu12==11.4.5.107; platform_system == \"Linux\" and platform_machine == \"x86_64\" in /usr/local/lib/python3.8/dist-packages (from torch>=1.10.0->accelerate) (11.4.5.107)\n",
      "Requirement already satisfied: networkx in /usr/local/lib/python3.8/dist-packages (from torch>=1.10.0->accelerate) (3.1)\n",
      "Requirement already satisfied: filelock in /usr/local/lib/python3.8/dist-packages (from torch>=1.10.0->accelerate) (3.13.3)\n",
      "Requirement already satisfied: nvidia-cudnn-cu12==8.9.2.26; platform_system == \"Linux\" and platform_machine == \"x86_64\" in /usr/local/lib/python3.8/dist-packages (from torch>=1.10.0->accelerate) (8.9.2.26)\n",
      "Requirement already satisfied: requests in /usr/local/lib/python3.8/dist-packages (from huggingface-hub->accelerate) (2.31.0)\n",
      "Requirement already satisfied: tqdm>=4.42.1 in /usr/local/lib/python3.8/dist-packages (from huggingface-hub->accelerate) (4.66.4)\n",
      "Requirement already satisfied: nvidia-nvjitlink-cu12 in /usr/local/lib/python3.8/dist-packages (from nvidia-cusparse-cu12==12.1.0.106; platform_system == \"Linux\" and platform_machine == \"x86_64\"->torch>=1.10.0->accelerate) (12.4.99)\n",
      "Requirement already satisfied: mpmath>=0.19 in /usr/local/lib/python3.8/dist-packages (from sympy->torch>=1.10.0->accelerate) (1.3.0)\n",
      "Requirement already satisfied: MarkupSafe>=2.0 in /usr/local/lib/python3.8/dist-packages (from jinja2->torch>=1.10.0->accelerate) (2.1.5)\n",
      "Requirement already satisfied: urllib3<3,>=1.21.1 in /usr/lib/python3/dist-packages (from requests->huggingface-hub->accelerate) (1.25.8)\n",
      "Requirement already satisfied: charset-normalizer<4,>=2 in /usr/local/lib/python3.8/dist-packages (from requests->huggingface-hub->accelerate) (3.3.2)\n",
      "Requirement already satisfied: certifi>=2017.4.17 in /usr/lib/python3/dist-packages (from requests->huggingface-hub->accelerate) (2019.11.28)\n",
      "Requirement already satisfied: idna<4,>=2.5 in /usr/lib/python3/dist-packages (from requests->huggingface-hub->accelerate) (2.8)\n",
      "Installing collected packages: accelerate\n",
      "Successfully installed accelerate-0.30.0\n"
     ]
    }
   ],
   "source": [
    "!pip install accelerate"
   ]
  },
  {
   "cell_type": "code",
   "execution_count": null,
   "id": "3c82ea19-f00d-4ec8-b2db-9c4436cf78b4",
   "metadata": {},
   "outputs": [],
   "source": [
    "!streamlit run app.py --server.port 8502"
   ]
  }
 ],
 "metadata": {
  "kernelspec": {
   "display_name": "Python 3 (ipykernel)",
   "language": "python",
   "name": "python3"
  },
  "language_info": {
   "codemirror_mode": {
    "name": "ipython",
    "version": 3
   },
   "file_extension": ".py",
   "mimetype": "text/x-python",
   "name": "python",
   "nbconvert_exporter": "python",
   "pygments_lexer": "ipython3",
   "version": "3.8.10"
  }
 },
 "nbformat": 4,
 "nbformat_minor": 5
}
