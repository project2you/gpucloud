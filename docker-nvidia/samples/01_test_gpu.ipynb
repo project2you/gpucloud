{
 "cells": [
  {
   "cell_type": "code",
   "execution_count": 1,
   "id": "721e7d64-cbee-47c7-85eb-4463e092b962",
   "metadata": {},
   "outputs": [
    {
     "name": "stdout",
     "output_type": "stream",
     "text": [
      "Fri May 10 21:45:29 2024       \n",
      "+-----------------------------------------------------------------------------------------+\n",
      "| NVIDIA-SMI 550.78                 Driver Version: 550.78         CUDA Version: 12.4     |\n",
      "|-----------------------------------------+------------------------+----------------------+\n",
      "| GPU  Name                 Persistence-M | Bus-Id          Disp.A | Volatile Uncorr. ECC |\n",
      "| Fan  Temp   Perf          Pwr:Usage/Cap |           Memory-Usage | GPU-Util  Compute M. |\n",
      "|                                         |                        |               MIG M. |\n",
      "|=========================================+========================+======================|\n",
      "|   0  NVIDIA GeForce RTX 3060        Off |   00000000:01:00.0 Off |                  N/A |\n",
      "|  0%   41C    P8             10W /  170W |    4806MiB /  12288MiB |      0%      Default |\n",
      "|                                         |                        |                  N/A |\n",
      "+-----------------------------------------+------------------------+----------------------+\n",
      "                                                                                         \n",
      "+-----------------------------------------------------------------------------------------+\n",
      "| Processes:                                                                              |\n",
      "|  GPU   GI   CI        PID   Type   Process name                              GPU Memory |\n",
      "|        ID   ID                                                               Usage      |\n",
      "|=========================================================================================|\n",
      "+-----------------------------------------------------------------------------------------+\n"
     ]
    }
   ],
   "source": [
    "!nvidia-smi"
   ]
  },
  {
   "cell_type": "code",
   "execution_count": 2,
   "id": "2dfaab52-6379-45a5-b351-a17bf89d0730",
   "metadata": {},
   "outputs": [
    {
     "name": "stdout",
     "output_type": "stream",
     "text": [
      "CUDA available: True\n",
      "จำนวน GPUs: 1\n",
      "GPU 0: NVIDIA GeForce RTX 3060\n",
      "กำลังใช้งาน GPU: NVIDIA GeForce RTX 3060\n",
      "เวลาที่ใช้ในการคูณเทนเซอร์: 0.016326189041137695 วินาที\n"
     ]
    }
   ],
   "source": [
    "import torch\n",
    "import time\n",
    "import torch\n",
    "\n",
    "# ตรวจสอบว่า CUDA พร้อมใช้งานหรือไม่\n",
    "print(\"CUDA available:\", torch.cuda.is_available())\n",
    "print(\"จำนวน GPUs:\", torch.cuda.device_count())\n",
    "\n",
    "# แสดงรายละเอียดของแต่ละ GPU\n",
    "for i in range(torch.cuda.device_count()):\n",
    "    print(f\"GPU {i}: {torch.cuda.get_device_name(i)}\")\n",
    "\n",
    "\n",
    "# ตรวจสอบว่า CUDA (GPU support) มีให้ใช้งานหรือไม่\n",
    "if torch.cuda.is_available():\n",
    "    device = torch.device(\"cuda\")\n",
    "    print(\"กำลังใช้งาน GPU:\", torch.cuda.get_device_name(0))\n",
    "else:\n",
    "    device = torch.device(\"cpu\")\n",
    "    print(\"GPU ไม่พร้อมใช้งาน, กำลังใช้งาน CPU แทน\")\n",
    "\n",
    "# สร้างเทนเซอร์แบบสุ่มบน CPU และ ย้ายไปยัง GPU (ถ้ามี)\n",
    "x = torch.rand(10000, 10000)\n",
    "y = torch.rand(10000, 10000)\n",
    "\n",
    "# ย้ายเทนเซอร์ไปยัง device (GPU หรือ CPU)\n",
    "x = x.to(device)\n",
    "y = y.to(device)\n",
    "\n",
    "# เริ่มการคำนวณและวัดเวลา\n",
    "start_time = time.time()\n",
    "z = torch.matmul(x, y)\n",
    "print(\"เวลาที่ใช้ในการคูณเทนเซอร์:\", time.time() - start_time, \"วินาที\")\n",
    "\n",
    "# (ตัวเลือก) ย้ายผลลัพธ์กลับมายัง CPU\n",
    "if device == torch.device(\"cuda\"):\n",
    "    z = z.to(\"cpu\")\n"
   ]
  },
  {
   "cell_type": "code",
   "execution_count": null,
   "id": "a07fd160-83f6-4a4a-9c0f-1c432906daa2",
   "metadata": {},
   "outputs": [],
   "source": []
  },
  {
   "cell_type": "code",
   "execution_count": null,
   "id": "10940e07-54a6-4fa0-9553-af11170207a6",
   "metadata": {},
   "outputs": [],
   "source": []
  }
 ],
 "metadata": {
  "kernelspec": {
   "display_name": "Python 3 (ipykernel)",
   "language": "python",
   "name": "python3"
  },
  "language_info": {
   "codemirror_mode": {
    "name": "ipython",
    "version": 3
   },
   "file_extension": ".py",
   "mimetype": "text/x-python",
   "name": "python",
   "nbconvert_exporter": "python",
   "pygments_lexer": "ipython3",
   "version": "3.8.10"
  }
 },
 "nbformat": 4,
 "nbformat_minor": 5
}
