{
 "cells": [
  {
   "cell_type": "code",
   "execution_count": 11,
   "id": "5652572c-c4f2-4fb5-89c9-a34ca22e4f3c",
   "metadata": {},
   "outputs": [
    {
     "name": "stdout",
     "output_type": "stream",
     "text": [
      "Requirement already satisfied: torchmetrics in /usr/local/lib/python3.10/dist-packages (1.4.0.post0)\n",
      "Requirement already satisfied: numpy>1.20.0 in /usr/local/lib/python3.10/dist-packages (from torchmetrics) (1.26.4)\n",
      "Requirement already satisfied: packaging>17.1 in /usr/local/lib/python3.10/dist-packages (from torchmetrics) (24.1)\n",
      "Requirement already satisfied: torch>=1.10.0 in /usr/local/lib/python3.10/dist-packages (from torchmetrics) (2.3.1)\n",
      "Requirement already satisfied: lightning-utilities>=0.8.0 in /usr/local/lib/python3.10/dist-packages (from torchmetrics) (0.11.2)\n",
      "Requirement already satisfied: setuptools in /usr/lib/python3/dist-packages (from lightning-utilities>=0.8.0->torchmetrics) (59.6.0)\n",
      "Requirement already satisfied: typing-extensions in /usr/local/lib/python3.10/dist-packages (from lightning-utilities>=0.8.0->torchmetrics) (4.12.2)\n",
      "Requirement already satisfied: filelock in /usr/local/lib/python3.10/dist-packages (from torch>=1.10.0->torchmetrics) (3.15.1)\n",
      "Requirement already satisfied: sympy in /usr/local/lib/python3.10/dist-packages (from torch>=1.10.0->torchmetrics) (1.12.1)\n",
      "Requirement already satisfied: networkx in /usr/local/lib/python3.10/dist-packages (from torch>=1.10.0->torchmetrics) (3.3)\n",
      "Requirement already satisfied: jinja2 in /usr/local/lib/python3.10/dist-packages (from torch>=1.10.0->torchmetrics) (3.1.4)\n",
      "Requirement already satisfied: fsspec in /usr/local/lib/python3.10/dist-packages (from torch>=1.10.0->torchmetrics) (2024.5.0)\n",
      "Requirement already satisfied: nvidia-cuda-nvrtc-cu12==12.1.105 in /usr/local/lib/python3.10/dist-packages (from torch>=1.10.0->torchmetrics) (12.1.105)\n",
      "Requirement already satisfied: nvidia-cuda-runtime-cu12==12.1.105 in /usr/local/lib/python3.10/dist-packages (from torch>=1.10.0->torchmetrics) (12.1.105)\n",
      "Requirement already satisfied: nvidia-cuda-cupti-cu12==12.1.105 in /usr/local/lib/python3.10/dist-packages (from torch>=1.10.0->torchmetrics) (12.1.105)\n",
      "Requirement already satisfied: nvidia-cudnn-cu12==8.9.2.26 in /usr/local/lib/python3.10/dist-packages (from torch>=1.10.0->torchmetrics) (8.9.2.26)\n",
      "Requirement already satisfied: nvidia-cublas-cu12==12.1.3.1 in /usr/local/lib/python3.10/dist-packages (from torch>=1.10.0->torchmetrics) (12.1.3.1)\n",
      "Requirement already satisfied: nvidia-cufft-cu12==11.0.2.54 in /usr/local/lib/python3.10/dist-packages (from torch>=1.10.0->torchmetrics) (11.0.2.54)\n",
      "Requirement already satisfied: nvidia-curand-cu12==10.3.2.106 in /usr/local/lib/python3.10/dist-packages (from torch>=1.10.0->torchmetrics) (10.3.2.106)\n",
      "Requirement already satisfied: nvidia-cusolver-cu12==11.4.5.107 in /usr/local/lib/python3.10/dist-packages (from torch>=1.10.0->torchmetrics) (11.4.5.107)\n",
      "Requirement already satisfied: nvidia-cusparse-cu12==12.1.0.106 in /usr/local/lib/python3.10/dist-packages (from torch>=1.10.0->torchmetrics) (12.1.0.106)\n",
      "Requirement already satisfied: nvidia-nccl-cu12==2.20.5 in /usr/local/lib/python3.10/dist-packages (from torch>=1.10.0->torchmetrics) (2.20.5)\n",
      "Requirement already satisfied: nvidia-nvtx-cu12==12.1.105 in /usr/local/lib/python3.10/dist-packages (from torch>=1.10.0->torchmetrics) (12.1.105)\n",
      "Requirement already satisfied: triton==2.3.1 in /usr/local/lib/python3.10/dist-packages (from torch>=1.10.0->torchmetrics) (2.3.1)\n",
      "Requirement already satisfied: nvidia-nvjitlink-cu12 in /usr/local/lib/python3.10/dist-packages (from nvidia-cusolver-cu12==11.4.5.107->torch>=1.10.0->torchmetrics) (12.5.40)\n",
      "Requirement already satisfied: MarkupSafe>=2.0 in /usr/local/lib/python3.10/dist-packages (from jinja2->torch>=1.10.0->torchmetrics) (2.1.5)\n",
      "Requirement already satisfied: mpmath<1.4.0,>=1.1.0 in /usr/local/lib/python3.10/dist-packages (from sympy->torch>=1.10.0->torchmetrics) (1.3.0)\n",
      "\u001b[33mWARNING: Running pip as the 'root' user can result in broken permissions and conflicting behaviour with the system package manager. It is recommended to use a virtual environment instead: https://pip.pypa.io/warnings/venv\u001b[0m\u001b[33m\n",
      "\u001b[0m\n",
      "\u001b[1m[\u001b[0m\u001b[34;49mnotice\u001b[0m\u001b[1;39;49m]\u001b[0m\u001b[39;49m A new release of pip is available: \u001b[0m\u001b[31;49m24.0\u001b[0m\u001b[39;49m -> \u001b[0m\u001b[32;49m24.1\u001b[0m\n",
      "\u001b[1m[\u001b[0m\u001b[34;49mnotice\u001b[0m\u001b[1;39;49m]\u001b[0m\u001b[39;49m To update, run: \u001b[0m\u001b[32;49mpython3 -m pip install --upgrade pip\u001b[0m\n"
     ]
    }
   ],
   "source": [
    "!pip install -U torchmetrics\n"
   ]
  },
  {
   "cell_type": "code",
   "execution_count": 12,
   "id": "0e19280f-324b-496a-ba41-d6cad85ab702",
   "metadata": {},
   "outputs": [
    {
     "name": "stdout",
     "output_type": "stream",
     "text": [
      "Requirement already satisfied: pip in /usr/local/lib/python3.10/dist-packages (24.0)\n",
      "Collecting pip\n",
      "  Downloading pip-24.1-py3-none-any.whl.metadata (3.6 kB)\n",
      "Downloading pip-24.1-py3-none-any.whl (1.8 MB)\n",
      "\u001b[2K   \u001b[90m━━━━━━━━━━━━━━━━━━━━━━━━━━━━━━━━━━━━━━━━\u001b[0m \u001b[32m1.8/1.8 MB\u001b[0m \u001b[31m21.2 MB/s\u001b[0m eta \u001b[36m0:00:00\u001b[0ma \u001b[36m0:00:01\u001b[0m\n",
      "\u001b[?25hInstalling collected packages: pip\n",
      "  Attempting uninstall: pip\n",
      "    Found existing installation: pip 24.0\n",
      "    Uninstalling pip-24.0:\n",
      "      Successfully uninstalled pip-24.0\n",
      "Successfully installed pip-24.1\n",
      "\u001b[33mWARNING: Running pip as the 'root' user can result in broken permissions and conflicting behaviour with the system package manager. It is recommended to use a virtual environment instead: https://pip.pypa.io/warnings/venv\u001b[0m\u001b[33m\n",
      "\u001b[0m"
     ]
    }
   ],
   "source": [
    "!python3 -m pip install --upgrade pip"
   ]
  },
  {
   "cell_type": "code",
   "execution_count": 1,
   "id": "eaab8347-adad-4ae0-8342-b7ad35ab6134",
   "metadata": {},
   "outputs": [
    {
     "name": "stdout",
     "output_type": "stream",
     "text": [
      "Optimizer: SGD, LR: 0.005, Betas: (0.85, 0.999)\n"
     ]
    },
    {
     "name": "stderr",
     "output_type": "stream",
     "text": [
      "GPU available: True (cuda), used: True\n",
      "TPU available: False, using: 0 TPU cores\n",
      "HPU available: False, using: 0 HPUs\n",
      "/usr/local/lib/python3.10/dist-packages/pytorch_lightning/trainer/configuration_validator.py:70: You defined a `validation_step` but have no `val_dataloader`. Skipping val loop.\n",
      "You are using a CUDA device ('NVIDIA GeForce RTX 4090') that has Tensor Cores. To properly utilize them, you should set `torch.set_float32_matmul_precision('medium' | 'high')` which will trade-off precision for performance. For more details, read https://pytorch.org/docs/stable/generated/torch.set_float32_matmul_precision.html#torch.set_float32_matmul_precision\n"
     ]
    },
    {
     "name": "stdout",
     "output_type": "stream",
     "text": [
      "loading annotations into memory...\n",
      "Done (t=6.20s)\n",
      "creating index...\n"
     ]
    },
    {
     "name": "stderr",
     "output_type": "stream",
     "text": [
      "/usr/local/lib/python3.10/dist-packages/pytorch_lightning/callbacks/model_checkpoint.py:652: Checkpoint directory /notebooks/checkpoints exists and is not empty.\n",
      "LOCAL_RANK: 0 - CUDA_VISIBLE_DEVICES: [0]\n",
      "\n",
      "  | Name      | Type             | Params | Mode \n",
      "-------------------------------------------------------\n",
      "0 | conv1     | Conv2d           | 448    | train\n",
      "1 | conv2     | Conv2d           | 4.6 K  | train\n",
      "2 | fc1       | Linear           | 15.7 M | train\n",
      "3 | fc2       | Linear           | 11.7 K | train\n",
      "4 | loss_func | CrossEntropyLoss | 0      | train\n",
      "-------------------------------------------------------\n",
      "15.8 M    Trainable params\n",
      "0         Non-trainable params\n",
      "15.8 M    Total params\n",
      "63.048    Total estimated model params size (MB)\n"
     ]
    },
    {
     "name": "stdout",
     "output_type": "stream",
     "text": [
      "index created!\n"
     ]
    },
    {
     "data": {
      "application/vnd.jupyter.widget-view+json": {
       "model_id": "7eac3ab2498b4e119584f613f55492e7",
       "version_major": 2,
       "version_minor": 0
      },
      "text/plain": [
       "Training: |          | 0/? [00:00<?, ?it/s]"
      ]
     },
     "metadata": {},
     "output_type": "display_data"
    },
    {
     "name": "stderr",
     "output_type": "stream",
     "text": [
      "`Trainer.fit` stopped: `max_epochs=5` reached.\n"
     ]
    },
    {
     "name": "stdout",
     "output_type": "stream",
     "text": [
      "loading annotations into memory...\n",
      "Done (t=7.21s)\n",
      "creating index...\n"
     ]
    },
    {
     "name": "stderr",
     "output_type": "stream",
     "text": [
      "LOCAL_RANK: 0 - CUDA_VISIBLE_DEVICES: [0]\n"
     ]
    },
    {
     "name": "stdout",
     "output_type": "stream",
     "text": [
      "index created!\n"
     ]
    },
    {
     "name": "stderr",
     "output_type": "stream",
     "text": [
      "/usr/local/lib/python3.10/dist-packages/pytorch_lightning/trainer/connectors/data_connector.py:475: Your `val_dataloader`'s sampler has shuffling enabled, it is strongly recommended that you turn shuffling off for val/test dataloaders.\n"
     ]
    },
    {
     "data": {
      "application/vnd.jupyter.widget-view+json": {
       "model_id": "a7f4c4a0c0704ece9b19dd9fd1c62d0a",
       "version_major": 2,
       "version_minor": 0
      },
      "text/plain": [
       "Validation: |          | 0/? [00:00<?, ?it/s]"
      ]
     },
     "metadata": {},
     "output_type": "display_data"
    },
    {
     "name": "stderr",
     "output_type": "stream",
     "text": [
      "GPU available: True (cuda), used: True\n",
      "TPU available: False, using: 0 TPU cores\n",
      "HPU available: False, using: 0 HPUs\n"
     ]
    },
    {
     "name": "stdout",
     "output_type": "stream",
     "text": [
      "--------------------------------------------------\n",
      "Optimizer: SGD, LR: 0.01, Betas: (0.85, 0.999)\n",
      "loading annotations into memory...\n"
     ]
    },
    {
     "name": "stderr",
     "output_type": "stream",
     "text": [
      "/usr/local/lib/python3.10/dist-packages/pytorch_lightning/trainer/configuration_validator.py:70: You defined a `validation_step` but have no `val_dataloader`. Skipping val loop.\n"
     ]
    },
    {
     "name": "stdout",
     "output_type": "stream",
     "text": [
      "Done (t=9.79s)\n",
      "creating index...\n",
      "index created!\n"
     ]
    },
    {
     "name": "stderr",
     "output_type": "stream",
     "text": [
      "/usr/local/lib/python3.10/dist-packages/pytorch_lightning/callbacks/model_checkpoint.py:652: Checkpoint directory /notebooks/checkpoints exists and is not empty.\n",
      "LOCAL_RANK: 0 - CUDA_VISIBLE_DEVICES: [0]\n",
      "\n",
      "  | Name      | Type             | Params | Mode \n",
      "-------------------------------------------------------\n",
      "0 | conv1     | Conv2d           | 448    | train\n",
      "1 | conv2     | Conv2d           | 4.6 K  | train\n",
      "2 | fc1       | Linear           | 15.7 M | train\n",
      "3 | fc2       | Linear           | 11.7 K | train\n",
      "4 | loss_func | CrossEntropyLoss | 0      | train\n",
      "-------------------------------------------------------\n",
      "15.8 M    Trainable params\n",
      "0         Non-trainable params\n",
      "15.8 M    Total params\n",
      "63.048    Total estimated model params size (MB)\n"
     ]
    },
    {
     "data": {
      "application/vnd.jupyter.widget-view+json": {
       "model_id": "49b27215b46043149d5539be7693e6c1",
       "version_major": 2,
       "version_minor": 0
      },
      "text/plain": [
       "Training: |          | 0/? [00:00<?, ?it/s]"
      ]
     },
     "metadata": {},
     "output_type": "display_data"
    },
    {
     "name": "stderr",
     "output_type": "stream",
     "text": [
      "`Trainer.fit` stopped: `max_epochs=5` reached.\n"
     ]
    },
    {
     "name": "stdout",
     "output_type": "stream",
     "text": [
      "loading annotations into memory...\n",
      "Done (t=6.24s)\n",
      "creating index...\n"
     ]
    },
    {
     "name": "stderr",
     "output_type": "stream",
     "text": [
      "LOCAL_RANK: 0 - CUDA_VISIBLE_DEVICES: [0]\n"
     ]
    },
    {
     "name": "stdout",
     "output_type": "stream",
     "text": [
      "index created!\n"
     ]
    },
    {
     "name": "stderr",
     "output_type": "stream",
     "text": [
      "/usr/local/lib/python3.10/dist-packages/pytorch_lightning/trainer/connectors/data_connector.py:475: Your `val_dataloader`'s sampler has shuffling enabled, it is strongly recommended that you turn shuffling off for val/test dataloaders.\n"
     ]
    },
    {
     "data": {
      "application/vnd.jupyter.widget-view+json": {
       "model_id": "b448aeb6153b46678becdb1143933173",
       "version_major": 2,
       "version_minor": 0
      },
      "text/plain": [
       "Validation: |          | 0/? [00:00<?, ?it/s]"
      ]
     },
     "metadata": {},
     "output_type": "display_data"
    },
    {
     "name": "stderr",
     "output_type": "stream",
     "text": [
      "GPU available: True (cuda), used: True\n",
      "TPU available: False, using: 0 TPU cores\n",
      "HPU available: False, using: 0 HPUs\n"
     ]
    },
    {
     "name": "stdout",
     "output_type": "stream",
     "text": [
      "--------------------------------------------------\n",
      "Optimizer: Adam, LR: 0.005, Betas: (0.85, 0.999)\n",
      "loading annotations into memory...\n"
     ]
    },
    {
     "name": "stderr",
     "output_type": "stream",
     "text": [
      "/usr/local/lib/python3.10/dist-packages/pytorch_lightning/trainer/configuration_validator.py:70: You defined a `validation_step` but have no `val_dataloader`. Skipping val loop.\n"
     ]
    },
    {
     "name": "stdout",
     "output_type": "stream",
     "text": [
      "Done (t=9.87s)\n",
      "creating index...\n",
      "index created!\n"
     ]
    },
    {
     "name": "stderr",
     "output_type": "stream",
     "text": [
      "/usr/local/lib/python3.10/dist-packages/pytorch_lightning/callbacks/model_checkpoint.py:652: Checkpoint directory /notebooks/checkpoints exists and is not empty.\n",
      "LOCAL_RANK: 0 - CUDA_VISIBLE_DEVICES: [0]\n",
      "\n",
      "  | Name      | Type             | Params | Mode \n",
      "-------------------------------------------------------\n",
      "0 | conv1     | Conv2d           | 448    | train\n",
      "1 | conv2     | Conv2d           | 4.6 K  | train\n",
      "2 | fc1       | Linear           | 15.7 M | train\n",
      "3 | fc2       | Linear           | 11.7 K | train\n",
      "4 | loss_func | CrossEntropyLoss | 0      | train\n",
      "-------------------------------------------------------\n",
      "15.8 M    Trainable params\n",
      "0         Non-trainable params\n",
      "15.8 M    Total params\n",
      "63.048    Total estimated model params size (MB)\n"
     ]
    },
    {
     "data": {
      "application/vnd.jupyter.widget-view+json": {
       "model_id": "45dfce61ca8a4d6c8cc32f4fce99b009",
       "version_major": 2,
       "version_minor": 0
      },
      "text/plain": [
       "Training: |          | 0/? [00:00<?, ?it/s]"
      ]
     },
     "metadata": {},
     "output_type": "display_data"
    },
    {
     "name": "stderr",
     "output_type": "stream",
     "text": [
      "`Trainer.fit` stopped: `max_epochs=5` reached.\n"
     ]
    },
    {
     "name": "stdout",
     "output_type": "stream",
     "text": [
      "loading annotations into memory...\n",
      "Done (t=6.22s)\n",
      "creating index...\n"
     ]
    },
    {
     "name": "stderr",
     "output_type": "stream",
     "text": [
      "LOCAL_RANK: 0 - CUDA_VISIBLE_DEVICES: [0]\n"
     ]
    },
    {
     "name": "stdout",
     "output_type": "stream",
     "text": [
      "index created!\n"
     ]
    },
    {
     "name": "stderr",
     "output_type": "stream",
     "text": [
      "/usr/local/lib/python3.10/dist-packages/pytorch_lightning/trainer/connectors/data_connector.py:475: Your `val_dataloader`'s sampler has shuffling enabled, it is strongly recommended that you turn shuffling off for val/test dataloaders.\n"
     ]
    },
    {
     "data": {
      "application/vnd.jupyter.widget-view+json": {
       "model_id": "ab32291d867846f4bb34bea83b9716df",
       "version_major": 2,
       "version_minor": 0
      },
      "text/plain": [
       "Validation: |          | 0/? [00:00<?, ?it/s]"
      ]
     },
     "metadata": {},
     "output_type": "display_data"
    },
    {
     "name": "stderr",
     "output_type": "stream",
     "text": [
      "GPU available: True (cuda), used: True\n",
      "TPU available: False, using: 0 TPU cores\n",
      "HPU available: False, using: 0 HPUs\n"
     ]
    },
    {
     "name": "stdout",
     "output_type": "stream",
     "text": [
      "--------------------------------------------------\n",
      "Optimizer: Adam, LR: 0.01, Betas: (0.85, 0.999)\n",
      "loading annotations into memory...\n"
     ]
    },
    {
     "name": "stderr",
     "output_type": "stream",
     "text": [
      "/usr/local/lib/python3.10/dist-packages/pytorch_lightning/trainer/configuration_validator.py:70: You defined a `validation_step` but have no `val_dataloader`. Skipping val loop.\n"
     ]
    },
    {
     "name": "stdout",
     "output_type": "stream",
     "text": [
      "Done (t=9.97s)\n",
      "creating index...\n",
      "index created!\n"
     ]
    },
    {
     "name": "stderr",
     "output_type": "stream",
     "text": [
      "/usr/local/lib/python3.10/dist-packages/pytorch_lightning/callbacks/model_checkpoint.py:652: Checkpoint directory /notebooks/checkpoints exists and is not empty.\n",
      "LOCAL_RANK: 0 - CUDA_VISIBLE_DEVICES: [0]\n",
      "\n",
      "  | Name      | Type             | Params | Mode \n",
      "-------------------------------------------------------\n",
      "0 | conv1     | Conv2d           | 448    | train\n",
      "1 | conv2     | Conv2d           | 4.6 K  | train\n",
      "2 | fc1       | Linear           | 15.7 M | train\n",
      "3 | fc2       | Linear           | 11.7 K | train\n",
      "4 | loss_func | CrossEntropyLoss | 0      | train\n",
      "-------------------------------------------------------\n",
      "15.8 M    Trainable params\n",
      "0         Non-trainable params\n",
      "15.8 M    Total params\n",
      "63.048    Total estimated model params size (MB)\n"
     ]
    },
    {
     "data": {
      "application/vnd.jupyter.widget-view+json": {
       "model_id": "4e0e8ebf100749c0b866d80aabd82ff3",
       "version_major": 2,
       "version_minor": 0
      },
      "text/plain": [
       "Training: |          | 0/? [00:00<?, ?it/s]"
      ]
     },
     "metadata": {},
     "output_type": "display_data"
    },
    {
     "name": "stderr",
     "output_type": "stream",
     "text": [
      "`Trainer.fit` stopped: `max_epochs=5` reached.\n"
     ]
    },
    {
     "name": "stdout",
     "output_type": "stream",
     "text": [
      "loading annotations into memory...\n",
      "Done (t=6.40s)\n",
      "creating index...\n"
     ]
    },
    {
     "name": "stderr",
     "output_type": "stream",
     "text": [
      "LOCAL_RANK: 0 - CUDA_VISIBLE_DEVICES: [0]\n"
     ]
    },
    {
     "name": "stdout",
     "output_type": "stream",
     "text": [
      "index created!\n"
     ]
    },
    {
     "name": "stderr",
     "output_type": "stream",
     "text": [
      "/usr/local/lib/python3.10/dist-packages/pytorch_lightning/trainer/connectors/data_connector.py:475: Your `val_dataloader`'s sampler has shuffling enabled, it is strongly recommended that you turn shuffling off for val/test dataloaders.\n"
     ]
    },
    {
     "data": {
      "application/vnd.jupyter.widget-view+json": {
       "model_id": "d76d00476cfc4904afa3dec5b7fb8cf9",
       "version_major": 2,
       "version_minor": 0
      },
      "text/plain": [
       "Validation: |          | 0/? [00:00<?, ?it/s]"
      ]
     },
     "metadata": {},
     "output_type": "display_data"
    },
    {
     "name": "stderr",
     "output_type": "stream",
     "text": [
      "GPU available: True (cuda), used: True\n",
      "TPU available: False, using: 0 TPU cores\n",
      "HPU available: False, using: 0 HPUs\n"
     ]
    },
    {
     "name": "stdout",
     "output_type": "stream",
     "text": [
      "--------------------------------------------------\n",
      "Optimizer: RMSprop, LR: 0.005, Betas: (0.85, 0.999)\n",
      "loading annotations into memory...\n"
     ]
    },
    {
     "name": "stderr",
     "output_type": "stream",
     "text": [
      "/usr/local/lib/python3.10/dist-packages/pytorch_lightning/trainer/configuration_validator.py:70: You defined a `validation_step` but have no `val_dataloader`. Skipping val loop.\n"
     ]
    },
    {
     "name": "stdout",
     "output_type": "stream",
     "text": [
      "Done (t=8.69s)\n",
      "creating index...\n",
      "index created!\n"
     ]
    },
    {
     "name": "stderr",
     "output_type": "stream",
     "text": [
      "/usr/local/lib/python3.10/dist-packages/pytorch_lightning/callbacks/model_checkpoint.py:652: Checkpoint directory /notebooks/checkpoints exists and is not empty.\n",
      "LOCAL_RANK: 0 - CUDA_VISIBLE_DEVICES: [0]\n",
      "\n",
      "  | Name      | Type             | Params | Mode \n",
      "-------------------------------------------------------\n",
      "0 | conv1     | Conv2d           | 448    | train\n",
      "1 | conv2     | Conv2d           | 4.6 K  | train\n",
      "2 | fc1       | Linear           | 15.7 M | train\n",
      "3 | fc2       | Linear           | 11.7 K | train\n",
      "4 | loss_func | CrossEntropyLoss | 0      | train\n",
      "-------------------------------------------------------\n",
      "15.8 M    Trainable params\n",
      "0         Non-trainable params\n",
      "15.8 M    Total params\n",
      "63.048    Total estimated model params size (MB)\n"
     ]
    },
    {
     "data": {
      "application/vnd.jupyter.widget-view+json": {
       "model_id": "203b27060df04ee1b1ed2ded63d1286a",
       "version_major": 2,
       "version_minor": 0
      },
      "text/plain": [
       "Training: |          | 0/? [00:00<?, ?it/s]"
      ]
     },
     "metadata": {},
     "output_type": "display_data"
    },
    {
     "name": "stderr",
     "output_type": "stream",
     "text": [
      "`Trainer.fit` stopped: `max_epochs=5` reached.\n"
     ]
    },
    {
     "name": "stdout",
     "output_type": "stream",
     "text": [
      "loading annotations into memory...\n",
      "Done (t=7.51s)\n",
      "creating index...\n"
     ]
    },
    {
     "name": "stderr",
     "output_type": "stream",
     "text": [
      "LOCAL_RANK: 0 - CUDA_VISIBLE_DEVICES: [0]\n"
     ]
    },
    {
     "name": "stdout",
     "output_type": "stream",
     "text": [
      "index created!\n"
     ]
    },
    {
     "name": "stderr",
     "output_type": "stream",
     "text": [
      "/usr/local/lib/python3.10/dist-packages/pytorch_lightning/trainer/connectors/data_connector.py:475: Your `val_dataloader`'s sampler has shuffling enabled, it is strongly recommended that you turn shuffling off for val/test dataloaders.\n"
     ]
    },
    {
     "data": {
      "application/vnd.jupyter.widget-view+json": {
       "model_id": "a2a5bacbe6f74c1f831116046dc67308",
       "version_major": 2,
       "version_minor": 0
      },
      "text/plain": [
       "Validation: |          | 0/? [00:00<?, ?it/s]"
      ]
     },
     "metadata": {},
     "output_type": "display_data"
    },
    {
     "name": "stderr",
     "output_type": "stream",
     "text": [
      "GPU available: True (cuda), used: True\n",
      "TPU available: False, using: 0 TPU cores\n",
      "HPU available: False, using: 0 HPUs\n"
     ]
    },
    {
     "name": "stdout",
     "output_type": "stream",
     "text": [
      "--------------------------------------------------\n",
      "Optimizer: RMSprop, LR: 0.01, Betas: (0.85, 0.999)\n",
      "loading annotations into memory...\n"
     ]
    },
    {
     "name": "stderr",
     "output_type": "stream",
     "text": [
      "/usr/local/lib/python3.10/dist-packages/pytorch_lightning/trainer/configuration_validator.py:70: You defined a `validation_step` but have no `val_dataloader`. Skipping val loop.\n"
     ]
    },
    {
     "name": "stdout",
     "output_type": "stream",
     "text": [
      "Done (t=8.70s)\n",
      "creating index...\n",
      "index created!\n"
     ]
    },
    {
     "name": "stderr",
     "output_type": "stream",
     "text": [
      "/usr/local/lib/python3.10/dist-packages/pytorch_lightning/callbacks/model_checkpoint.py:652: Checkpoint directory /notebooks/checkpoints exists and is not empty.\n",
      "LOCAL_RANK: 0 - CUDA_VISIBLE_DEVICES: [0]\n",
      "\n",
      "  | Name      | Type             | Params | Mode \n",
      "-------------------------------------------------------\n",
      "0 | conv1     | Conv2d           | 448    | train\n",
      "1 | conv2     | Conv2d           | 4.6 K  | train\n",
      "2 | fc1       | Linear           | 15.7 M | train\n",
      "3 | fc2       | Linear           | 11.7 K | train\n",
      "4 | loss_func | CrossEntropyLoss | 0      | train\n",
      "-------------------------------------------------------\n",
      "15.8 M    Trainable params\n",
      "0         Non-trainable params\n",
      "15.8 M    Total params\n",
      "63.048    Total estimated model params size (MB)\n"
     ]
    },
    {
     "data": {
      "application/vnd.jupyter.widget-view+json": {
       "model_id": "a05c3ad0bac745eb81237da7e0080e6c",
       "version_major": 2,
       "version_minor": 0
      },
      "text/plain": [
       "Training: |          | 0/? [00:00<?, ?it/s]"
      ]
     },
     "metadata": {},
     "output_type": "display_data"
    },
    {
     "name": "stderr",
     "output_type": "stream",
     "text": [
      "`Trainer.fit` stopped: `max_epochs=5` reached.\n"
     ]
    },
    {
     "name": "stdout",
     "output_type": "stream",
     "text": [
      "loading annotations into memory...\n",
      "Done (t=6.30s)\n",
      "creating index...\n"
     ]
    },
    {
     "name": "stderr",
     "output_type": "stream",
     "text": [
      "LOCAL_RANK: 0 - CUDA_VISIBLE_DEVICES: [0]\n"
     ]
    },
    {
     "name": "stdout",
     "output_type": "stream",
     "text": [
      "index created!\n"
     ]
    },
    {
     "name": "stderr",
     "output_type": "stream",
     "text": [
      "/usr/local/lib/python3.10/dist-packages/pytorch_lightning/trainer/connectors/data_connector.py:475: Your `val_dataloader`'s sampler has shuffling enabled, it is strongly recommended that you turn shuffling off for val/test dataloaders.\n"
     ]
    },
    {
     "data": {
      "application/vnd.jupyter.widget-view+json": {
       "model_id": "6756de1179cf4ebca6f33f79fb4a0a55",
       "version_major": 2,
       "version_minor": 0
      },
      "text/plain": [
       "Validation: |          | 0/? [00:00<?, ?it/s]"
      ]
     },
     "metadata": {},
     "output_type": "display_data"
    },
    {
     "name": "stderr",
     "output_type": "stream",
     "text": [
      "GPU available: True (cuda), used: True\n",
      "TPU available: False, using: 0 TPU cores\n",
      "HPU available: False, using: 0 HPUs\n"
     ]
    },
    {
     "name": "stdout",
     "output_type": "stream",
     "text": [
      "--------------------------------------------------\n",
      "Optimizer: Adagrad, LR: 0.005, Betas: (0.85, 0.999)\n",
      "loading annotations into memory...\n"
     ]
    },
    {
     "name": "stderr",
     "output_type": "stream",
     "text": [
      "/usr/local/lib/python3.10/dist-packages/pytorch_lightning/trainer/configuration_validator.py:70: You defined a `validation_step` but have no `val_dataloader`. Skipping val loop.\n"
     ]
    },
    {
     "name": "stdout",
     "output_type": "stream",
     "text": [
      "Done (t=10.00s)\n",
      "creating index...\n",
      "index created!\n"
     ]
    },
    {
     "name": "stderr",
     "output_type": "stream",
     "text": [
      "/usr/local/lib/python3.10/dist-packages/pytorch_lightning/callbacks/model_checkpoint.py:652: Checkpoint directory /notebooks/checkpoints exists and is not empty.\n",
      "LOCAL_RANK: 0 - CUDA_VISIBLE_DEVICES: [0]\n",
      "\n",
      "  | Name      | Type             | Params | Mode \n",
      "-------------------------------------------------------\n",
      "0 | conv1     | Conv2d           | 448    | train\n",
      "1 | conv2     | Conv2d           | 4.6 K  | train\n",
      "2 | fc1       | Linear           | 15.7 M | train\n",
      "3 | fc2       | Linear           | 11.7 K | train\n",
      "4 | loss_func | CrossEntropyLoss | 0      | train\n",
      "-------------------------------------------------------\n",
      "15.8 M    Trainable params\n",
      "0         Non-trainable params\n",
      "15.8 M    Total params\n",
      "63.048    Total estimated model params size (MB)\n"
     ]
    },
    {
     "data": {
      "application/vnd.jupyter.widget-view+json": {
       "model_id": "120f962afc354388a58d40c056cef263",
       "version_major": 2,
       "version_minor": 0
      },
      "text/plain": [
       "Training: |          | 0/? [00:00<?, ?it/s]"
      ]
     },
     "metadata": {},
     "output_type": "display_data"
    },
    {
     "name": "stderr",
     "output_type": "stream",
     "text": [
      "`Trainer.fit` stopped: `max_epochs=5` reached.\n"
     ]
    },
    {
     "name": "stdout",
     "output_type": "stream",
     "text": [
      "loading annotations into memory...\n",
      "Done (t=7.41s)\n",
      "creating index...\n"
     ]
    },
    {
     "name": "stderr",
     "output_type": "stream",
     "text": [
      "LOCAL_RANK: 0 - CUDA_VISIBLE_DEVICES: [0]\n"
     ]
    },
    {
     "name": "stdout",
     "output_type": "stream",
     "text": [
      "index created!\n"
     ]
    },
    {
     "name": "stderr",
     "output_type": "stream",
     "text": [
      "/usr/local/lib/python3.10/dist-packages/pytorch_lightning/trainer/connectors/data_connector.py:475: Your `val_dataloader`'s sampler has shuffling enabled, it is strongly recommended that you turn shuffling off for val/test dataloaders.\n"
     ]
    },
    {
     "data": {
      "application/vnd.jupyter.widget-view+json": {
       "model_id": "7388793d6db04da3bbfeb26d20046c4b",
       "version_major": 2,
       "version_minor": 0
      },
      "text/plain": [
       "Validation: |          | 0/? [00:00<?, ?it/s]"
      ]
     },
     "metadata": {},
     "output_type": "display_data"
    },
    {
     "name": "stderr",
     "output_type": "stream",
     "text": [
      "GPU available: True (cuda), used: True\n",
      "TPU available: False, using: 0 TPU cores\n",
      "HPU available: False, using: 0 HPUs\n"
     ]
    },
    {
     "name": "stdout",
     "output_type": "stream",
     "text": [
      "--------------------------------------------------\n",
      "Optimizer: Adagrad, LR: 0.01, Betas: (0.85, 0.999)\n",
      "loading annotations into memory...\n"
     ]
    },
    {
     "name": "stderr",
     "output_type": "stream",
     "text": [
      "/usr/local/lib/python3.10/dist-packages/pytorch_lightning/trainer/configuration_validator.py:70: You defined a `validation_step` but have no `val_dataloader`. Skipping val loop.\n"
     ]
    },
    {
     "name": "stdout",
     "output_type": "stream",
     "text": [
      "Done (t=9.25s)\n",
      "creating index...\n",
      "index created!\n"
     ]
    },
    {
     "name": "stderr",
     "output_type": "stream",
     "text": [
      "/usr/local/lib/python3.10/dist-packages/pytorch_lightning/callbacks/model_checkpoint.py:652: Checkpoint directory /notebooks/checkpoints exists and is not empty.\n",
      "LOCAL_RANK: 0 - CUDA_VISIBLE_DEVICES: [0]\n",
      "\n",
      "  | Name      | Type             | Params | Mode \n",
      "-------------------------------------------------------\n",
      "0 | conv1     | Conv2d           | 448    | train\n",
      "1 | conv2     | Conv2d           | 4.6 K  | train\n",
      "2 | fc1       | Linear           | 15.7 M | train\n",
      "3 | fc2       | Linear           | 11.7 K | train\n",
      "4 | loss_func | CrossEntropyLoss | 0      | train\n",
      "-------------------------------------------------------\n",
      "15.8 M    Trainable params\n",
      "0         Non-trainable params\n",
      "15.8 M    Total params\n",
      "63.048    Total estimated model params size (MB)\n"
     ]
    },
    {
     "data": {
      "application/vnd.jupyter.widget-view+json": {
       "model_id": "d0c2788ecc98465f818dde92f0f5e107",
       "version_major": 2,
       "version_minor": 0
      },
      "text/plain": [
       "Training: |          | 0/? [00:00<?, ?it/s]"
      ]
     },
     "metadata": {},
     "output_type": "display_data"
    },
    {
     "name": "stderr",
     "output_type": "stream",
     "text": [
      "`Trainer.fit` stopped: `max_epochs=5` reached.\n"
     ]
    },
    {
     "name": "stdout",
     "output_type": "stream",
     "text": [
      "loading annotations into memory...\n",
      "Done (t=7.52s)\n",
      "creating index...\n"
     ]
    },
    {
     "name": "stderr",
     "output_type": "stream",
     "text": [
      "LOCAL_RANK: 0 - CUDA_VISIBLE_DEVICES: [0]\n"
     ]
    },
    {
     "name": "stdout",
     "output_type": "stream",
     "text": [
      "index created!\n"
     ]
    },
    {
     "name": "stderr",
     "output_type": "stream",
     "text": [
      "/usr/local/lib/python3.10/dist-packages/pytorch_lightning/trainer/connectors/data_connector.py:475: Your `val_dataloader`'s sampler has shuffling enabled, it is strongly recommended that you turn shuffling off for val/test dataloaders.\n"
     ]
    },
    {
     "data": {
      "application/vnd.jupyter.widget-view+json": {
       "model_id": "2ed4e7d74f244cec86917b02add851b8",
       "version_major": 2,
       "version_minor": 0
      },
      "text/plain": [
       "Validation: |          | 0/? [00:00<?, ?it/s]"
      ]
     },
     "metadata": {},
     "output_type": "display_data"
    },
    {
     "name": "stderr",
     "output_type": "stream",
     "text": [
      "GPU available: True (cuda), used: True\n",
      "TPU available: False, using: 0 TPU cores\n",
      "HPU available: False, using: 0 HPUs\n"
     ]
    },
    {
     "name": "stdout",
     "output_type": "stream",
     "text": [
      "--------------------------------------------------\n",
      "Optimizer: Adamax, LR: 0.005, Betas: (0.85, 0.999)\n",
      "loading annotations into memory...\n"
     ]
    },
    {
     "name": "stderr",
     "output_type": "stream",
     "text": [
      "/usr/local/lib/python3.10/dist-packages/pytorch_lightning/trainer/configuration_validator.py:70: You defined a `validation_step` but have no `val_dataloader`. Skipping val loop.\n"
     ]
    },
    {
     "name": "stdout",
     "output_type": "stream",
     "text": [
      "Done (t=9.12s)\n",
      "creating index...\n",
      "index created!\n"
     ]
    },
    {
     "name": "stderr",
     "output_type": "stream",
     "text": [
      "/usr/local/lib/python3.10/dist-packages/pytorch_lightning/callbacks/model_checkpoint.py:652: Checkpoint directory /notebooks/checkpoints exists and is not empty.\n",
      "LOCAL_RANK: 0 - CUDA_VISIBLE_DEVICES: [0]\n",
      "\n",
      "  | Name      | Type             | Params | Mode \n",
      "-------------------------------------------------------\n",
      "0 | conv1     | Conv2d           | 448    | train\n",
      "1 | conv2     | Conv2d           | 4.6 K  | train\n",
      "2 | fc1       | Linear           | 15.7 M | train\n",
      "3 | fc2       | Linear           | 11.7 K | train\n",
      "4 | loss_func | CrossEntropyLoss | 0      | train\n",
      "-------------------------------------------------------\n",
      "15.8 M    Trainable params\n",
      "0         Non-trainable params\n",
      "15.8 M    Total params\n",
      "63.048    Total estimated model params size (MB)\n"
     ]
    },
    {
     "data": {
      "application/vnd.jupyter.widget-view+json": {
       "model_id": "3c8f32f38692460f8d9aa3dd31376c93",
       "version_major": 2,
       "version_minor": 0
      },
      "text/plain": [
       "Training: |          | 0/? [00:00<?, ?it/s]"
      ]
     },
     "metadata": {},
     "output_type": "display_data"
    },
    {
     "name": "stderr",
     "output_type": "stream",
     "text": [
      "`Trainer.fit` stopped: `max_epochs=5` reached.\n"
     ]
    },
    {
     "name": "stdout",
     "output_type": "stream",
     "text": [
      "loading annotations into memory...\n",
      "Done (t=6.34s)\n",
      "creating index...\n"
     ]
    },
    {
     "name": "stderr",
     "output_type": "stream",
     "text": [
      "LOCAL_RANK: 0 - CUDA_VISIBLE_DEVICES: [0]\n"
     ]
    },
    {
     "name": "stdout",
     "output_type": "stream",
     "text": [
      "index created!\n"
     ]
    },
    {
     "name": "stderr",
     "output_type": "stream",
     "text": [
      "/usr/local/lib/python3.10/dist-packages/pytorch_lightning/trainer/connectors/data_connector.py:475: Your `val_dataloader`'s sampler has shuffling enabled, it is strongly recommended that you turn shuffling off for val/test dataloaders.\n"
     ]
    },
    {
     "data": {
      "application/vnd.jupyter.widget-view+json": {
       "model_id": "5ff09506367046f3a6e88288b34458f3",
       "version_major": 2,
       "version_minor": 0
      },
      "text/plain": [
       "Validation: |          | 0/? [00:00<?, ?it/s]"
      ]
     },
     "metadata": {},
     "output_type": "display_data"
    },
    {
     "name": "stderr",
     "output_type": "stream",
     "text": [
      "GPU available: True (cuda), used: True\n",
      "TPU available: False, using: 0 TPU cores\n",
      "HPU available: False, using: 0 HPUs\n"
     ]
    },
    {
     "name": "stdout",
     "output_type": "stream",
     "text": [
      "--------------------------------------------------\n",
      "Optimizer: Adamax, LR: 0.01, Betas: (0.85, 0.999)\n",
      "loading annotations into memory...\n"
     ]
    },
    {
     "name": "stderr",
     "output_type": "stream",
     "text": [
      "/usr/local/lib/python3.10/dist-packages/pytorch_lightning/trainer/configuration_validator.py:70: You defined a `validation_step` but have no `val_dataloader`. Skipping val loop.\n"
     ]
    },
    {
     "name": "stdout",
     "output_type": "stream",
     "text": [
      "Done (t=9.79s)\n",
      "creating index...\n",
      "index created!\n"
     ]
    },
    {
     "name": "stderr",
     "output_type": "stream",
     "text": [
      "/usr/local/lib/python3.10/dist-packages/pytorch_lightning/callbacks/model_checkpoint.py:652: Checkpoint directory /notebooks/checkpoints exists and is not empty.\n",
      "LOCAL_RANK: 0 - CUDA_VISIBLE_DEVICES: [0]\n",
      "\n",
      "  | Name      | Type             | Params | Mode \n",
      "-------------------------------------------------------\n",
      "0 | conv1     | Conv2d           | 448    | train\n",
      "1 | conv2     | Conv2d           | 4.6 K  | train\n",
      "2 | fc1       | Linear           | 15.7 M | train\n",
      "3 | fc2       | Linear           | 11.7 K | train\n",
      "4 | loss_func | CrossEntropyLoss | 0      | train\n",
      "-------------------------------------------------------\n",
      "15.8 M    Trainable params\n",
      "0         Non-trainable params\n",
      "15.8 M    Total params\n",
      "63.048    Total estimated model params size (MB)\n"
     ]
    },
    {
     "data": {
      "application/vnd.jupyter.widget-view+json": {
       "model_id": "f4e8607e104d4735ad41f2a8c5dca38f",
       "version_major": 2,
       "version_minor": 0
      },
      "text/plain": [
       "Training: |          | 0/? [00:00<?, ?it/s]"
      ]
     },
     "metadata": {},
     "output_type": "display_data"
    },
    {
     "name": "stderr",
     "output_type": "stream",
     "text": [
      "`Trainer.fit` stopped: `max_epochs=5` reached.\n"
     ]
    },
    {
     "name": "stdout",
     "output_type": "stream",
     "text": [
      "loading annotations into memory...\n",
      "Done (t=6.34s)\n",
      "creating index...\n"
     ]
    },
    {
     "name": "stderr",
     "output_type": "stream",
     "text": [
      "LOCAL_RANK: 0 - CUDA_VISIBLE_DEVICES: [0]\n"
     ]
    },
    {
     "name": "stdout",
     "output_type": "stream",
     "text": [
      "index created!\n"
     ]
    },
    {
     "name": "stderr",
     "output_type": "stream",
     "text": [
      "/usr/local/lib/python3.10/dist-packages/pytorch_lightning/trainer/connectors/data_connector.py:475: Your `val_dataloader`'s sampler has shuffling enabled, it is strongly recommended that you turn shuffling off for val/test dataloaders.\n"
     ]
    },
    {
     "data": {
      "application/vnd.jupyter.widget-view+json": {
       "model_id": "812a4c31b2f34a12b75ea7550fb24f16",
       "version_major": 2,
       "version_minor": 0
      },
      "text/plain": [
       "Validation: |          | 0/? [00:00<?, ?it/s]"
      ]
     },
     "metadata": {},
     "output_type": "display_data"
    },
    {
     "name": "stderr",
     "output_type": "stream",
     "text": [
      "GPU available: True (cuda), used: True\n",
      "TPU available: False, using: 0 TPU cores\n",
      "HPU available: False, using: 0 HPUs\n"
     ]
    },
    {
     "name": "stdout",
     "output_type": "stream",
     "text": [
      "--------------------------------------------------\n",
      "Optimizer: Adadelta, LR: 0.005, Betas: (0.85, 0.999)\n",
      "loading annotations into memory...\n"
     ]
    },
    {
     "name": "stderr",
     "output_type": "stream",
     "text": [
      "/usr/local/lib/python3.10/dist-packages/pytorch_lightning/trainer/configuration_validator.py:70: You defined a `validation_step` but have no `val_dataloader`. Skipping val loop.\n"
     ]
    },
    {
     "name": "stdout",
     "output_type": "stream",
     "text": [
      "Done (t=9.90s)\n",
      "creating index...\n",
      "index created!\n"
     ]
    },
    {
     "name": "stderr",
     "output_type": "stream",
     "text": [
      "/usr/local/lib/python3.10/dist-packages/pytorch_lightning/callbacks/model_checkpoint.py:652: Checkpoint directory /notebooks/checkpoints exists and is not empty.\n",
      "LOCAL_RANK: 0 - CUDA_VISIBLE_DEVICES: [0]\n",
      "\n",
      "  | Name      | Type             | Params | Mode \n",
      "-------------------------------------------------------\n",
      "0 | conv1     | Conv2d           | 448    | train\n",
      "1 | conv2     | Conv2d           | 4.6 K  | train\n",
      "2 | fc1       | Linear           | 15.7 M | train\n",
      "3 | fc2       | Linear           | 11.7 K | train\n",
      "4 | loss_func | CrossEntropyLoss | 0      | train\n",
      "-------------------------------------------------------\n",
      "15.8 M    Trainable params\n",
      "0         Non-trainable params\n",
      "15.8 M    Total params\n",
      "63.048    Total estimated model params size (MB)\n"
     ]
    },
    {
     "data": {
      "application/vnd.jupyter.widget-view+json": {
       "model_id": "ff1a763ce49b42e0aa7051c2942eca4f",
       "version_major": 2,
       "version_minor": 0
      },
      "text/plain": [
       "Training: |          | 0/? [00:00<?, ?it/s]"
      ]
     },
     "metadata": {},
     "output_type": "display_data"
    },
    {
     "name": "stderr",
     "output_type": "stream",
     "text": [
      "`Trainer.fit` stopped: `max_epochs=5` reached.\n"
     ]
    },
    {
     "name": "stdout",
     "output_type": "stream",
     "text": [
      "loading annotations into memory...\n",
      "Done (t=6.82s)\n",
      "creating index...\n"
     ]
    },
    {
     "name": "stderr",
     "output_type": "stream",
     "text": [
      "LOCAL_RANK: 0 - CUDA_VISIBLE_DEVICES: [0]\n"
     ]
    },
    {
     "name": "stdout",
     "output_type": "stream",
     "text": [
      "index created!\n"
     ]
    },
    {
     "name": "stderr",
     "output_type": "stream",
     "text": [
      "/usr/local/lib/python3.10/dist-packages/pytorch_lightning/trainer/connectors/data_connector.py:475: Your `val_dataloader`'s sampler has shuffling enabled, it is strongly recommended that you turn shuffling off for val/test dataloaders.\n"
     ]
    },
    {
     "data": {
      "application/vnd.jupyter.widget-view+json": {
       "model_id": "4535f9e5fee249b3964b919dc495d5b8",
       "version_major": 2,
       "version_minor": 0
      },
      "text/plain": [
       "Validation: |          | 0/? [00:00<?, ?it/s]"
      ]
     },
     "metadata": {},
     "output_type": "display_data"
    },
    {
     "name": "stderr",
     "output_type": "stream",
     "text": [
      "GPU available: True (cuda), used: True\n",
      "TPU available: False, using: 0 TPU cores\n",
      "HPU available: False, using: 0 HPUs\n"
     ]
    },
    {
     "name": "stdout",
     "output_type": "stream",
     "text": [
      "--------------------------------------------------\n",
      "Optimizer: Adadelta, LR: 0.01, Betas: (0.85, 0.999)\n",
      "loading annotations into memory...\n"
     ]
    },
    {
     "name": "stderr",
     "output_type": "stream",
     "text": [
      "/usr/local/lib/python3.10/dist-packages/pytorch_lightning/trainer/configuration_validator.py:70: You defined a `validation_step` but have no `val_dataloader`. Skipping val loop.\n"
     ]
    },
    {
     "name": "stdout",
     "output_type": "stream",
     "text": [
      "Done (t=8.80s)\n",
      "creating index...\n",
      "index created!\n"
     ]
    },
    {
     "name": "stderr",
     "output_type": "stream",
     "text": [
      "/usr/local/lib/python3.10/dist-packages/pytorch_lightning/callbacks/model_checkpoint.py:652: Checkpoint directory /notebooks/checkpoints exists and is not empty.\n",
      "LOCAL_RANK: 0 - CUDA_VISIBLE_DEVICES: [0]\n",
      "\n",
      "  | Name      | Type             | Params | Mode \n",
      "-------------------------------------------------------\n",
      "0 | conv1     | Conv2d           | 448    | train\n",
      "1 | conv2     | Conv2d           | 4.6 K  | train\n",
      "2 | fc1       | Linear           | 15.7 M | train\n",
      "3 | fc2       | Linear           | 11.7 K | train\n",
      "4 | loss_func | CrossEntropyLoss | 0      | train\n",
      "-------------------------------------------------------\n",
      "15.8 M    Trainable params\n",
      "0         Non-trainable params\n",
      "15.8 M    Total params\n",
      "63.048    Total estimated model params size (MB)\n"
     ]
    },
    {
     "data": {
      "application/vnd.jupyter.widget-view+json": {
       "model_id": "038c08f705ea4d1b975eab1e1f16bedb",
       "version_major": 2,
       "version_minor": 0
      },
      "text/plain": [
       "Training: |          | 0/? [00:00<?, ?it/s]"
      ]
     },
     "metadata": {},
     "output_type": "display_data"
    },
    {
     "name": "stderr",
     "output_type": "stream",
     "text": [
      "`Trainer.fit` stopped: `max_epochs=5` reached.\n"
     ]
    },
    {
     "name": "stdout",
     "output_type": "stream",
     "text": [
      "loading annotations into memory...\n",
      "Done (t=7.27s)\n",
      "creating index...\n"
     ]
    },
    {
     "name": "stderr",
     "output_type": "stream",
     "text": [
      "LOCAL_RANK: 0 - CUDA_VISIBLE_DEVICES: [0]\n"
     ]
    },
    {
     "name": "stdout",
     "output_type": "stream",
     "text": [
      "index created!\n"
     ]
    },
    {
     "name": "stderr",
     "output_type": "stream",
     "text": [
      "/usr/local/lib/python3.10/dist-packages/pytorch_lightning/trainer/connectors/data_connector.py:475: Your `val_dataloader`'s sampler has shuffling enabled, it is strongly recommended that you turn shuffling off for val/test dataloaders.\n"
     ]
    },
    {
     "data": {
      "application/vnd.jupyter.widget-view+json": {
       "model_id": "8df4c3764dbf4f10a5c9cc772103dc7e",
       "version_major": 2,
       "version_minor": 0
      },
      "text/plain": [
       "Validation: |          | 0/? [00:00<?, ?it/s]"
      ]
     },
     "metadata": {},
     "output_type": "display_data"
    },
    {
     "name": "stderr",
     "output_type": "stream",
     "text": [
      "GPU available: True (cuda), used: True\n",
      "TPU available: False, using: 0 TPU cores\n",
      "HPU available: False, using: 0 HPUs\n"
     ]
    },
    {
     "name": "stdout",
     "output_type": "stream",
     "text": [
      "--------------------------------------------------\n",
      "Optimizer: AdaMomentum, LR: 0.005, Betas: (0.85, 0.999)\n",
      "loading annotations into memory...\n"
     ]
    },
    {
     "name": "stderr",
     "output_type": "stream",
     "text": [
      "/usr/local/lib/python3.10/dist-packages/pytorch_lightning/trainer/configuration_validator.py:70: You defined a `validation_step` but have no `val_dataloader`. Skipping val loop.\n"
     ]
    },
    {
     "name": "stdout",
     "output_type": "stream",
     "text": [
      "Done (t=8.78s)\n",
      "creating index...\n",
      "index created!\n"
     ]
    },
    {
     "name": "stderr",
     "output_type": "stream",
     "text": [
      "/usr/local/lib/python3.10/dist-packages/pytorch_lightning/callbacks/model_checkpoint.py:652: Checkpoint directory /notebooks/checkpoints exists and is not empty.\n",
      "LOCAL_RANK: 0 - CUDA_VISIBLE_DEVICES: [0]\n",
      "\n",
      "  | Name      | Type             | Params | Mode \n",
      "-------------------------------------------------------\n",
      "0 | conv1     | Conv2d           | 448    | train\n",
      "1 | conv2     | Conv2d           | 4.6 K  | train\n",
      "2 | fc1       | Linear           | 15.7 M | train\n",
      "3 | fc2       | Linear           | 11.7 K | train\n",
      "4 | loss_func | CrossEntropyLoss | 0      | train\n",
      "-------------------------------------------------------\n",
      "15.8 M    Trainable params\n",
      "0         Non-trainable params\n",
      "15.8 M    Total params\n",
      "63.048    Total estimated model params size (MB)\n"
     ]
    },
    {
     "data": {
      "application/vnd.jupyter.widget-view+json": {
       "model_id": "225ef00e4e024473a8ec0caf442de8ed",
       "version_major": 2,
       "version_minor": 0
      },
      "text/plain": [
       "Training: |          | 0/? [00:00<?, ?it/s]"
      ]
     },
     "metadata": {},
     "output_type": "display_data"
    },
    {
     "name": "stderr",
     "output_type": "stream",
     "text": [
      "`Trainer.fit` stopped: `max_epochs=5` reached.\n"
     ]
    },
    {
     "name": "stdout",
     "output_type": "stream",
     "text": [
      "loading annotations into memory...\n",
      "Done (t=7.51s)\n",
      "creating index...\n"
     ]
    },
    {
     "name": "stderr",
     "output_type": "stream",
     "text": [
      "LOCAL_RANK: 0 - CUDA_VISIBLE_DEVICES: [0]\n"
     ]
    },
    {
     "name": "stdout",
     "output_type": "stream",
     "text": [
      "index created!\n"
     ]
    },
    {
     "name": "stderr",
     "output_type": "stream",
     "text": [
      "/usr/local/lib/python3.10/dist-packages/pytorch_lightning/trainer/connectors/data_connector.py:475: Your `val_dataloader`'s sampler has shuffling enabled, it is strongly recommended that you turn shuffling off for val/test dataloaders.\n"
     ]
    },
    {
     "data": {
      "application/vnd.jupyter.widget-view+json": {
       "model_id": "c7e84881b3ca4b2fa24ad0283e219de1",
       "version_major": 2,
       "version_minor": 0
      },
      "text/plain": [
       "Validation: |          | 0/? [00:00<?, ?it/s]"
      ]
     },
     "metadata": {},
     "output_type": "display_data"
    },
    {
     "name": "stderr",
     "output_type": "stream",
     "text": [
      "GPU available: True (cuda), used: True\n",
      "TPU available: False, using: 0 TPU cores\n",
      "HPU available: False, using: 0 HPUs\n"
     ]
    },
    {
     "name": "stdout",
     "output_type": "stream",
     "text": [
      "--------------------------------------------------\n",
      "Optimizer: AdaMomentum, LR: 0.01, Betas: (0.85, 0.999)\n",
      "loading annotations into memory...\n"
     ]
    },
    {
     "name": "stderr",
     "output_type": "stream",
     "text": [
      "/usr/local/lib/python3.10/dist-packages/pytorch_lightning/trainer/configuration_validator.py:70: You defined a `validation_step` but have no `val_dataloader`. Skipping val loop.\n"
     ]
    },
    {
     "name": "stdout",
     "output_type": "stream",
     "text": [
      "Done (t=9.88s)\n",
      "creating index...\n",
      "index created!\n"
     ]
    },
    {
     "name": "stderr",
     "output_type": "stream",
     "text": [
      "/usr/local/lib/python3.10/dist-packages/pytorch_lightning/callbacks/model_checkpoint.py:652: Checkpoint directory /notebooks/checkpoints exists and is not empty.\n",
      "LOCAL_RANK: 0 - CUDA_VISIBLE_DEVICES: [0]\n",
      "\n",
      "  | Name      | Type             | Params | Mode \n",
      "-------------------------------------------------------\n",
      "0 | conv1     | Conv2d           | 448    | train\n",
      "1 | conv2     | Conv2d           | 4.6 K  | train\n",
      "2 | fc1       | Linear           | 15.7 M | train\n",
      "3 | fc2       | Linear           | 11.7 K | train\n",
      "4 | loss_func | CrossEntropyLoss | 0      | train\n",
      "-------------------------------------------------------\n",
      "15.8 M    Trainable params\n",
      "0         Non-trainable params\n",
      "15.8 M    Total params\n",
      "63.048    Total estimated model params size (MB)\n"
     ]
    },
    {
     "data": {
      "application/vnd.jupyter.widget-view+json": {
       "model_id": "19254a0383c640b99a5fa1d72043a9fb",
       "version_major": 2,
       "version_minor": 0
      },
      "text/plain": [
       "Training: |          | 0/? [00:00<?, ?it/s]"
      ]
     },
     "metadata": {},
     "output_type": "display_data"
    },
    {
     "name": "stderr",
     "output_type": "stream",
     "text": [
      "`Trainer.fit` stopped: `max_epochs=5` reached.\n"
     ]
    },
    {
     "name": "stdout",
     "output_type": "stream",
     "text": [
      "loading annotations into memory...\n",
      "Done (t=6.34s)\n",
      "creating index...\n"
     ]
    },
    {
     "name": "stderr",
     "output_type": "stream",
     "text": [
      "LOCAL_RANK: 0 - CUDA_VISIBLE_DEVICES: [0]\n"
     ]
    },
    {
     "name": "stdout",
     "output_type": "stream",
     "text": [
      "index created!\n"
     ]
    },
    {
     "name": "stderr",
     "output_type": "stream",
     "text": [
      "/usr/local/lib/python3.10/dist-packages/pytorch_lightning/trainer/connectors/data_connector.py:475: Your `val_dataloader`'s sampler has shuffling enabled, it is strongly recommended that you turn shuffling off for val/test dataloaders.\n"
     ]
    },
    {
     "data": {
      "application/vnd.jupyter.widget-view+json": {
       "model_id": "a8785e9389154c1dbf853355636ad2fc",
       "version_major": 2,
       "version_minor": 0
      },
      "text/plain": [
       "Validation: |          | 0/? [00:00<?, ?it/s]"
      ]
     },
     "metadata": {},
     "output_type": "display_data"
    },
    {
     "name": "stdout",
     "output_type": "stream",
     "text": [
      "--------------------------------------------------\n"
     ]
    },
    {
     "data": {
      "image/png": "[encoded data removed]",
      "text/plain": [
       "<Figure size 1200x600 with 1 Axes>"
      ]
     },
     "metadata": {},
     "output_type": "display_data"
    },
    {
     "data": {
      "image/png": "[encoded data removed]",
      "text/plain": [
       "<Figure size 1200x600 with 1 Axes>"
      ]
     },
     "metadata": {},
     "output_type": "display_data"
    },
    {
     "data": {
      "image/png": "[encoded data removed]",
      "text/plain": [
       "<Figure size 1200x600 with 1 Axes>"
      ]
     },
     "metadata": {},
     "output_type": "display_data"
    },
    {
     "data": {
      "image/png": "[encoded data removed]",
      "text/plain": [
       "<Figure size 1200x600 with 1 Axes>"
      ]
     },
     "metadata": {},
     "output_type": "display_data"
    },
    {
     "data": {
      "image/png": "[encoded data removed]",
      "text/plain": [
       "<Figure size 1200x600 with 1 Axes>"
      ]
     },
     "metadata": {},
     "output_type": "display_data"
    },
    {
     "data": {
      "image/png": "[encoded data removed]",
      "text/plain": [
       "<Figure size 1200x600 with 1 Axes>"
      ]
     },
     "metadata": {},
     "output_type": "display_data"
    },
    {
     "data": {
      "image/png": "[encoded data removed]",
      "text/plain": [
       "<Figure size 1200x600 with 1 Axes>"
      ]
     },
     "metadata": {},
     "output_type": "display_data"
    },
    {
     "name": "stdout",
     "output_type": "stream",
     "text": [
      "      optimizer     lr          betas   val_loss   val_acc    val_f1  \\\n",
      "0           SGD  0.005  (0.85, 0.999)  10.337931  0.548223  0.332045   \n",
      "1           SGD  0.010  (0.85, 0.999)  10.719660  0.543147  0.308381   \n",
      "2          Adam  0.005  (0.85, 0.999)  11.084507  0.554146  0.330180   \n",
      "3          Adam  0.010  (0.85, 0.999)  11.458549  0.545685  0.328004   \n",
      "4       RMSprop  0.005  (0.85, 0.999)  11.090394  0.537225  0.308275   \n",
      "5       RMSprop  0.010  (0.85, 0.999)  11.395545  0.560068  0.339559   \n",
      "6       Adagrad  0.005  (0.85, 0.999)   6.985328  0.504230  0.336153   \n",
      "7       Adagrad  0.010  (0.85, 0.999)  10.493493  0.571912  0.340466   \n",
      "8        Adamax  0.005  (0.85, 0.999)   9.503005  0.543147  0.311069   \n",
      "9        Adamax  0.010  (0.85, 0.999)   6.585844  0.400169  0.255385   \n",
      "10     Adadelta  0.005  (0.85, 0.999)  10.759335  0.539763  0.318142   \n",
      "11     Adadelta  0.010  (0.85, 0.999)  11.232275  0.566836  0.331695   \n",
      "12  AdaMomentum  0.005  (0.85, 0.999)  11.069660  0.557530  0.326146   \n",
      "13  AdaMomentum  0.010  (0.85, 0.999)  10.916778  0.535533  0.310348   \n",
      "\n",
      "    val_recall  val_precision       time  \n",
      "0     0.434913       0.851668  17.650372  \n",
      "1     0.424920       0.834917  22.185485  \n",
      "2     0.431980       0.853905  23.374185  \n",
      "3     0.430626       0.854624  23.421116  \n",
      "4     0.412803       0.849957  21.654659  \n",
      "5     0.440553       0.855908  21.621555  \n",
      "6     0.646346       0.621173  22.952377  \n",
      "7     0.445827       0.850394  22.171986  \n",
      "8     0.423191       0.841455  22.237003  \n",
      "9     0.641844       0.543646  23.024033  \n",
      "10    0.422335       0.852340  23.299029  \n",
      "11    0.431416       0.854892  22.167341  \n",
      "12    0.427186       0.853694  25.651290  \n",
      "13    0.415172       0.850902  26.952720  \n"
     ]
    },
    {
     "data": {
      "image/png": "[encoded data removed]",
      "text/plain": [
       "<Figure size 1000x400 with 1 Axes>"
      ]
     },
     "metadata": {},
     "output_type": "display_data"
    }
   ],
   "source": [
    "import time\n",
    "import torch\n",
    "import torch.nn as nn\n",
    "import torch.optim as optim\n",
    "import pytorch_lightning as pl\n",
    "from torchvision import transforms\n",
    "from torch.utils.data import DataLoader, random_split\n",
    "from torchvision.datasets import CocoDetection\n",
    "import matplotlib.pyplot as plt\n",
    "import pandas as pd\n",
    "from sklearn.metrics import accuracy_score, f1_score, recall_score, precision_score\n",
    "\n",
    "# AdaMomentum optimizer class\n",
    "class AdaMomentum(optim.Optimizer):\n",
    "    def __init__(self, params, lr=0.001, betas=(0.85, 0.999), eps=1e-8, weight_decay=0):\n",
    "        defaults = dict(lr=lr, betas=betas, eps=eps, weight_decay=weight_decay)\n",
    "        super(AdaMomentum, self).__init__(params, defaults)\n",
    "\n",
    "    def step(self, closure=None):\n",
    "        loss = None\n",
    "        if closure is not None:\n",
    "            loss = closure()\n",
    "\n",
    "        for group in self.param_groups:\n",
    "            beta1, beta2 = group['betas']\n",
    "            lr = group['lr']\n",
    "            eps = group['eps']\n",
    "            for p in group['params']:\n",
    "                if p.grad is None:\n",
    "                    continue\n",
    "                grad = p.grad.data\n",
    "                state = self.state[p]\n",
    "\n",
    "                if len(state) == 0:\n",
    "                    state['step'] = 0\n",
    "                    state['m'] = torch.zeros_like(p.data)\n",
    "                    state['v'] = torch.zeros_like(p.data)\n",
    "                    state['v_hat_prev'] = torch.zeros_like(p.data)\n",
    "\n",
    "                m, v = state['m'], state['v']\n",
    "                state['step'] += 1\n",
    "                step = state['step']\n",
    "\n",
    "                # Update m and v using in-place operations for efficiency\n",
    "                m.mul_(beta1).add_(grad, alpha=1 - beta1)\n",
    "                v.mul_(beta2).addcmul_(grad, grad, value=1 - beta2)\n",
    "\n",
    "                # Bias-corrected first and second moment estimate\n",
    "                m_hat = m / (1 - beta1 ** step)\n",
    "                v_hat = v / (1 - beta2 ** step)\n",
    "\n",
    "                # Dynamic learning rate adjustment\n",
    "                if step == 1:\n",
    "                    eta_t = lr\n",
    "                else:\n",
    "                    eta_t = lr * (torch.sqrt((v_hat / (state['v_hat_prev'] + eps)).mean()).clamp(max=10))\n",
    "\n",
    "                # Update parameters\n",
    "                p.data.addcdiv_(m_hat, torch.sqrt(v_hat) + eps, value=-eta_t)\n",
    "                state['v_hat_prev'].copy_(v_hat)\n",
    "\n",
    "        return loss\n",
    "\n",
    "class SimpleCNN(pl.LightningModule):\n",
    "    def __init__(self):\n",
    "        super(SimpleCNN, self).__init__()\n",
    "        self.conv1 = nn.Conv2d(3, 16, 3, 1)\n",
    "        self.conv2 = nn.Conv2d(16, 32, 3, 1)\n",
    "        self.fc1 = nn.Linear(32 * 62 * 62, 128)\n",
    "        self.fc2 = nn.Linear(128, 91)  # Assume 91 classes for the COCO dataset\n",
    "        self.loss_func = nn.CrossEntropyLoss()\n",
    "\n",
    "    def forward(self, x):\n",
    "        x = self.conv1(x)\n",
    "        x = nn.ReLU()(x)\n",
    "        x = nn.MaxPool2d(2)(x)\n",
    "        x = self.conv2(x)\n",
    "        x = nn.ReLU()(x)\n",
    "        x = nn.MaxPool2d(2)(x)\n",
    "        x = torch.flatten(x, 1)\n",
    "        x = self.fc1(x)\n",
    "        x = nn.ReLU()(x)\n",
    "        x = self.fc2(x)\n",
    "        return x\n",
    "\n",
    "    def training_step(self, batch, batch_idx):\n",
    "        images, targets = batch\n",
    "        outputs = self(images)\n",
    "        loss = self.loss_func(outputs, targets)\n",
    "        \n",
    "        # Calculate metrics\n",
    "        preds = outputs.argmax(dim=1).cpu()\n",
    "        targets = targets.argmax(dim=1).cpu()  # Convert multilabel to class index\n",
    "        \n",
    "        acc = accuracy_score(targets, preds)\n",
    "        f1 = f1_score(targets, preds, average='macro', zero_division=1)\n",
    "        recall = recall_score(targets, preds, average='macro', zero_division=1)\n",
    "        precision = precision_score(targets, preds, average='macro', zero_division=1)\n",
    "        \n",
    "        self.log('train_loss', loss)\n",
    "        self.log('train_acc', acc)\n",
    "        self.log('train_f1', f1)\n",
    "        self.log('train_recall', recall)\n",
    "        self.log('train_precision', precision)\n",
    "        return {'loss': loss, 'train_acc': acc, 'train_f1': f1, 'train_recall': recall, 'train_precision': precision}\n",
    "    \n",
    "    def validation_step(self, batch, batch_idx):\n",
    "        images, targets = batch\n",
    "        outputs = self(images)\n",
    "        loss = self.loss_func(outputs, targets)\n",
    "        \n",
    "        # Calculate metrics\n",
    "        preds = outputs.argmax(dim=1).cpu()\n",
    "        targets = targets.argmax(dim=1).cpu()  # Convert multilabel to class index\n",
    "        \n",
    "        acc = accuracy_score(targets, preds)\n",
    "        f1 = f1_score(targets, preds, average='macro', zero_division=1)\n",
    "        recall = recall_score(targets, preds, average='macro', zero_division=1)\n",
    "        precision = precision_score(targets, preds, average='macro', zero_division=1)\n",
    "        \n",
    "        self.log('val_loss', loss, prog_bar=True)\n",
    "        self.log('val_acc', acc, prog_bar=True)\n",
    "        self.log('val_f1', f1, prog_bar=True)\n",
    "        self.log('val_recall', recall, prog_bar=True)\n",
    "        self.log('val_precision', precision, prog_bar=True)\n",
    "        return {'val_loss': loss, 'val_acc': acc, 'val_f1': f1, 'val_recall': recall, 'val_precision': precision}\n",
    "\n",
    "    def configure_optimizers(self):\n",
    "        return optim.Adam(self.parameters(), lr=0.001)\n",
    "\n",
    "def collate_fn(batch):\n",
    "    images = []\n",
    "    targets_list = []\n",
    "    num_classes = 91  # ปรับให้ตรงกับจำนวนประเภทสูงสุดใน COCO dataset\n",
    "\n",
    "    for sample in batch:\n",
    "        image, targets = sample\n",
    "        images.append(image)\n",
    "        target_tensor = torch.zeros(num_classes)\n",
    "        for obj in targets:\n",
    "            category_id = obj['category_id'] - 1  # ลบ 1 เพื่อแปลง category_id ให้เริ่มต้นที่ 0\n",
    "            if category_id < num_classes:\n",
    "                target_tensor[category_id] = 1\n",
    "        targets_list.append(target_tensor)\n",
    "\n",
    "    images = torch.stack(images, 0)  # Convert list of images to a tensor stack\n",
    "    targets = torch.stack(targets_list, 0)  # Stack targets into a single tensor\n",
    "    return images, targets\n",
    "\n",
    "class COCODataModule(pl.LightningDataModule):\n",
    "    def __init__(self, data_dir, batch_size=4, sample_fraction=0.1):  # กำหนดค่า sample_fraction สำหรับการสุ่ม\n",
    "        super().__init__()\n",
    "        self.data_dir = data_dir\n",
    "        self.batch_size = batch_size\n",
    "        self.sample_fraction = sample_fraction\n",
    "        self.transform = transforms.Compose([\n",
    "            transforms.Resize((256, 256)),\n",
    "            transforms.ToTensor()\n",
    "        ])\n",
    "\n",
    "    def setup(self, stage=None):\n",
    "        train_img_dir = f'{self.data_dir}/train2017'\n",
    "        ann_file = f'{self.data_dir}/annotations/instances_train2017.json'\n",
    "        full_dataset = CocoDetection(root=train_img_dir, annFile=ann_file, transform=self.transform)\n",
    "        \n",
    "        # Compute the number of samples to be used\n",
    "        num_samples = int(len(full_dataset) * self.sample_fraction)\n",
    "        # Split the dataset\n",
    "        self.train_dataset, _ = random_split(full_dataset, [num_samples, len(full_dataset) - num_samples])\n",
    "\n",
    "    def train_dataloader(self):\n",
    "        return DataLoader(self.train_dataset, batch_size=self.batch_size, shuffle=True, num_workers=2, collate_fn=collate_fn)\n",
    "\n",
    "def evaluate_model(trainer, model, data_module):\n",
    "    results = trainer.validate(model, dataloaders=data_module.train_dataloader(), verbose=False)\n",
    "    avg_val_loss = results[0]['val_loss']\n",
    "    avg_val_acc = results[0]['val_acc']\n",
    "    avg_val_f1 = results[0]['val_f1']\n",
    "    avg_val_recall = results[0]['val_recall']\n",
    "    avg_val_precision = results[0]['val_precision']\n",
    "    return avg_val_loss, avg_val_acc, avg_val_f1, avg_val_recall, avg_val_precision\n",
    "\n",
    "# Initialize data module and model\n",
    "data_dir = '/notebooks/coco_data'  # กำหนด directory ของข้อมูล\n",
    "sample_fraction = 0.01  # กำหนดค่า sample_fraction สำหรับการสุ่ม\n",
    "data_module = COCODataModule(data_dir=data_dir, batch_size=4, sample_fraction=sample_fraction)\n",
    "\n",
    "# Define optimizers to evaluate\n",
    "optimizers = {\n",
    "    'SGD': optim.SGD,\n",
    "    'Adam': optim.Adam,\n",
    "    'RMSprop': optim.RMSprop,\n",
    "    'Adagrad': optim.Adagrad,\n",
    "    'Adamax': optim.Adamax,\n",
    "    'Adadelta': optim.Adadelta,\n",
    "    'AdaMomentum': AdaMomentum\n",
    "}\n",
    "\n",
    "learning_rates = [0.005, 0.01]\n",
    "betas_values = [(0.85, 0.999)]\n",
    "\n",
    "results = []\n",
    "\n",
    "for name, optim_func in optimizers.items():\n",
    "    for lr in learning_rates:\n",
    "        for betas in betas_values:\n",
    "            print(f'Optimizer: {name}, LR: {lr}, Betas: {betas}')\n",
    "            model = SimpleCNN()\n",
    "            \n",
    "            if name == 'AdaMomentum':\n",
    "                optimizer = optim_func(model.parameters(), lr=lr, betas=betas)\n",
    "            else:\n",
    "                optimizer = optim_func(model.parameters(), lr=lr)\n",
    "\n",
    "            # Update model's optimizer\n",
    "            model.configure_optimizers = lambda: optimizer\n",
    "\n",
    "            trainer = pl.Trainer(max_epochs=5, logger=False, callbacks=[])\n",
    "            start_time = time.time()\n",
    "            trainer.fit(model, data_module)\n",
    "            end_time = time.time()\n",
    "            \n",
    "            # Evaluate model\n",
    "            val_loss, val_acc, val_f1, val_recall, val_precision = evaluate_model(trainer, model, data_module)\n",
    "            \n",
    "            results.append({\n",
    "                'optimizer': name,\n",
    "                'lr': lr,\n",
    "                'betas': betas,\n",
    "                'val_loss': val_loss,\n",
    "                'val_acc': val_acc,\n",
    "                'val_f1': val_f1,\n",
    "                'val_recall': val_recall,\n",
    "                'val_precision': val_precision,\n",
    "                'time': end_time - start_time\n",
    "            })\n",
    "            print('-' * 50)\n",
    "\n",
    "# Convert results to DataFrame for better visualization\n",
    "results_df = pd.DataFrame(results)\n",
    "\n",
    "# สรุปผลและสร้างกราฟ\n",
    "optim_names = results_df['optimizer'].unique()\n",
    "for name in optim_names:\n",
    "    optimizer_results = results_df[results_df['optimizer'] == name]\n",
    "    \n",
    "    # Plot Validation Loss\n",
    "    plt.figure(figsize=(12, 6))\n",
    "    for lr in learning_rates:\n",
    "        subset = optimizer_results[optimizer_results['lr'] == lr]\n",
    "        plt.plot(subset['betas'].apply(lambda x: x[0]), subset['val_loss'], label=f'LR: {lr}')\n",
    "    \n",
    "    plt.title(f'Validation Loss for {name}')\n",
    "    plt.xlabel('Beta1')\n",
    "    plt.ylabel('Validation Loss')\n",
    "    plt.legend()\n",
    "    plt.show()\n",
    "\n",
    "# แสดงตารางสรุปผลลัพธ์\n",
    "print(results_df)\n",
    "\n",
    "# แสดงตารางในรูปแบบกราฟ\n",
    "fig, ax = plt.subplots(figsize=(10, 4))\n",
    "ax.axis('tight')\n",
    "ax.axis('off')\n",
    "table = ax.table(cellText=results_df.values, colLabels=results_df.columns, cellLoc='center', loc='center')\n",
    "table.auto_set_font_size(False)\n",
    "table.set_fontsize(10)\n",
    "table.scale(1.2, 1.2)\n",
    "\n",
    "plt.show()\n"
   ]
  },
  {
   "cell_type": "code",
   "execution_count": null,
   "id": "fac549e6-4993-4538-affb-c25107c92c4c",
   "metadata": {},
   "outputs": [],
   "source": []
  },
  {
   "cell_type": "code",
   "execution_count": null,
   "id": "163c2a85-5c20-4f70-b935-03b7e2942730",
   "metadata": {},
   "outputs": [],
   "source": []
  },
  {
   "cell_type": "code",
   "execution_count": null,
   "id": "a023c4eb-b43f-43de-aa01-412ac338371e",
   "metadata": {},
   "outputs": [],
   "source": []
  },
  {
   "cell_type": "code",
   "execution_count": null,
   "id": "5c456bc3-c6b3-4d02-9432-f2c414076432",
   "metadata": {},
   "outputs": [],
   "source": []
  },
  {
   "cell_type": "code",
   "execution_count": 7,
   "id": "cd22f056-b09c-463a-a7df-7b5d44f7bcb6",
   "metadata": {},
   "outputs": [
    {
     "name": "stderr",
     "output_type": "stream",
     "text": [
      "GPU available: True (cuda), used: True\n",
      "TPU available: False, using: 0 TPU cores\n",
      "HPU available: False, using: 0 HPUs\n"
     ]
    },
    {
     "name": "stdout",
     "output_type": "stream",
     "text": [
      "Optimizer: SGD, LR: 0.005, Betas: (0.85, 0.999)\n",
      "loading annotations into memory...\n"
     ]
    },
    {
     "name": "stderr",
     "output_type": "stream",
     "text": [
      "/usr/local/lib/python3.10/dist-packages/pytorch_lightning/trainer/configuration_validator.py:70: You defined a `validation_step` but have no `val_dataloader`. Skipping val loop.\n"
     ]
    },
    {
     "name": "stdout",
     "output_type": "stream",
     "text": [
      "Done (t=6.08s)\n",
      "creating index...\n"
     ]
    },
    {
     "name": "stderr",
     "output_type": "stream",
     "text": [
      "/usr/local/lib/python3.10/dist-packages/pytorch_lightning/callbacks/model_checkpoint.py:652: Checkpoint directory /notebooks/checkpoints exists and is not empty.\n",
      "LOCAL_RANK: 0 - CUDA_VISIBLE_DEVICES: [0]\n",
      "\n",
      "  | Name      | Type             | Params | Mode \n",
      "-------------------------------------------------------\n",
      "0 | conv1     | Conv2d           | 448    | train\n",
      "1 | conv2     | Conv2d           | 4.6 K  | train\n",
      "2 | fc1       | Linear           | 15.7 M | train\n",
      "3 | fc2       | Linear           | 11.7 K | train\n",
      "4 | loss_func | CrossEntropyLoss | 0      | train\n",
      "-------------------------------------------------------\n",
      "15.8 M    Trainable params\n",
      "0         Non-trainable params\n",
      "15.8 M    Total params\n",
      "63.048    Total estimated model params size (MB)\n"
     ]
    },
    {
     "name": "stdout",
     "output_type": "stream",
     "text": [
      "index created!\n"
     ]
    },
    {
     "data": {
      "application/vnd.jupyter.widget-view+json": {
       "model_id": "970168e626b14675836c10242de20c5d",
       "version_major": 2,
       "version_minor": 0
      },
      "text/plain": [
       "Training: |          | 0/? [00:00<?, ?it/s]"
      ]
     },
     "metadata": {},
     "output_type": "display_data"
    },
    {
     "name": "stdout",
     "output_type": "stream",
     "text": [
      "Epoch 0: Train Loss: 11.1853, Train Acc: 0.5389, Train F1: 0.3118, Train Recall: 0.4167, Train Precision: 0.8498\n",
      "Epoch 1: Train Loss: 10.9153, Train Acc: 0.5378, Train F1: 0.3163, Train Recall: 0.4235, Train Precision: 0.8486\n",
      "Epoch 2: Train Loss: 10.6467, Train Acc: 0.5307, Train F1: 0.3119, Train Recall: 0.4388, Train Precision: 0.8285\n",
      "Epoch 3: Train Loss: 10.4058, Train Acc: 0.5237, Train F1: 0.3004, Train Recall: 0.4374, Train Precision: 0.8143\n"
     ]
    },
    {
     "name": "stderr",
     "output_type": "stream",
     "text": [
      "`Trainer.fit` stopped: `max_epochs=5` reached.\n"
     ]
    },
    {
     "name": "stdout",
     "output_type": "stream",
     "text": [
      "Epoch 4: Train Loss: 10.1717, Train Acc: 0.5175, Train F1: 0.2916, Train Recall: 0.4426, Train Precision: 0.8001\n",
      "loading annotations into memory...\n",
      "Done (t=6.92s)\n",
      "creating index...\n"
     ]
    },
    {
     "name": "stderr",
     "output_type": "stream",
     "text": [
      "LOCAL_RANK: 0 - CUDA_VISIBLE_DEVICES: [0]\n"
     ]
    },
    {
     "name": "stdout",
     "output_type": "stream",
     "text": [
      "index created!\n"
     ]
    },
    {
     "name": "stderr",
     "output_type": "stream",
     "text": [
      "/usr/local/lib/python3.10/dist-packages/pytorch_lightning/trainer/connectors/data_connector.py:475: Your `val_dataloader`'s sampler has shuffling enabled, it is strongly recommended that you turn shuffling off for val/test dataloaders.\n"
     ]
    },
    {
     "data": {
      "application/vnd.jupyter.widget-view+json": {
       "model_id": "0eb77c5a73194c2e9be39c40584a14d9",
       "version_major": 2,
       "version_minor": 0
      },
      "text/plain": [
       "Validation: |          | 0/? [00:00<?, ?it/s]"
      ]
     },
     "metadata": {},
     "output_type": "display_data"
    },
    {
     "name": "stdout",
     "output_type": "stream",
     "text": [
      "Epoch 5: Val Loss: 10.0004, Val Acc: 0.4704, Val F1: 0.2581, Val Recall: 0.4696, Val Precision: 0.7275\n",
      "--------------------------------------------------\n",
      "Optimizer: Adam, LR: 0.005, Betas: (0.85, 0.999)\n"
     ]
    },
    {
     "name": "stderr",
     "output_type": "stream",
     "text": [
      "GPU available: True (cuda), used: True\n",
      "TPU available: False, using: 0 TPU cores\n",
      "HPU available: False, using: 0 HPUs\n",
      "/usr/local/lib/python3.10/dist-packages/pytorch_lightning/trainer/configuration_validator.py:70: You defined a `validation_step` but have no `val_dataloader`. Skipping val loop.\n"
     ]
    },
    {
     "name": "stdout",
     "output_type": "stream",
     "text": [
      "loading annotations into memory...\n",
      "Done (t=4.03s)\n",
      "creating index...\n",
      "index created!\n"
     ]
    },
    {
     "name": "stderr",
     "output_type": "stream",
     "text": [
      "/usr/local/lib/python3.10/dist-packages/pytorch_lightning/callbacks/model_checkpoint.py:652: Checkpoint directory /notebooks/checkpoints exists and is not empty.\n",
      "LOCAL_RANK: 0 - CUDA_VISIBLE_DEVICES: [0]\n",
      "\n",
      "  | Name      | Type             | Params | Mode \n",
      "-------------------------------------------------------\n",
      "0 | conv1     | Conv2d           | 448    | train\n",
      "1 | conv2     | Conv2d           | 4.6 K  | train\n",
      "2 | fc1       | Linear           | 15.7 M | train\n",
      "3 | fc2       | Linear           | 11.7 K | train\n",
      "4 | loss_func | CrossEntropyLoss | 0      | train\n",
      "-------------------------------------------------------\n",
      "15.8 M    Trainable params\n",
      "0         Non-trainable params\n",
      "15.8 M    Total params\n",
      "63.048    Total estimated model params size (MB)\n"
     ]
    },
    {
     "data": {
      "application/vnd.jupyter.widget-view+json": {
       "model_id": "fa3173b902df45ec95606cecc64f2d51",
       "version_major": 2,
       "version_minor": 0
      },
      "text/plain": [
       "Training: |          | 0/? [00:00<?, ?it/s]"
      ]
     },
     "metadata": {},
     "output_type": "display_data"
    },
    {
     "name": "stdout",
     "output_type": "stream",
     "text": [
      "Epoch 0: Train Loss: 11.3353, Train Acc: 0.5225, Train F1: 0.3001, Train Recall: 0.4114, Train Precision: 0.8444\n",
      "Epoch 1: Train Loss: 11.0041, Train Acc: 0.5335, Train F1: 0.3020, Train Recall: 0.4076, Train Precision: 0.8487\n",
      "Epoch 2: Train Loss: 10.9982, Train Acc: 0.5335, Train F1: 0.3155, Train Recall: 0.4209, Train Precision: 0.8508\n",
      "Epoch 3: Train Loss: 10.9898, Train Acc: 0.5335, Train F1: 0.3042, Train Recall: 0.4098, Train Precision: 0.8493\n",
      "Epoch 4: Train Loss: 10.9883, Train Acc: 0.5335, Train F1: 0.3130, Train Recall: 0.4182, Train Precision: 0.8510\n"
     ]
    },
    {
     "name": "stderr",
     "output_type": "stream",
     "text": [
      "`Trainer.fit` stopped: `max_epochs=5` reached.\n"
     ]
    },
    {
     "name": "stdout",
     "output_type": "stream",
     "text": [
      "loading annotations into memory...\n",
      "Done (t=12.27s)\n",
      "creating index...\n"
     ]
    },
    {
     "name": "stderr",
     "output_type": "stream",
     "text": [
      "LOCAL_RANK: 0 - CUDA_VISIBLE_DEVICES: [0]\n"
     ]
    },
    {
     "name": "stdout",
     "output_type": "stream",
     "text": [
      "index created!\n"
     ]
    },
    {
     "name": "stderr",
     "output_type": "stream",
     "text": [
      "/usr/local/lib/python3.10/dist-packages/pytorch_lightning/trainer/connectors/data_connector.py:475: Your `val_dataloader`'s sampler has shuffling enabled, it is strongly recommended that you turn shuffling off for val/test dataloaders.\n"
     ]
    },
    {
     "data": {
      "application/vnd.jupyter.widget-view+json": {
       "model_id": "397b2b866be648439a4f5cc7f621f1b3",
       "version_major": 2,
       "version_minor": 0
      },
      "text/plain": [
       "Validation: |          | 0/? [00:00<?, ?it/s]"
      ]
     },
     "metadata": {},
     "output_type": "display_data"
    },
    {
     "name": "stdout",
     "output_type": "stream",
     "text": [
      "Epoch 5: Val Loss: 10.9698, Val Acc: 0.5335, Val F1: 0.3052, Val Recall: 0.4108, Val Precision: 0.8496\n"
     ]
    },
    {
     "name": "stderr",
     "output_type": "stream",
     "text": [
      "GPU available: True (cuda), used: True\n",
      "TPU available: False, using: 0 TPU cores\n",
      "HPU available: False, using: 0 HPUs\n"
     ]
    },
    {
     "name": "stdout",
     "output_type": "stream",
     "text": [
      "--------------------------------------------------\n",
      "Optimizer: RMSprop, LR: 0.005, Betas: (0.85, 0.999)\n",
      "loading annotations into memory...\n"
     ]
    },
    {
     "name": "stderr",
     "output_type": "stream",
     "text": [
      "/usr/local/lib/python3.10/dist-packages/pytorch_lightning/trainer/configuration_validator.py:70: You defined a `validation_step` but have no `val_dataloader`. Skipping val loop.\n"
     ]
    },
    {
     "name": "stdout",
     "output_type": "stream",
     "text": [
      "Done (t=9.59s)\n",
      "creating index...\n",
      "index created!\n"
     ]
    },
    {
     "name": "stderr",
     "output_type": "stream",
     "text": [
      "/usr/local/lib/python3.10/dist-packages/pytorch_lightning/callbacks/model_checkpoint.py:652: Checkpoint directory /notebooks/checkpoints exists and is not empty.\n",
      "LOCAL_RANK: 0 - CUDA_VISIBLE_DEVICES: [0]\n",
      "\n",
      "  | Name      | Type             | Params | Mode \n",
      "-------------------------------------------------------\n",
      "0 | conv1     | Conv2d           | 448    | train\n",
      "1 | conv2     | Conv2d           | 4.6 K  | train\n",
      "2 | fc1       | Linear           | 15.7 M | train\n",
      "3 | fc2       | Linear           | 11.7 K | train\n",
      "4 | loss_func | CrossEntropyLoss | 0      | train\n",
      "-------------------------------------------------------\n",
      "15.8 M    Trainable params\n",
      "0         Non-trainable params\n",
      "15.8 M    Total params\n",
      "63.048    Total estimated model params size (MB)\n"
     ]
    },
    {
     "data": {
      "application/vnd.jupyter.widget-view+json": {
       "model_id": "42bfae8cf046481e887494d91cbf3071",
       "version_major": 2,
       "version_minor": 0
      },
      "text/plain": [
       "Training: |          | 0/? [00:00<?, ?it/s]"
      ]
     },
     "metadata": {},
     "output_type": "display_data"
    },
    {
     "name": "stdout",
     "output_type": "stream",
     "text": [
      "Epoch 0: Train Loss: 26.8561, Train Acc: 0.5488, Train F1: 0.3235, Train Recall: 0.4274, Train Precision: 0.8517\n",
      "Epoch 1: Train Loss: 11.2773, Train Acc: 0.5547, Train F1: 0.3245, Train Recall: 0.4264, Train Precision: 0.8534\n",
      "Epoch 2: Train Loss: 11.2700, Train Acc: 0.5547, Train F1: 0.3245, Train Recall: 0.4263, Train Precision: 0.8532\n",
      "Epoch 3: Train Loss: 11.2658, Train Acc: 0.5547, Train F1: 0.3253, Train Recall: 0.4271, Train Precision: 0.8531\n"
     ]
    },
    {
     "name": "stderr",
     "output_type": "stream",
     "text": [
      "`Trainer.fit` stopped: `max_epochs=5` reached.\n"
     ]
    },
    {
     "name": "stdout",
     "output_type": "stream",
     "text": [
      "Epoch 4: Train Loss: 11.2635, Train Acc: 0.5547, Train F1: 0.3320, Train Recall: 0.4331, Train Precision: 0.8555\n",
      "loading annotations into memory...\n",
      "Done (t=7.02s)\n",
      "creating index...\n"
     ]
    },
    {
     "name": "stderr",
     "output_type": "stream",
     "text": [
      "LOCAL_RANK: 0 - CUDA_VISIBLE_DEVICES: [0]\n"
     ]
    },
    {
     "name": "stdout",
     "output_type": "stream",
     "text": [
      "index created!\n"
     ]
    },
    {
     "name": "stderr",
     "output_type": "stream",
     "text": [
      "/usr/local/lib/python3.10/dist-packages/pytorch_lightning/trainer/connectors/data_connector.py:475: Your `val_dataloader`'s sampler has shuffling enabled, it is strongly recommended that you turn shuffling off for val/test dataloaders.\n"
     ]
    },
    {
     "data": {
      "application/vnd.jupyter.widget-view+json": {
       "model_id": "ccea7683d3844efb85e553d9c9e36e2c",
       "version_major": 2,
       "version_minor": 0
      },
      "text/plain": [
       "Validation: |          | 0/? [00:00<?, ?it/s]"
      ]
     },
     "metadata": {},
     "output_type": "display_data"
    },
    {
     "name": "stdout",
     "output_type": "stream",
     "text": [
      "Epoch 5: Val Loss: 11.2436, Val Acc: 0.5547, Val F1: 0.3260, Val Recall: 0.4280, Val Precision: 0.8532\n",
      "--------------------------------------------------\n",
      "Optimizer: Adagrad, LR: 0.005, Betas: (0.85, 0.999)\n"
     ]
    },
    {
     "name": "stderr",
     "output_type": "stream",
     "text": [
      "GPU available: True (cuda), used: True\n",
      "TPU available: False, using: 0 TPU cores\n",
      "HPU available: False, using: 0 HPUs\n",
      "/usr/local/lib/python3.10/dist-packages/pytorch_lightning/trainer/configuration_validator.py:70: You defined a `validation_step` but have no `val_dataloader`. Skipping val loop.\n"
     ]
    },
    {
     "name": "stdout",
     "output_type": "stream",
     "text": [
      "loading annotations into memory...\n",
      "Done (t=9.55s)\n",
      "creating index...\n",
      "index created!\n"
     ]
    },
    {
     "name": "stderr",
     "output_type": "stream",
     "text": [
      "/usr/local/lib/python3.10/dist-packages/pytorch_lightning/callbacks/model_checkpoint.py:652: Checkpoint directory /notebooks/checkpoints exists and is not empty.\n",
      "LOCAL_RANK: 0 - CUDA_VISIBLE_DEVICES: [0]\n",
      "\n",
      "  | Name      | Type             | Params | Mode \n",
      "-------------------------------------------------------\n",
      "0 | conv1     | Conv2d           | 448    | train\n",
      "1 | conv2     | Conv2d           | 4.6 K  | train\n",
      "2 | fc1       | Linear           | 15.7 M | train\n",
      "3 | fc2       | Linear           | 11.7 K | train\n",
      "4 | loss_func | CrossEntropyLoss | 0      | train\n",
      "-------------------------------------------------------\n",
      "15.8 M    Trainable params\n",
      "0         Non-trainable params\n",
      "15.8 M    Total params\n",
      "63.048    Total estimated model params size (MB)\n"
     ]
    },
    {
     "data": {
      "application/vnd.jupyter.widget-view+json": {
       "model_id": "efb0981229e349c7856bbb6c746e626f",
       "version_major": 2,
       "version_minor": 0
      },
      "text/plain": [
       "Training: |          | 0/? [00:00<?, ?it/s]"
      ]
     },
     "metadata": {},
     "output_type": "display_data"
    },
    {
     "name": "stdout",
     "output_type": "stream",
     "text": [
      "Epoch 0: Train Loss: 11.3740, Train Acc: 0.5583, Train F1: 0.3300, Train Recall: 0.4377, Train Precision: 0.8476\n",
      "Epoch 1: Train Loss: 10.6372, Train Acc: 0.5555, Train F1: 0.3292, Train Recall: 0.4487, Train Precision: 0.8343\n",
      "Epoch 2: Train Loss: 9.8533, Train Acc: 0.5411, Train F1: 0.3106, Train Recall: 0.4802, Train Precision: 0.7790\n",
      "Epoch 3: Train Loss: 8.6848, Train Acc: 0.5273, Train F1: 0.3221, Train Recall: 0.5669, Train Precision: 0.7010\n"
     ]
    },
    {
     "name": "stderr",
     "output_type": "stream",
     "text": [
      "`Trainer.fit` stopped: `max_epochs=5` reached.\n"
     ]
    },
    {
     "name": "stdout",
     "output_type": "stream",
     "text": [
      "Epoch 4: Train Loss: 7.4592, Train Acc: 0.4980, Train F1: 0.3266, Train Recall: 0.6411, Train Precision: 0.6287\n",
      "loading annotations into memory...\n",
      "Done (t=7.03s)\n",
      "creating index...\n"
     ]
    },
    {
     "name": "stderr",
     "output_type": "stream",
     "text": [
      "LOCAL_RANK: 0 - CUDA_VISIBLE_DEVICES: [0]\n"
     ]
    },
    {
     "name": "stdout",
     "output_type": "stream",
     "text": [
      "index created!\n"
     ]
    },
    {
     "name": "stderr",
     "output_type": "stream",
     "text": [
      "/usr/local/lib/python3.10/dist-packages/pytorch_lightning/trainer/connectors/data_connector.py:475: Your `val_dataloader`'s sampler has shuffling enabled, it is strongly recommended that you turn shuffling off for val/test dataloaders.\n"
     ]
    },
    {
     "data": {
      "application/vnd.jupyter.widget-view+json": {
       "model_id": "473a83e4d3cd432da659b41fbc2f2b13",
       "version_major": 2,
       "version_minor": 0
      },
      "text/plain": [
       "Validation: |          | 0/? [00:00<?, ?it/s]"
      ]
     },
     "metadata": {},
     "output_type": "display_data"
    },
    {
     "name": "stdout",
     "output_type": "stream",
     "text": [
      "Epoch 5: Val Loss: 6.6217, Val Acc: 0.5017, Val F1: 0.3428, Val Recall: 0.6827, Val Precision: 0.6046\n",
      "--------------------------------------------------\n",
      "Optimizer: Adamax, LR: 0.005, Betas: (0.85, 0.999)\n"
     ]
    },
    {
     "name": "stderr",
     "output_type": "stream",
     "text": [
      "GPU available: True (cuda), used: True\n",
      "TPU available: False, using: 0 TPU cores\n",
      "HPU available: False, using: 0 HPUs\n",
      "/usr/local/lib/python3.10/dist-packages/pytorch_lightning/trainer/configuration_validator.py:70: You defined a `validation_step` but have no `val_dataloader`. Skipping val loop.\n"
     ]
    },
    {
     "name": "stdout",
     "output_type": "stream",
     "text": [
      "loading annotations into memory...\n",
      "Done (t=9.35s)\n",
      "creating index...\n",
      "index created!\n"
     ]
    },
    {
     "name": "stderr",
     "output_type": "stream",
     "text": [
      "/usr/local/lib/python3.10/dist-packages/pytorch_lightning/callbacks/model_checkpoint.py:652: Checkpoint directory /notebooks/checkpoints exists and is not empty.\n",
      "LOCAL_RANK: 0 - CUDA_VISIBLE_DEVICES: [0]\n",
      "\n",
      "  | Name      | Type             | Params | Mode \n",
      "-------------------------------------------------------\n",
      "0 | conv1     | Conv2d           | 448    | train\n",
      "1 | conv2     | Conv2d           | 4.6 K  | train\n",
      "2 | fc1       | Linear           | 15.7 M | train\n",
      "3 | fc2       | Linear           | 11.7 K | train\n",
      "4 | loss_func | CrossEntropyLoss | 0      | train\n",
      "-------------------------------------------------------\n",
      "15.8 M    Trainable params\n",
      "0         Non-trainable params\n",
      "15.8 M    Total params\n",
      "63.048    Total estimated model params size (MB)\n"
     ]
    },
    {
     "data": {
      "application/vnd.jupyter.widget-view+json": {
       "model_id": "f1ccbfcfbcb14fabbbba4fabdc5c4035",
       "version_major": 2,
       "version_minor": 0
      },
      "text/plain": [
       "Training: |          | 0/? [00:00<?, ?it/s]"
      ]
     },
     "metadata": {},
     "output_type": "display_data"
    },
    {
     "name": "stdout",
     "output_type": "stream",
     "text": [
      "Epoch 0: Train Loss: 11.5810, Train Acc: 0.5268, Train F1: 0.3086, Train Recall: 0.4187, Train Precision: 0.8462\n",
      "Epoch 1: Train Loss: 11.1977, Train Acc: 0.5397, Train F1: 0.3139, Train Recall: 0.4185, Train Precision: 0.8510\n",
      "Epoch 2: Train Loss: 10.9200, Train Acc: 0.5392, Train F1: 0.3148, Train Recall: 0.4196, Train Precision: 0.8508\n",
      "Epoch 3: Train Loss: 10.6735, Train Acc: 0.5372, Train F1: 0.3098, Train Recall: 0.4247, Train Precision: 0.8405\n",
      "Epoch 4: Train Loss: 10.3380, Train Acc: 0.5231, Train F1: 0.3034, Train Recall: 0.4438, Train Precision: 0.8118\n"
     ]
    },
    {
     "name": "stderr",
     "output_type": "stream",
     "text": [
      "`Trainer.fit` stopped: `max_epochs=5` reached.\n"
     ]
    },
    {
     "name": "stdout",
     "output_type": "stream",
     "text": [
      "loading annotations into memory...\n",
      "Done (t=7.11s)\n",
      "creating index...\n"
     ]
    },
    {
     "name": "stderr",
     "output_type": "stream",
     "text": [
      "LOCAL_RANK: 0 - CUDA_VISIBLE_DEVICES: [0]\n"
     ]
    },
    {
     "name": "stdout",
     "output_type": "stream",
     "text": [
      "index created!\n"
     ]
    },
    {
     "name": "stderr",
     "output_type": "stream",
     "text": [
      "/usr/local/lib/python3.10/dist-packages/pytorch_lightning/trainer/connectors/data_connector.py:475: Your `val_dataloader`'s sampler has shuffling enabled, it is strongly recommended that you turn shuffling off for val/test dataloaders.\n"
     ]
    },
    {
     "data": {
      "application/vnd.jupyter.widget-view+json": {
       "model_id": "4e8cd882bc7f43e09588502a75198ca8",
       "version_major": 2,
       "version_minor": 0
      },
      "text/plain": [
       "Validation: |          | 0/? [00:00<?, ?it/s]"
      ]
     },
     "metadata": {},
     "output_type": "display_data"
    },
    {
     "name": "stdout",
     "output_type": "stream",
     "text": [
      "Epoch 5: Val Loss: 9.8626, Val Acc: 0.5118, Val F1: 0.2902, Val Recall: 0.4650, Val Precision: 0.7733\n",
      "--------------------------------------------------\n",
      "Optimizer: Adadelta, LR: 0.005, Betas: (0.85, 0.999)\n"
     ]
    },
    {
     "name": "stderr",
     "output_type": "stream",
     "text": [
      "GPU available: True (cuda), used: True\n",
      "TPU available: False, using: 0 TPU cores\n",
      "HPU available: False, using: 0 HPUs\n",
      "/usr/local/lib/python3.10/dist-packages/pytorch_lightning/trainer/configuration_validator.py:70: You defined a `validation_step` but have no `val_dataloader`. Skipping val loop.\n"
     ]
    },
    {
     "name": "stdout",
     "output_type": "stream",
     "text": [
      "loading annotations into memory...\n",
      "Done (t=9.68s)\n",
      "creating index...\n",
      "index created!\n"
     ]
    },
    {
     "name": "stderr",
     "output_type": "stream",
     "text": [
      "/usr/local/lib/python3.10/dist-packages/pytorch_lightning/callbacks/model_checkpoint.py:652: Checkpoint directory /notebooks/checkpoints exists and is not empty.\n",
      "LOCAL_RANK: 0 - CUDA_VISIBLE_DEVICES: [0]\n",
      "\n",
      "  | Name      | Type             | Params | Mode \n",
      "-------------------------------------------------------\n",
      "0 | conv1     | Conv2d           | 448    | train\n",
      "1 | conv2     | Conv2d           | 4.6 K  | train\n",
      "2 | fc1       | Linear           | 15.7 M | train\n",
      "3 | fc2       | Linear           | 11.7 K | train\n",
      "4 | loss_func | CrossEntropyLoss | 0      | train\n",
      "-------------------------------------------------------\n",
      "15.8 M    Trainable params\n",
      "0         Non-trainable params\n",
      "15.8 M    Total params\n",
      "63.048    Total estimated model params size (MB)\n"
     ]
    },
    {
     "data": {
      "application/vnd.jupyter.widget-view+json": {
       "model_id": "5ff6e29d2292496db3832a9943ca8973",
       "version_major": 2,
       "version_minor": 0
      },
      "text/plain": [
       "Training: |          | 0/? [00:00<?, ?it/s]"
      ]
     },
     "metadata": {},
     "output_type": "display_data"
    },
    {
     "name": "stdout",
     "output_type": "stream",
     "text": [
      "Epoch 0: Train Loss: 11.3713, Train Acc: 0.5567, Train F1: 0.3298, Train Recall: 0.4315, Train Precision: 0.8538\n",
      "Epoch 1: Train Loss: 11.0592, Train Acc: 0.5592, Train F1: 0.3379, Train Recall: 0.4381, Train Precision: 0.8566\n",
      "Epoch 2: Train Loss: 10.9116, Train Acc: 0.5592, Train F1: 0.3331, Train Recall: 0.4332, Train Precision: 0.8558\n",
      "Epoch 3: Train Loss: 10.8043, Train Acc: 0.5592, Train F1: 0.3309, Train Recall: 0.4314, Train Precision: 0.8549\n",
      "Epoch 4: Train Loss: 10.7141, Train Acc: 0.5592, Train F1: 0.3334, Train Recall: 0.4345, Train Precision: 0.8543\n"
     ]
    },
    {
     "name": "stderr",
     "output_type": "stream",
     "text": [
      "`Trainer.fit` stopped: `max_epochs=5` reached.\n"
     ]
    },
    {
     "name": "stdout",
     "output_type": "stream",
     "text": [
      "loading annotations into memory...\n",
      "Done (t=6.98s)\n",
      "creating index...\n"
     ]
    },
    {
     "name": "stderr",
     "output_type": "stream",
     "text": [
      "LOCAL_RANK: 0 - CUDA_VISIBLE_DEVICES: [0]\n"
     ]
    },
    {
     "name": "stdout",
     "output_type": "stream",
     "text": [
      "index created!\n"
     ]
    },
    {
     "name": "stderr",
     "output_type": "stream",
     "text": [
      "/usr/local/lib/python3.10/dist-packages/pytorch_lightning/trainer/connectors/data_connector.py:475: Your `val_dataloader`'s sampler has shuffling enabled, it is strongly recommended that you turn shuffling off for val/test dataloaders.\n"
     ]
    },
    {
     "data": {
      "application/vnd.jupyter.widget-view+json": {
       "model_id": "3b3df0a905c24234ac5756b610f6d39c",
       "version_major": 2,
       "version_minor": 0
      },
      "text/plain": [
       "Validation: |          | 0/? [00:00<?, ?it/s]"
      ]
     },
     "metadata": {},
     "output_type": "display_data"
    },
    {
     "name": "stdout",
     "output_type": "stream",
     "text": [
      "Epoch 5: Val Loss: 10.6521, Val Acc: 0.5592, Val F1: 0.3265, Val Recall: 0.4276, Val Precision: 0.8537\n",
      "--------------------------------------------------\n",
      "Optimizer: AdaMomentum, LR: 0.005, Betas: (0.85, 0.999)\n"
     ]
    },
    {
     "name": "stderr",
     "output_type": "stream",
     "text": [
      "GPU available: True (cuda), used: True\n",
      "TPU available: False, using: 0 TPU cores\n",
      "HPU available: False, using: 0 HPUs\n",
      "/usr/local/lib/python3.10/dist-packages/pytorch_lightning/trainer/configuration_validator.py:70: You defined a `validation_step` but have no `val_dataloader`. Skipping val loop.\n"
     ]
    },
    {
     "name": "stdout",
     "output_type": "stream",
     "text": [
      "loading annotations into memory...\n",
      "Done (t=9.72s)\n",
      "creating index...\n",
      "index created!\n"
     ]
    },
    {
     "name": "stderr",
     "output_type": "stream",
     "text": [
      "/usr/local/lib/python3.10/dist-packages/pytorch_lightning/callbacks/model_checkpoint.py:652: Checkpoint directory /notebooks/checkpoints exists and is not empty.\n",
      "LOCAL_RANK: 0 - CUDA_VISIBLE_DEVICES: [0]\n",
      "\n",
      "  | Name      | Type             | Params | Mode \n",
      "-------------------------------------------------------\n",
      "0 | conv1     | Conv2d           | 448    | train\n",
      "1 | conv2     | Conv2d           | 4.6 K  | train\n",
      "2 | fc1       | Linear           | 15.7 M | train\n",
      "3 | fc2       | Linear           | 11.7 K | train\n",
      "4 | loss_func | CrossEntropyLoss | 0      | train\n",
      "-------------------------------------------------------\n",
      "15.8 M    Trainable params\n",
      "0         Non-trainable params\n",
      "15.8 M    Total params\n",
      "63.048    Total estimated model params size (MB)\n"
     ]
    },
    {
     "data": {
      "application/vnd.jupyter.widget-view+json": {
       "model_id": "cb18220e03c344d38cb8b90a173a37a4",
       "version_major": 2,
       "version_minor": 0
      },
      "text/plain": [
       "Training: |          | 0/? [00:00<?, ?it/s]"
      ]
     },
     "metadata": {},
     "output_type": "display_data"
    },
    {
     "name": "stdout",
     "output_type": "stream",
     "text": [
      "Epoch 0: Train Loss: 12.6974, Train Acc: 0.5318, Train F1: 0.3163, Train Recall: 0.4260, Train Precision: 0.8479\n",
      "Epoch 1: Train Loss: 11.2762, Train Acc: 0.5603, Train F1: 0.3361, Train Recall: 0.4370, Train Precision: 0.8547\n",
      "Epoch 2: Train Loss: 11.2665, Train Acc: 0.5600, Train F1: 0.3325, Train Recall: 0.4335, Train Precision: 0.8546\n",
      "Epoch 3: Train Loss: 11.2657, Train Acc: 0.5603, Train F1: 0.3265, Train Recall: 0.4272, Train Precision: 0.8541\n",
      "Epoch 4: Train Loss: 11.2636, Train Acc: 0.5603, Train F1: 0.3303, Train Recall: 0.4308, Train Precision: 0.8549\n"
     ]
    },
    {
     "name": "stderr",
     "output_type": "stream",
     "text": [
      "`Trainer.fit` stopped: `max_epochs=5` reached.\n"
     ]
    },
    {
     "name": "stdout",
     "output_type": "stream",
     "text": [
      "loading annotations into memory...\n",
      "Done (t=6.92s)\n",
      "creating index...\n"
     ]
    },
    {
     "name": "stderr",
     "output_type": "stream",
     "text": [
      "LOCAL_RANK: 0 - CUDA_VISIBLE_DEVICES: [0]\n"
     ]
    },
    {
     "name": "stdout",
     "output_type": "stream",
     "text": [
      "index created!\n"
     ]
    },
    {
     "name": "stderr",
     "output_type": "stream",
     "text": [
      "/usr/local/lib/python3.10/dist-packages/pytorch_lightning/trainer/connectors/data_connector.py:475: Your `val_dataloader`'s sampler has shuffling enabled, it is strongly recommended that you turn shuffling off for val/test dataloaders.\n"
     ]
    },
    {
     "data": {
      "application/vnd.jupyter.widget-view+json": {
       "model_id": "b81239f54c7544d7827af145025d9a16",
       "version_major": 2,
       "version_minor": 0
      },
      "text/plain": [
       "Validation: |          | 0/? [00:00<?, ?it/s]"
      ]
     },
     "metadata": {},
     "output_type": "display_data"
    },
    {
     "name": "stdout",
     "output_type": "stream",
     "text": [
      "Epoch 5: Val Loss: 11.2481, Val Acc: 0.5603, Val F1: 0.3289, Val Recall: 0.4290, Val Precision: 0.8550\n",
      "--------------------------------------------------\n",
      "     optimizer     lr          betas   val_loss   val_acc    val_f1  \\\n",
      "0          SGD  0.005  (0.85, 0.999)  10.000397  0.470406  0.258108   \n",
      "1         Adam  0.005  (0.85, 0.999)  10.969838  0.533540  0.305197   \n",
      "2      RMSprop  0.005  (0.85, 0.999)  11.243604  0.554679  0.325991   \n",
      "3      Adagrad  0.005  (0.85, 0.999)   6.621710  0.501691  0.342798   \n",
      "4       Adamax  0.005  (0.85, 0.999)   9.862628  0.511838  0.290180   \n",
      "5     Adadelta  0.005  (0.85, 0.999)  10.652144  0.559188  0.326497   \n",
      "6  AdaMomentum  0.005  (0.85, 0.999)  11.248058  0.560316  0.328884   \n",
      "\n",
      "   val_recall  val_precision       time  \n",
      "0    0.469606       0.727475  36.257828  \n",
      "1    0.410843       0.849585  37.477546  \n",
      "2    0.427998       0.853193  43.231926  \n",
      "3    0.682719       0.604602  43.229856  \n",
      "4    0.464990       0.773296  43.602507  \n",
      "5    0.427603       0.853658  43.467299  \n",
      "6    0.428956       0.855029  52.980916  \n"
     ]
    },
    {
     "data": {
      "image/png": "[encoded data removed]",
      "text/plain": [
       "<Figure size 1000x400 with 1 Axes>"
      ]
     },
     "metadata": {},
     "output_type": "display_data"
    }
   ],
   "source": [
    "import time\n",
    "import torch\n",
    "import torch.nn as nn\n",
    "import torch.optim as optim\n",
    "import pytorch_lightning as pl\n",
    "from torchvision import transforms\n",
    "from torch.utils.data import DataLoader, random_split\n",
    "from torchvision.datasets import CocoDetection\n",
    "import matplotlib.pyplot as plt\n",
    "import pandas as pd\n",
    "from sklearn.metrics import accuracy_score, f1_score, recall_score, precision_score\n",
    "\n",
    "# AdaMomentum optimizer class\n",
    "class AdaMomentum(optim.Optimizer):\n",
    "    def __init__(self, params, lr=0.001, betas=(0.85, 0.999), eps=1e-8, weight_decay=0):\n",
    "        defaults = dict(lr=lr, betas=betas, eps=eps, weight_decay=weight_decay)\n",
    "        super(AdaMomentum, self).__init__(params, defaults)\n",
    "\n",
    "    def step(self, closure=None):\n",
    "        loss = None\n",
    "        if closure is not None:\n",
    "            loss = closure()\n",
    "\n",
    "        for group in self.param_groups:\n",
    "            beta1, beta2 = group['betas']\n",
    "            lr = group['lr']\n",
    "            eps = group['eps']\n",
    "            for p in group['params']:\n",
    "                if p.grad is None:\n",
    "                    continue\n",
    "                grad = p.grad.data\n",
    "                state = self.state[p]\n",
    "\n",
    "                if len(state) == 0:\n",
    "                    state['step'] = 0\n",
    "                    state['m'] = torch.zeros_like(p.data)\n",
    "                    state['v'] = torch.zeros_like(p.data)\n",
    "                    state['v_hat_prev'] = torch.zeros_like(p.data)\n",
    "\n",
    "                m, v = state['m'], state['v']\n",
    "                state['step'] += 1\n",
    "                step = state['step']\n",
    "\n",
    "                # Update m and v using in-place operations for efficiency\n",
    "                m.mul_(beta1).add_(grad, alpha=1 - beta1)\n",
    "                v.mul_(beta2).addcmul_(grad, grad, value=1 - beta2)\n",
    "\n",
    "                # Bias-corrected first and second moment estimate\n",
    "                m_hat = m / (1 - beta1 ** step)\n",
    "                v_hat = v / (1 - beta2 ** step)\n",
    "\n",
    "                # Dynamic learning rate adjustment\n",
    "                if step == 1:\n",
    "                    eta_t = lr\n",
    "                else:\n",
    "                    eta_t = lr * (torch.sqrt((v_hat / (state['v_hat_prev'] + eps)).mean()).clamp(max=10))\n",
    "\n",
    "                # Update parameters\n",
    "                p.data.addcdiv_(m_hat, torch.sqrt(v_hat) + eps, value=-eta_t)\n",
    "                state['v_hat_prev'].copy_(v_hat)\n",
    "\n",
    "        return loss\n",
    "\n",
    "class SimpleCNN(pl.LightningModule):\n",
    "    def __init__(self):\n",
    "        super(SimpleCNN, self).__init__()\n",
    "        self.conv1 = nn.Conv2d(3, 16, 3, 1)\n",
    "        self.conv2 = nn.Conv2d(16, 32, 3, 1)\n",
    "        self.fc1 = nn.Linear(32 * 62 * 62, 128)\n",
    "        self.fc2 = nn.Linear(128, 91)  # Assume 91 classes for the COCO dataset\n",
    "        self.loss_func = nn.CrossEntropyLoss()\n",
    "        self.train_outputs = []\n",
    "        self.val_outputs = []\n",
    "\n",
    "    def forward(self, x):\n",
    "        x = self.conv1(x)\n",
    "        x = nn.ReLU()(x)\n",
    "        x = nn.MaxPool2d(2)(x)\n",
    "        x = self.conv2(x)\n",
    "        x = nn.ReLU()(x)\n",
    "        x = nn.MaxPool2d(2)(x)\n",
    "        x = torch.flatten(x, 1)\n",
    "        x = self.fc1(x)\n",
    "        x = nn.ReLU()(x)\n",
    "        x = self.fc2(x)\n",
    "        return x\n",
    "\n",
    "    def training_step(self, batch, batch_idx):\n",
    "        images, targets = batch\n",
    "        outputs = self(images)\n",
    "        loss = self.loss_func(outputs, targets)\n",
    "        \n",
    "        # Calculate metrics\n",
    "        preds = outputs.argmax(dim=1).cpu()\n",
    "        targets = targets.argmax(dim=1).cpu()  # Convert multilabel to class index\n",
    "        \n",
    "        acc = accuracy_score(targets, preds)\n",
    "        f1 = f1_score(targets, preds, average='macro', zero_division=1)\n",
    "        recall = recall_score(targets, preds, average='macro', zero_division=1)\n",
    "        precision = precision_score(targets, preds, average='macro', zero_division=1)\n",
    "        \n",
    "        self.log('train_loss', loss)\n",
    "        self.log('train_acc', acc)\n",
    "        self.log('train_f1', f1)\n",
    "        self.log('train_recall', recall)\n",
    "        self.log('train_precision', precision)\n",
    "        \n",
    "        self.train_outputs.append({'loss': loss, 'train_acc': acc, 'train_f1': f1, 'train_recall': recall, 'train_precision': precision})\n",
    "        return {'loss': loss, 'train_acc': acc, 'train_f1': f1, 'train_recall': recall, 'train_precision': precision}\n",
    "    \n",
    "    def on_train_epoch_end(self):\n",
    "        if self.train_outputs:\n",
    "            avg_loss = torch.stack([x['loss'] for x in self.train_outputs]).mean()\n",
    "            avg_acc = torch.tensor([x['train_acc'] for x in self.train_outputs]).mean()\n",
    "            avg_f1 = torch.tensor([x['train_f1'] for x in self.train_outputs]).mean()\n",
    "            avg_recall = torch.tensor([x['train_recall'] for x in self.train_outputs]).mean()\n",
    "            avg_precision = torch.tensor([x['train_precision'] for x in self.train_outputs]).mean()\n",
    "            \n",
    "            print(f'Epoch {self.current_epoch}: Train Loss: {avg_loss:.4f}, Train Acc: {avg_acc:.4f}, Train F1: {avg_f1:.4f}, Train Recall: {avg_recall:.4f}, Train Precision: {avg_precision:.4f}')\n",
    "            self.train_outputs = []  # Clear outputs after logging\n",
    "    \n",
    "    def validation_step(self, batch, batch_idx):\n",
    "        images, targets = batch\n",
    "        outputs = self(images)\n",
    "        loss = self.loss_func(outputs, targets)\n",
    "        \n",
    "        # Calculate metrics\n",
    "        preds = outputs.argmax(dim=1).cpu()\n",
    "        targets = targets.argmax(dim=1).cpu()  # Convert multilabel to class index\n",
    "        \n",
    "        acc = accuracy_score(targets, preds)\n",
    "        f1 = f1_score(targets, preds, average='macro', zero_division=1)\n",
    "        recall = recall_score(targets, preds, average='macro', zero_division=1)\n",
    "        precision = precision_score(targets, preds, average='macro', zero_division=1)\n",
    "        \n",
    "        self.log('val_loss', loss, prog_bar=True)\n",
    "        self.log('val_acc', acc, prog_bar=True)\n",
    "        self.log('val_f1', f1, prog_bar=True)\n",
    "        self.log('val_recall', recall, prog_bar=True)\n",
    "        self.log('val_precision', precision, prog_bar=True)\n",
    "        \n",
    "        self.val_outputs.append({'val_loss': loss, 'val_acc': acc, 'val_f1': f1, 'val_recall': recall, 'val_precision': precision})\n",
    "        return {'val_loss': loss, 'val_acc': acc, 'val_f1': f1, 'val_recall': recall, 'val_precision': precision}\n",
    "\n",
    "    def on_validation_epoch_end(self):\n",
    "        if self.val_outputs:\n",
    "            avg_loss = torch.stack([x['val_loss'] for x in self.val_outputs]).mean()\n",
    "            avg_acc = torch.tensor([x['val_acc'] for x in self.val_outputs]).mean()\n",
    "            avg_f1 = torch.tensor([x['val_f1'] for x in self.val_outputs]).mean()\n",
    "            avg_recall = torch.tensor([x['val_recall'] for x in self.val_outputs]).mean()\n",
    "            avg_precision = torch.tensor([x['val_precision'] for x in self.val_outputs]).mean()\n",
    "            \n",
    "            print(f'Epoch {self.current_epoch}: Val Loss: {avg_loss:.4f}, Val Acc: {avg_acc:.4f}, Val F1: {avg_f1:.4f}, Val Recall: {avg_recall:.4f}, Val Precision: {avg_precision:.4f}')\n",
    "            self.val_outputs = []  # Clear outputs after logging\n",
    "\n",
    "    def configure_optimizers(self):\n",
    "        return optim.Adam(self.parameters(), lr=0.001)\n",
    "\n",
    "def collate_fn(batch):\n",
    "    images = []\n",
    "    targets_list = []\n",
    "    num_classes = 91  # ปรับให้ตรงกับจำนวนประเภทสูงสุดใน COCO dataset\n",
    "\n",
    "    for sample in batch:\n",
    "        image, targets = sample\n",
    "        images.append(image)\n",
    "        target_tensor = torch.zeros(num_classes)\n",
    "        for obj in targets:\n",
    "            category_id = obj['category_id'] - 1  # ลบ 1 เพื่อแปลง category_id ให้เริ่มต้นที่ 0\n",
    "            if category_id < num_classes:\n",
    "                target_tensor[category_id] = 1\n",
    "        targets_list.append(target_tensor)\n",
    "\n",
    "    images = torch.stack(images, 0)  # Convert list of images to a tensor stack\n",
    "    targets = torch.stack(targets_list, 0)  # Stack targets into a single tensor\n",
    "    return images, targets\n",
    "\n",
    "class COCODataModule(pl.LightningDataModule):\n",
    "    def __init__(self, data_dir, batch_size=4, sample_fraction=0.1):  # กำหนดค่า sample_fraction สำหรับการสุ่ม\n",
    "        super().__init__()\n",
    "        self.data_dir = data_dir\n",
    "        self.batch_size = batch_size\n",
    "        self.sample_fraction = sample_fraction\n",
    "        self.transform = transforms.Compose([\n",
    "            transforms.Resize((256, 256)),\n",
    "            transforms.ToTensor()\n",
    "        ])\n",
    "\n",
    "    def setup(self, stage=None):\n",
    "        train_img_dir = f'{self.data_dir}/train2017'\n",
    "        ann_file = f'{self.data_dir}/annotations/instances_train2017.json'\n",
    "        full_dataset = CocoDetection(root=train_img_dir, annFile=ann_file, transform=self.transform)\n",
    "        \n",
    "        # Compute the number of samples to be used\n",
    "        num_samples = int(len(full_dataset) * self.sample_fraction)\n",
    "        # Split the dataset\n",
    "        self.train_dataset, _ = random_split(full_dataset, [num_samples, len(full_dataset) - num_samples])\n",
    "\n",
    "    def train_dataloader(self):\n",
    "        return DataLoader(self.train_dataset, batch_size=self.batch_size, shuffle=True, num_workers=2, collate_fn=collate_fn)\n",
    "\n",
    "def evaluate_model(trainer, model, data_module):\n",
    "    results = trainer.validate(model, dataloaders=data_module.train_dataloader(), verbose=False)\n",
    "    avg_val_loss = results[0]['val_loss']\n",
    "    avg_val_acc = results[0]['val_acc']\n",
    "    avg_val_f1 = results[0]['val_f1']\n",
    "    avg_val_recall = results[0]['val_recall']\n",
    "    avg_val_precision = results[0]['val_precision']\n",
    "    return avg_val_loss, avg_val_acc, avg_val_f1, avg_val_recall, avg_val_precision\n",
    "\n",
    "# Initialize data module and model\n",
    "data_dir = '/notebooks/coco_data'  # กำหนด directory ของข้อมูล\n",
    "sample_fraction = 0.03  # กำหนดค่า sample_fraction สำหรับการสุ่ม\n",
    "data_module = COCODataModule(data_dir=data_dir, batch_size=4, sample_fraction=sample_fraction)\n",
    "\n",
    "# Define optimizers to evaluate\n",
    "optimizers = {\n",
    "    'SGD': optim.SGD,\n",
    "    'Adam': optim.Adam,\n",
    "    'RMSprop': optim.RMSprop,\n",
    "    'Adagrad': optim.Adagrad,\n",
    "    'Adamax': optim.Adamax,\n",
    "    'Adadelta': optim.Adadelta,\n",
    "    'AdaMomentum': AdaMomentum\n",
    "}\n",
    "\n",
    "learning_rates = [0.005]\n",
    "betas_values = [(0.85, 0.999)]\n",
    "\n",
    "results = []\n",
    "\n",
    "for name, optim_func in optimizers.items():\n",
    "    for lr in learning_rates:\n",
    "        for betas in betas_values:\n",
    "            print(f'Optimizer: {name}, LR: {lr}, Betas: {betas}')\n",
    "            model = SimpleCNN()\n",
    "            \n",
    "            if name == 'AdaMomentum':\n",
    "                optimizer = optim_func(model.parameters(), lr=lr, betas=betas)\n",
    "            else:\n",
    "                optimizer = optim_func(model.parameters(), lr=lr)\n",
    "\n",
    "            # Update model's optimizer\n",
    "            model.configure_optimizers = lambda: optimizer\n",
    "\n",
    "            trainer = pl.Trainer(max_epochs=5, logger=False, callbacks=[])\n",
    "            start_time = time.time()\n",
    "            trainer.fit(model, data_module)\n",
    "            end_time = time.time()\n",
    "            \n",
    "            # Evaluate model\n",
    "            val_loss, val_acc, val_f1, val_recall, val_precision = evaluate_model(trainer, model, data_module)\n",
    "            \n",
    "            results.append({\n",
    "                'optimizer': name,\n",
    "                'lr': lr,\n",
    "                'betas': betas,\n",
    "                'val_loss': val_loss,\n",
    "                'val_acc': val_acc,\n",
    "                'val_f1': val_f1,\n",
    "                'val_recall': val_recall,\n",
    "                'val_precision': val_precision,\n",
    "                'time': end_time - start_time\n",
    "            })\n",
    "            print('-' * 50)\n",
    "\n",
    "# Convert results to DataFrame for better visualization\n",
    "results_df = pd.DataFrame(results)\n",
    "\n",
    "# แสดงตารางสรุปผลลัพธ์\n",
    "print(results_df)\n",
    "\n",
    "# แสดงตารางในรูปแบบกราฟ\n",
    "fig, ax = plt.subplots(figsize=(10, 4))\n",
    "ax.axis('tight')\n",
    "ax.axis('off')\n",
    "table = ax.table(cellText=results_df.values, colLabels=results_df.columns, cellLoc='center', loc='center')\n",
    "table.auto_set_font_size(False)\n",
    "table.set_fontsize(10)\n",
    "table.scale(1.5, 1.5)\n",
    "\n",
    "plt.show()\n"
   ]
  },
  {
   "cell_type": "code",
   "execution_count": null,
   "id": "58c48d3c-fc00-440e-8db2-26155f7a8c52",
   "metadata": {},
   "outputs": [],
   "source": []
  }
 ],
 "metadata": {
  "kernelspec": {
   "display_name": "Python 3 (ipykernel)",
   "language": "python",
   "name": "python3"
  },
  "language_info": {
   "codemirror_mode": {
    "name": "ipython",
    "version": 3
   },
   "file_extension": ".py",
   "mimetype": "text/x-python",
   "name": "python",
   "nbconvert_exporter": "python",
   "pygments_lexer": "ipython3",
   "version": "3.10.12"
  }
 },
 "nbformat": 4,
 "nbformat_minor": 5
}
