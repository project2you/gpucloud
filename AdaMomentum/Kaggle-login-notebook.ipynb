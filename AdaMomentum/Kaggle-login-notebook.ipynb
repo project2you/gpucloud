{
 "cells": [
  {
   "cell_type": "code",
   "execution_count": 2,
   "id": "be7df2c4-b103-4f35-a5c1-1f1e3828a423",
   "metadata": {},
   "outputs": [
    {
     "name": "stdout",
     "output_type": "stream",
     "text": [
      "Collecting Kaggle\n",
      "  Downloading kaggle-1.6.14.tar.gz (82 kB)\n",
      "\u001b[2K     \u001b[90m━━━━━━━━━━━━━━━━━━━━━━━━━━━━━━━━━━━━━━━━\u001b[0m \u001b[32m82.1/82.1 kB\u001b[0m \u001b[31m2.5 MB/s\u001b[0m eta \u001b[36m0:00:00\u001b[0m\n",
      "\u001b[?25h  Preparing metadata (setup.py) ... \u001b[?25ldone\n",
      "\u001b[?25hRequirement already satisfied: bleach in /usr/local/lib/python3.10/dist-packages (from Kaggle) (6.1.0)\n",
      "Requirement already satisfied: certifi>=2023.7.22 in /usr/local/lib/python3.10/dist-packages (from Kaggle) (2024.6.2)\n",
      "Requirement already satisfied: python-dateutil in /usr/local/lib/python3.10/dist-packages (from Kaggle) (2.9.0.post0)\n",
      "Collecting python-slugify (from Kaggle)\n",
      "  Downloading python_slugify-8.0.4-py2.py3-none-any.whl.metadata (8.5 kB)\n",
      "Requirement already satisfied: requests in /usr/local/lib/python3.10/dist-packages (from Kaggle) (2.32.3)\n",
      "Requirement already satisfied: six>=1.10 in /usr/local/lib/python3.10/dist-packages (from Kaggle) (1.16.0)\n",
      "Requirement already satisfied: tqdm in /usr/local/lib/python3.10/dist-packages (from Kaggle) (4.66.4)\n",
      "Requirement already satisfied: urllib3 in /usr/local/lib/python3.10/dist-packages (from Kaggle) (2.2.1)\n",
      "Requirement already satisfied: webencodings in /usr/local/lib/python3.10/dist-packages (from bleach->Kaggle) (0.5.1)\n",
      "Collecting text-unidecode>=1.3 (from python-slugify->Kaggle)\n",
      "  Downloading text_unidecode-1.3-py2.py3-none-any.whl.metadata (2.4 kB)\n",
      "Requirement already satisfied: charset-normalizer<4,>=2 in /usr/local/lib/python3.10/dist-packages (from requests->Kaggle) (3.3.2)\n",
      "Requirement already satisfied: idna<4,>=2.5 in /usr/local/lib/python3.10/dist-packages (from requests->Kaggle) (3.7)\n",
      "Downloading python_slugify-8.0.4-py2.py3-none-any.whl (10 kB)\n",
      "Downloading text_unidecode-1.3-py2.py3-none-any.whl (78 kB)\n",
      "\u001b[2K   \u001b[90m━━━━━━━━━━━━━━━━━━━━━━━━━━━━━━━━━━━━━━━━\u001b[0m \u001b[32m78.2/78.2 kB\u001b[0m \u001b[31m19.5 MB/s\u001b[0m eta \u001b[36m0:00:00\u001b[0m\n",
      "\u001b[?25hBuilding wheels for collected packages: Kaggle\n",
      "  Building wheel for Kaggle (setup.py) ... \u001b[?25ldone\n",
      "\u001b[?25h  Created wheel for Kaggle: filename=kaggle-1.6.14-py3-none-any.whl size=105137 sha256=a82829efbb0782cfac0825b42868f5c52f0d508276961bb1ebfa596b9d34106c\n",
      "  Stored in directory: /root/.cache/pip/wheels/d7/54/06/8a8f40cb39536605feb9acaacd0237a95eba39e5065e6392f4\n",
      "Successfully built Kaggle\n",
      "Installing collected packages: text-unidecode, python-slugify, Kaggle\n",
      "Successfully installed Kaggle-1.6.14 python-slugify-8.0.4 text-unidecode-1.3\n",
      "\u001b[33mWARNING: Running pip as the 'root' user can result in broken permissions and conflicting behaviour with the system package manager. It is recommended to use a virtual environment instead: https://pip.pypa.io/warnings/venv\u001b[0m\u001b[33m\n",
      "\u001b[0m"
     ]
    }
   ],
   "source": [
    "!pip install Kaggle"
   ]
  },
  {
   "cell_type": "code",
   "execution_count": 7,
   "id": "e436c622-f8b7-42e9-a56f-c3ff6ba21e80",
   "metadata": {},
   "outputs": [
    {
     "name": "stderr",
     "output_type": "stream",
     "text": [
      "100%|██████████| 1.11G/1.11G [01:00<00:00, 18.4MiB/s] \n"
     ]
    },
    {
     "name": "stdout",
     "output_type": "stream",
     "text": [
      "Dataset adityajn105/flickr8k has been downloaded and extracted to kaggle_datasets\n"
     ]
    }
   ],
   "source": [
    "import os\n",
    "import json\n",
    "import requests\n",
    "from tqdm import tqdm\n",
    "\n",
    "# ตั้งค่า Kaggle API key\n",
    "kaggle_json = {\n",
    "    \"username\": \"project2youcompany\",\n",
    "    \"key\": \"7310f356c2d2587f78bc7bdb6bdaae21\"\n",
    "}\n",
    "\n",
    "# สร้างไฟล์ kaggle.json\n",
    "kaggle_dir = os.path.expanduser('~/.kaggle')\n",
    "os.makedirs(kaggle_dir, exist_ok=True)\n",
    "with open(os.path.join(kaggle_dir, 'kaggle.json'), 'w') as f:\n",
    "    json.dump(kaggle_json, f)\n",
    "\n",
    "# ตั้งค่า permission ให้กับไฟล์ kaggle.json\n",
    "os.chmod(os.path.join(kaggle_dir, 'kaggle.json'), 0o600)\n",
    "\n",
    "# กำหนด directory สำหรับเก็บ data sets\n",
    "dataset_dir = 'kaggle_datasets'\n",
    "os.makedirs(dataset_dir, exist_ok=True)\n",
    "\n",
    "# ชื่อ dataset ที่ต้องการโหลด\n",
    "dataset = 'adityajn105/flickr8k'\n",
    "\n",
    "# ดึง URL สำหรับดาวน์โหลดไฟล์\n",
    "kaggle_api_url = f\"https://www.kaggle.com/api/v1/datasets/download/{dataset}\"\n",
    "\n",
    "headers = {\n",
    "    \"Authorization\": f\"Bearer {kaggle_json['key']}\"\n",
    "}\n",
    "\n",
    "response = requests.get(kaggle_api_url, headers=headers, stream=True)\n",
    "if response.status_code != 200:\n",
    "    raise Exception(f\"Error downloading dataset: {response.status_code}\")\n",
    "\n",
    "# ดึงชื่อไฟล์จาก URL\n",
    "zip_filename = os.path.join(dataset_dir, f\"{dataset.split('/')[-1]}.zip\")\n",
    "\n",
    "# ดาวน์โหลดไฟล์พร้อมแสดงแถบความคืบหน้า\n",
    "total_size_in_bytes = int(response.headers.get('content-length', 0))\n",
    "block_size = 1024  # 1 Kibibyte\n",
    "progress_bar = tqdm(total=total_size_in_bytes, unit='iB', unit_scale=True)\n",
    "\n",
    "with open(zip_filename, 'wb') as file:\n",
    "    for data in response.iter_content(block_size):\n",
    "        progress_bar.update(len(data))\n",
    "        file.write(data)\n",
    "progress_bar.close()\n",
    "\n",
    "# ตรวจสอบว่าดาวน์โหลดไฟล์ครบถ้วนหรือไม่\n",
    "if total_size_in_bytes != 0 and progress_bar.n != total_size_in_bytes:\n",
    "    raise Exception(\"ERROR, something went wrong with the download\")\n",
    "\n",
    "# แตกไฟล์ zip ที่โหลดมา\n",
    "import zipfile\n",
    "\n",
    "with zipfile.ZipFile(zip_filename, 'r') as zip_ref:\n",
    "    zip_ref.extractall(dataset_dir)\n",
    "\n",
    "os.remove(zip_filename)  # ลบไฟล์ zip หลังจากแตกไฟล์แล้ว\n",
    "\n",
    "print(f'Dataset {dataset} has been downloaded and extracted to {dataset_dir}')\n"
   ]
  },
  {
   "cell_type": "code",
   "execution_count": null,
   "id": "24de04fc-0f4a-43c6-b714-678433688006",
   "metadata": {},
   "outputs": [],
   "source": []
  }
 ],
 "metadata": {
  "kernelspec": {
   "display_name": "Python 3 (ipykernel)",
   "language": "python",
   "name": "python3"
  },
  "language_info": {
   "codemirror_mode": {
    "name": "ipython",
    "version": 3
   },
   "file_extension": ".py",
   "mimetype": "text/x-python",
   "name": "python",
   "nbconvert_exporter": "python",
   "pygments_lexer": "ipython3",
   "version": "3.10.12"
  }
 },
 "nbformat": 4,
 "nbformat_minor": 5
}
